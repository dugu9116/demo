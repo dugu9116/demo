{
 "cells": [
  {
   "cell_type": "code",
   "execution_count": 54,
   "id": "742d0fdb",
   "metadata": {},
   "outputs": [],
   "source": [
    "import pandas as pd \n",
    "import numpy as np"
   ]
  },
  {
   "cell_type": "code",
   "execution_count": 55,
   "id": "061285cf",
   "metadata": {},
   "outputs": [],
   "source": [
    "mydata=pd.read_csv(r'C:\\Users\\IT-Department\\Desktop\\all dataset\\Labs.csv')"
   ]
  },
  {
   "cell_type": "code",
   "execution_count": 56,
   "id": "e00b80d8",
   "metadata": {},
   "outputs": [
    {
     "data": {
      "text/html": [
       "<div>\n",
       "<style scoped>\n",
       "    .dataframe tbody tr th:only-of-type {\n",
       "        vertical-align: middle;\n",
       "    }\n",
       "\n",
       "    .dataframe tbody tr th {\n",
       "        vertical-align: top;\n",
       "    }\n",
       "\n",
       "    .dataframe thead th {\n",
       "        text-align: right;\n",
       "    }\n",
       "</style>\n",
       "<table border=\"1\" class=\"dataframe\">\n",
       "  <thead>\n",
       "    <tr style=\"text-align: right;\">\n",
       "      <th></th>\n",
       "      <th>ID</th>\n",
       "      <th>DRAW_DATE</th>\n",
       "      <th>LAB_RESULT_CODE</th>\n",
       "      <th>LAB_VALUE</th>\n",
       "    </tr>\n",
       "  </thead>\n",
       "  <tbody>\n",
       "    <tr>\n",
       "      <th>0</th>\n",
       "      <td>1.0</td>\n",
       "      <td>04-Jul</td>\n",
       "      <td>LAB A</td>\n",
       "      <td>679</td>\n",
       "    </tr>\n",
       "    <tr>\n",
       "      <th>1</th>\n",
       "      <td>1.0</td>\n",
       "      <td>01-Aug</td>\n",
       "      <td>LAB A</td>\n",
       "      <td>621</td>\n",
       "    </tr>\n",
       "    <tr>\n",
       "      <th>2</th>\n",
       "      <td>1.0</td>\n",
       "      <td>05-Sep</td>\n",
       "      <td>LAB A</td>\n",
       "      <td>915</td>\n",
       "    </tr>\n",
       "    <tr>\n",
       "      <th>3</th>\n",
       "      <td>1.0</td>\n",
       "      <td>03-Oct</td>\n",
       "      <td>LAB A</td>\n",
       "      <td>848</td>\n",
       "    </tr>\n",
       "    <tr>\n",
       "      <th>4</th>\n",
       "      <td>1.0</td>\n",
       "      <td>07-Nov</td>\n",
       "      <td>LAB A</td>\n",
       "      <td>845</td>\n",
       "    </tr>\n",
       "    <tr>\n",
       "      <th>...</th>\n",
       "      <td>...</td>\n",
       "      <td>...</td>\n",
       "      <td>...</td>\n",
       "      <td>...</td>\n",
       "    </tr>\n",
       "    <tr>\n",
       "      <th>2392</th>\n",
       "      <td>129.0</td>\n",
       "      <td>16-Aug</td>\n",
       "      <td>LAB B</td>\n",
       "      <td>10.0</td>\n",
       "    </tr>\n",
       "    <tr>\n",
       "      <th>2393</th>\n",
       "      <td>129.0</td>\n",
       "      <td>04-Sep</td>\n",
       "      <td>LAB B</td>\n",
       "      <td>9.4</td>\n",
       "    </tr>\n",
       "    <tr>\n",
       "      <th>2394</th>\n",
       "      <td>129.0</td>\n",
       "      <td>05-Jul</td>\n",
       "      <td>LAB C</td>\n",
       "      <td>36</td>\n",
       "    </tr>\n",
       "    <tr>\n",
       "      <th>2395</th>\n",
       "      <td>129.0</td>\n",
       "      <td>02-Aug</td>\n",
       "      <td>LAB C</td>\n",
       "      <td>39</td>\n",
       "    </tr>\n",
       "    <tr>\n",
       "      <th>2396</th>\n",
       "      <td>129.0</td>\n",
       "      <td>04-Sep</td>\n",
       "      <td>LAB C</td>\n",
       "      <td>27</td>\n",
       "    </tr>\n",
       "  </tbody>\n",
       "</table>\n",
       "<p>2397 rows × 4 columns</p>\n",
       "</div>"
      ],
      "text/plain": [
       "         ID DRAW_DATE LAB_RESULT_CODE LAB_VALUE\n",
       "0       1.0    04-Jul           LAB A       679\n",
       "1       1.0    01-Aug           LAB A       621\n",
       "2       1.0    05-Sep           LAB A       915\n",
       "3       1.0    03-Oct           LAB A       848\n",
       "4       1.0    07-Nov           LAB A       845\n",
       "...     ...       ...             ...       ...\n",
       "2392  129.0    16-Aug           LAB B      10.0\n",
       "2393  129.0    04-Sep           LAB B       9.4\n",
       "2394  129.0    05-Jul           LAB C        36\n",
       "2395  129.0    02-Aug           LAB C        39\n",
       "2396  129.0    04-Sep           LAB C        27\n",
       "\n",
       "[2397 rows x 4 columns]"
      ]
     },
     "execution_count": 56,
     "metadata": {},
     "output_type": "execute_result"
    }
   ],
   "source": [
    "mydata"
   ]
  },
  {
   "cell_type": "code",
   "execution_count": 57,
   "id": "1e573749",
   "metadata": {},
   "outputs": [
    {
     "name": "stdout",
     "output_type": "stream",
     "text": [
      "         ID DRAW_DATE LAB_RESULT_CODE LAB_VALUE\n",
      "0       1.0    04-Jul           LAB A       679\n",
      "1       1.0    01-Aug           LAB A       621\n",
      "2       1.0    05-Sep           LAB A       915\n",
      "3       1.0    03-Oct           LAB A       848\n",
      "4       1.0    07-Nov           LAB A       845\n",
      "...     ...       ...             ...       ...\n",
      "2392  129.0    16-Aug           LAB B      10.0\n",
      "2393  129.0    04-Sep           LAB B       9.4\n",
      "2394  129.0    05-Jul           LAB C        36\n",
      "2395  129.0    02-Aug           LAB C        39\n",
      "2396  129.0    04-Sep           LAB C        27\n",
      "\n",
      "[2397 rows x 4 columns]\n"
     ]
    }
   ],
   "source": [
    "print(mydata)"
   ]
  },
  {
   "cell_type": "code",
   "execution_count": 58,
   "id": "fcb2d44c",
   "metadata": {},
   "outputs": [
    {
     "name": "stdout",
     "output_type": "stream",
     "text": [
      "    ID DRAW_DATE LAB_RESULT_CODE LAB_VALUE\n",
      "0  1.0    04-Jul           LAB A       679\n",
      "1  1.0    01-Aug           LAB A       621\n",
      "2  1.0    05-Sep           LAB A       915\n",
      "3  1.0    03-Oct           LAB A       848\n",
      "4  1.0    07-Nov           LAB A       845\n"
     ]
    }
   ],
   "source": [
    "# Display the first few rows of the dataset\n",
    "print(mydata.head())"
   ]
  },
  {
   "cell_type": "code",
   "execution_count": 59,
   "id": "f4c3a246",
   "metadata": {},
   "outputs": [
    {
     "name": "stdout",
     "output_type": "stream",
     "text": [
      "<class 'pandas.core.frame.DataFrame'>\n",
      "RangeIndex: 2397 entries, 0 to 2396\n",
      "Data columns (total 4 columns):\n",
      " #   Column           Non-Null Count  Dtype  \n",
      "---  ------           --------------  -----  \n",
      " 0   ID               2095 non-null   float64\n",
      " 1   DRAW_DATE        2397 non-null   object \n",
      " 2   LAB_RESULT_CODE  2397 non-null   object \n",
      " 3   LAB_VALUE        2397 non-null   object \n",
      "dtypes: float64(1), object(3)\n",
      "memory usage: 75.0+ KB\n",
      "None\n",
      "                ID\n",
      "count  2095.000000\n",
      "mean     65.557041\n",
      "std      38.453118\n",
      "min       1.000000\n",
      "25%      31.000000\n",
      "50%      66.000000\n",
      "75%      99.000000\n",
      "max     129.000000\n"
     ]
    }
   ],
   "source": [
    "# Basic info and summary statistics\n",
    "print(mydata.info())\n",
    "print(mydata.describe())"
   ]
  },
  {
   "cell_type": "code",
   "execution_count": 60,
   "id": "7835f187",
   "metadata": {},
   "outputs": [
    {
     "name": "stdout",
     "output_type": "stream",
     "text": [
      "ID                 302\n",
      "DRAW_DATE            0\n",
      "LAB_RESULT_CODE      0\n",
      "LAB_VALUE            0\n",
      "dtype: int64\n"
     ]
    }
   ],
   "source": [
    "# Check for missing values\n",
    "print(mydata.isnull().sum())"
   ]
  },
  {
   "cell_type": "code",
   "execution_count": 61,
   "id": "bbd6c9af",
   "metadata": {},
   "outputs": [
    {
     "name": "stdout",
     "output_type": "stream",
     "text": [
      "         ID DRAW_DATE LAB_RESULT_CODE LAB_VALUE\n",
      "0       1.0    04-Jul           LAB A       679\n",
      "1       1.0    01-Aug           LAB A       621\n",
      "2       1.0    05-Sep           LAB A       915\n",
      "3       1.0    03-Oct           LAB A       848\n",
      "4       1.0    07-Nov           LAB A       845\n",
      "...     ...       ...             ...       ...\n",
      "2392  129.0    16-Aug           LAB B      10.0\n",
      "2393  129.0    04-Sep           LAB B       9.4\n",
      "2394  129.0    05-Jul           LAB C        36\n",
      "2395  129.0    02-Aug           LAB C        39\n",
      "2396  129.0    04-Sep           LAB C        27\n",
      "\n",
      "[2095 rows x 4 columns]\n"
     ]
    }
   ],
   "source": [
    "# For example, drop rows with missing values\n",
    "mydata=mydata.dropna()\n",
    "print(mydata)"
   ]
  },
  {
   "cell_type": "code",
   "execution_count": 98,
   "id": "c490777b",
   "metadata": {},
   "outputs": [],
   "source": [
    "# For example, drop rows with missing values\n",
    "data = data.dropna()\n"
   ]
  },
  {
   "cell_type": "code",
   "execution_count": 99,
   "id": "5e693c2e",
   "metadata": {},
   "outputs": [
    {
     "name": "stdout",
     "output_type": "stream",
     "text": [
      "         ID DRAW_DATE LAB_RESULT_CODE LAB_VALUE\n",
      "0       1.0    04-Jul           LAB A       679\n",
      "1       1.0    01-Aug           LAB A       621\n",
      "2       1.0    05-Sep           LAB A       915\n",
      "3       1.0    03-Oct           LAB A       848\n",
      "4       1.0    07-Nov           LAB A       845\n",
      "...     ...       ...             ...       ...\n",
      "2392  129.0    16-Aug           LAB B      10.0\n",
      "2393  129.0    04-Sep           LAB B       9.4\n",
      "2394  129.0    05-Jul           LAB C        36\n",
      "2395  129.0    02-Aug           LAB C        39\n",
      "2396  129.0    04-Sep           LAB C        27\n",
      "\n",
      "[2095 rows x 4 columns]\n"
     ]
    }
   ],
   "source": [
    "print(data)"
   ]
  },
  {
   "cell_type": "code",
   "execution_count": 102,
   "id": "83ab3cda",
   "metadata": {},
   "outputs": [],
   "source": [
    "# Select numerical columns for anomaly detection\n",
    "# Adjust this based on your dataset's actual column names\n",
    "numeric_columns = data.select_dtypes(include=[np.number]).columns.tolist()\n",
    "X = data[numeric_columns]"
   ]
  },
  {
   "cell_type": "code",
   "execution_count": 103,
   "id": "f9bf3712",
   "metadata": {},
   "outputs": [
    {
     "name": "stdout",
     "output_type": "stream",
     "text": [
      "['ID']\n"
     ]
    }
   ],
   "source": [
    "print(numeric_columns)"
   ]
  },
  {
   "cell_type": "code",
   "execution_count": 123,
   "id": "3b163bb8",
   "metadata": {},
   "outputs": [],
   "source": [
    "from sklearn.preprocessing import StandardScaler\n",
    "\n",
    "scaler = StandardScaler()\n",
    "X_scaled = scaler.fit_transform(X)"
   ]
  },
  {
   "cell_type": "code",
   "execution_count": 124,
   "id": "7487d406",
   "metadata": {},
   "outputs": [
    {
     "name": "stdout",
     "output_type": "stream",
     "text": [
      "StandardScaler()\n",
      "[[-1.67925144]\n",
      " [-1.67925144]\n",
      " [-1.67925144]\n",
      " ...\n",
      " [ 1.65027207]\n",
      " [ 1.65027207]\n",
      " [ 1.65027207]]\n"
     ]
    }
   ],
   "source": [
    "print(scaler)\n",
    "print(X_scaled)"
   ]
  },
  {
   "cell_type": "code",
   "execution_count": 125,
   "id": "e7bef5e2",
   "metadata": {},
   "outputs": [],
   "source": [
    "from sklearn.ensemble import IsolationForest"
   ]
  },
  {
   "cell_type": "code",
   "execution_count": 126,
   "id": "a61235d0",
   "metadata": {},
   "outputs": [],
   "source": [
    "# Initialize the Isolation Forest model\n",
    "model = IsolationForest(contamination=0.05, random_state=42)"
   ]
  },
  {
   "cell_type": "code",
   "execution_count": 128,
   "id": "83eccc38",
   "metadata": {},
   "outputs": [
    {
     "data": {
      "text/html": [
       "<style>#sk-container-id-2 {color: black;}#sk-container-id-2 pre{padding: 0;}#sk-container-id-2 div.sk-toggleable {background-color: white;}#sk-container-id-2 label.sk-toggleable__label {cursor: pointer;display: block;width: 100%;margin-bottom: 0;padding: 0.3em;box-sizing: border-box;text-align: center;}#sk-container-id-2 label.sk-toggleable__label-arrow:before {content: \"▸\";float: left;margin-right: 0.25em;color: #696969;}#sk-container-id-2 label.sk-toggleable__label-arrow:hover:before {color: black;}#sk-container-id-2 div.sk-estimator:hover label.sk-toggleable__label-arrow:before {color: black;}#sk-container-id-2 div.sk-toggleable__content {max-height: 0;max-width: 0;overflow: hidden;text-align: left;background-color: #f0f8ff;}#sk-container-id-2 div.sk-toggleable__content pre {margin: 0.2em;color: black;border-radius: 0.25em;background-color: #f0f8ff;}#sk-container-id-2 input.sk-toggleable__control:checked~div.sk-toggleable__content {max-height: 200px;max-width: 100%;overflow: auto;}#sk-container-id-2 input.sk-toggleable__control:checked~label.sk-toggleable__label-arrow:before {content: \"▾\";}#sk-container-id-2 div.sk-estimator input.sk-toggleable__control:checked~label.sk-toggleable__label {background-color: #d4ebff;}#sk-container-id-2 div.sk-label input.sk-toggleable__control:checked~label.sk-toggleable__label {background-color: #d4ebff;}#sk-container-id-2 input.sk-hidden--visually {border: 0;clip: rect(1px 1px 1px 1px);clip: rect(1px, 1px, 1px, 1px);height: 1px;margin: -1px;overflow: hidden;padding: 0;position: absolute;width: 1px;}#sk-container-id-2 div.sk-estimator {font-family: monospace;background-color: #f0f8ff;border: 1px dotted black;border-radius: 0.25em;box-sizing: border-box;margin-bottom: 0.5em;}#sk-container-id-2 div.sk-estimator:hover {background-color: #d4ebff;}#sk-container-id-2 div.sk-parallel-item::after {content: \"\";width: 100%;border-bottom: 1px solid gray;flex-grow: 1;}#sk-container-id-2 div.sk-label:hover label.sk-toggleable__label {background-color: #d4ebff;}#sk-container-id-2 div.sk-serial::before {content: \"\";position: absolute;border-left: 1px solid gray;box-sizing: border-box;top: 0;bottom: 0;left: 50%;z-index: 0;}#sk-container-id-2 div.sk-serial {display: flex;flex-direction: column;align-items: center;background-color: white;padding-right: 0.2em;padding-left: 0.2em;position: relative;}#sk-container-id-2 div.sk-item {position: relative;z-index: 1;}#sk-container-id-2 div.sk-parallel {display: flex;align-items: stretch;justify-content: center;background-color: white;position: relative;}#sk-container-id-2 div.sk-item::before, #sk-container-id-2 div.sk-parallel-item::before {content: \"\";position: absolute;border-left: 1px solid gray;box-sizing: border-box;top: 0;bottom: 0;left: 50%;z-index: -1;}#sk-container-id-2 div.sk-parallel-item {display: flex;flex-direction: column;z-index: 1;position: relative;background-color: white;}#sk-container-id-2 div.sk-parallel-item:first-child::after {align-self: flex-end;width: 50%;}#sk-container-id-2 div.sk-parallel-item:last-child::after {align-self: flex-start;width: 50%;}#sk-container-id-2 div.sk-parallel-item:only-child::after {width: 0;}#sk-container-id-2 div.sk-dashed-wrapped {border: 1px dashed gray;margin: 0 0.4em 0.5em 0.4em;box-sizing: border-box;padding-bottom: 0.4em;background-color: white;}#sk-container-id-2 div.sk-label label {font-family: monospace;font-weight: bold;display: inline-block;line-height: 1.2em;}#sk-container-id-2 div.sk-label-container {text-align: center;}#sk-container-id-2 div.sk-container {/* jupyter's `normalize.less` sets `[hidden] { display: none; }` but bootstrap.min.css set `[hidden] { display: none !important; }` so we also need the `!important` here to be able to override the default hidden behavior on the sphinx rendered scikit-learn.org. See: https://github.com/scikit-learn/scikit-learn/issues/21755 */display: inline-block !important;position: relative;}#sk-container-id-2 div.sk-text-repr-fallback {display: none;}</style><div id=\"sk-container-id-2\" class=\"sk-top-container\"><div class=\"sk-text-repr-fallback\"><pre>IsolationForest(contamination=0.05, random_state=42)</pre><b>In a Jupyter environment, please rerun this cell to show the HTML representation or trust the notebook. <br />On GitHub, the HTML representation is unable to render, please try loading this page with nbviewer.org.</b></div><div class=\"sk-container\" hidden><div class=\"sk-item\"><div class=\"sk-estimator sk-toggleable\"><input class=\"sk-toggleable__control sk-hidden--visually\" id=\"sk-estimator-id-2\" type=\"checkbox\" checked><label for=\"sk-estimator-id-2\" class=\"sk-toggleable__label sk-toggleable__label-arrow\">IsolationForest</label><div class=\"sk-toggleable__content\"><pre>IsolationForest(contamination=0.05, random_state=42)</pre></div></div></div></div></div>"
      ],
      "text/plain": [
       "IsolationForest(contamination=0.05, random_state=42)"
      ]
     },
     "execution_count": 128,
     "metadata": {},
     "output_type": "execute_result"
    }
   ],
   "source": [
    "# Fit the model\n",
    "model.fit(X_scaled)"
   ]
  },
  {
   "cell_type": "code",
   "execution_count": 129,
   "id": "783e3d20",
   "metadata": {},
   "outputs": [],
   "source": [
    "# Predict anomalies\n",
    "data['anomaly'] = model.predict(X_scaled)"
   ]
  },
  {
   "cell_type": "code",
   "execution_count": 130,
   "id": "52e349ce",
   "metadata": {},
   "outputs": [
    {
     "name": "stdout",
     "output_type": "stream",
     "text": [
      "0      -1\n",
      "1      -1\n",
      "2      -1\n",
      "3      -1\n",
      "4      -1\n",
      "       ..\n",
      "2392   -1\n",
      "2393   -1\n",
      "2394   -1\n",
      "2395   -1\n",
      "2396   -1\n",
      "Name: anomaly, Length: 2095, dtype: int32\n"
     ]
    }
   ],
   "source": [
    "print(data['anomaly'])"
   ]
  },
  {
   "cell_type": "code",
   "execution_count": 131,
   "id": "4a273f6e",
   "metadata": {},
   "outputs": [],
   "source": [
    "# Convert -1 (anomaly) to 1 and 1 (normal) to 0 for easier interpretation\n",
    "data['anomaly'] = np.where(data['anomaly'] == -1, 1, 0)"
   ]
  },
  {
   "cell_type": "code",
   "execution_count": 133,
   "id": "604b129a",
   "metadata": {},
   "outputs": [
    {
     "name": "stdout",
     "output_type": "stream",
     "text": [
      "Detected Anomalies:\n",
      "          ID DRAW_DATE LAB_RESULT_CODE LAB_VALUE  anomaly\n",
      "0       1.0    04-Jul           LAB A       679        1\n",
      "1       1.0    01-Aug           LAB A       621        1\n",
      "2       1.0    05-Sep           LAB A       915        1\n",
      "3       1.0    03-Oct           LAB A       848        1\n",
      "4       1.0    07-Nov           LAB A       845        1\n",
      "...     ...       ...             ...       ...      ...\n",
      "2392  129.0    16-Aug           LAB B      10.0        1\n",
      "2393  129.0    04-Sep           LAB B       9.4        1\n",
      "2394  129.0    05-Jul           LAB C        36        1\n",
      "2395  129.0    02-Aug           LAB C        39        1\n",
      "2396  129.0    04-Sep           LAB C        27        1\n",
      "\n",
      "[100 rows x 5 columns]\n"
     ]
    }
   ],
   "source": [
    "# Display anomalies\n",
    "anomalies = data[data['anomaly'] == 1]\n",
    "print(\"Detected Anomalies:\\n\", anomalies)\n"
   ]
  },
  {
   "cell_type": "code",
   "execution_count": 136,
   "id": "3c6ecbd0",
   "metadata": {},
   "outputs": [],
   "source": [
    "import joblib\n",
    "\n",
    "# Save the model\n",
    "joblib.dump(model, 'anomaly_detection_model.pkl')\n",
    "\n",
    "# Load the model later\n",
    "loaded_model = joblib.load('anomaly_detection_model.pkl')\n"
   ]
  },
  {
   "cell_type": "code",
   "execution_count": 137,
   "id": "5ed8c698",
   "metadata": {},
   "outputs": [
    {
     "name": "stdout",
     "output_type": "stream",
     "text": [
      "IsolationForest(contamination=0.05, random_state=42)\n"
     ]
    }
   ],
   "source": [
    "print(loaded_model)"
   ]
  },
  {
   "cell_type": "code",
   "execution_count": 138,
   "id": "0c66bcdc",
   "metadata": {},
   "outputs": [
    {
     "name": "stdout",
     "output_type": "stream",
     "text": [
      "<function dump at 0x000001C12498FBA0>\n"
     ]
    }
   ],
   "source": [
    "print(joblib.dump)"
   ]
  },
  {
   "cell_type": "code",
   "execution_count": null,
   "id": "58c6be8e",
   "metadata": {},
   "outputs": [],
   "source": []
  }
 ],
 "metadata": {
  "kernelspec": {
   "display_name": "Python 3 (ipykernel)",
   "language": "python",
   "name": "python3"
  },
  "language_info": {
   "codemirror_mode": {
    "name": "ipython",
    "version": 3
   },
   "file_extension": ".py",
   "mimetype": "text/x-python",
   "name": "python",
   "nbconvert_exporter": "python",
   "pygments_lexer": "ipython3",
   "version": "3.11.5"
  }
 },
 "nbformat": 4,
 "nbformat_minor": 5
}
