{
 "cells": [
  {
   "cell_type": "code",
   "execution_count": 4,
   "id": "c63e9427",
   "metadata": {},
   "outputs": [],
   "source": [
    "import pandas as pd "
   ]
  },
  {
   "cell_type": "code",
   "execution_count": 5,
   "id": "5388a70d",
   "metadata": {},
   "outputs": [],
   "source": [
    "mydata=pd.read_csv(r'C:\\Users\\IT-Department\\Desktop\\Credit Card Customer Data.csv')"
   ]
  },
  {
   "cell_type": "code",
   "execution_count": 6,
   "id": "e23ffff4",
   "metadata": {},
   "outputs": [
    {
     "data": {
      "text/html": [
       "<div>\n",
       "<style scoped>\n",
       "    .dataframe tbody tr th:only-of-type {\n",
       "        vertical-align: middle;\n",
       "    }\n",
       "\n",
       "    .dataframe tbody tr th {\n",
       "        vertical-align: top;\n",
       "    }\n",
       "\n",
       "    .dataframe thead th {\n",
       "        text-align: right;\n",
       "    }\n",
       "</style>\n",
       "<table border=\"1\" class=\"dataframe\">\n",
       "  <thead>\n",
       "    <tr style=\"text-align: right;\">\n",
       "      <th></th>\n",
       "      <th>Sl_No</th>\n",
       "      <th>Customer Key</th>\n",
       "      <th>Avg_Credit_Limit</th>\n",
       "      <th>Total_Credit_Cards</th>\n",
       "      <th>Total_visits_bank</th>\n",
       "      <th>Total_visits_online</th>\n",
       "      <th>Total_calls_made</th>\n",
       "    </tr>\n",
       "  </thead>\n",
       "  <tbody>\n",
       "    <tr>\n",
       "      <th>0</th>\n",
       "      <td>1</td>\n",
       "      <td>87073</td>\n",
       "      <td>100000</td>\n",
       "      <td>2</td>\n",
       "      <td>1</td>\n",
       "      <td>1</td>\n",
       "      <td>0</td>\n",
       "    </tr>\n",
       "    <tr>\n",
       "      <th>1</th>\n",
       "      <td>2</td>\n",
       "      <td>38414</td>\n",
       "      <td>50000</td>\n",
       "      <td>3</td>\n",
       "      <td>0</td>\n",
       "      <td>10</td>\n",
       "      <td>9</td>\n",
       "    </tr>\n",
       "    <tr>\n",
       "      <th>2</th>\n",
       "      <td>3</td>\n",
       "      <td>17341</td>\n",
       "      <td>50000</td>\n",
       "      <td>7</td>\n",
       "      <td>1</td>\n",
       "      <td>3</td>\n",
       "      <td>4</td>\n",
       "    </tr>\n",
       "    <tr>\n",
       "      <th>3</th>\n",
       "      <td>4</td>\n",
       "      <td>40496</td>\n",
       "      <td>30000</td>\n",
       "      <td>5</td>\n",
       "      <td>1</td>\n",
       "      <td>1</td>\n",
       "      <td>4</td>\n",
       "    </tr>\n",
       "    <tr>\n",
       "      <th>4</th>\n",
       "      <td>5</td>\n",
       "      <td>47437</td>\n",
       "      <td>100000</td>\n",
       "      <td>6</td>\n",
       "      <td>0</td>\n",
       "      <td>12</td>\n",
       "      <td>3</td>\n",
       "    </tr>\n",
       "    <tr>\n",
       "      <th>...</th>\n",
       "      <td>...</td>\n",
       "      <td>...</td>\n",
       "      <td>...</td>\n",
       "      <td>...</td>\n",
       "      <td>...</td>\n",
       "      <td>...</td>\n",
       "      <td>...</td>\n",
       "    </tr>\n",
       "    <tr>\n",
       "      <th>655</th>\n",
       "      <td>656</td>\n",
       "      <td>51108</td>\n",
       "      <td>99000</td>\n",
       "      <td>10</td>\n",
       "      <td>1</td>\n",
       "      <td>10</td>\n",
       "      <td>0</td>\n",
       "    </tr>\n",
       "    <tr>\n",
       "      <th>656</th>\n",
       "      <td>657</td>\n",
       "      <td>60732</td>\n",
       "      <td>84000</td>\n",
       "      <td>10</td>\n",
       "      <td>1</td>\n",
       "      <td>13</td>\n",
       "      <td>2</td>\n",
       "    </tr>\n",
       "    <tr>\n",
       "      <th>657</th>\n",
       "      <td>658</td>\n",
       "      <td>53834</td>\n",
       "      <td>145000</td>\n",
       "      <td>8</td>\n",
       "      <td>1</td>\n",
       "      <td>9</td>\n",
       "      <td>1</td>\n",
       "    </tr>\n",
       "    <tr>\n",
       "      <th>658</th>\n",
       "      <td>659</td>\n",
       "      <td>80655</td>\n",
       "      <td>172000</td>\n",
       "      <td>10</td>\n",
       "      <td>1</td>\n",
       "      <td>15</td>\n",
       "      <td>0</td>\n",
       "    </tr>\n",
       "    <tr>\n",
       "      <th>659</th>\n",
       "      <td>660</td>\n",
       "      <td>80150</td>\n",
       "      <td>167000</td>\n",
       "      <td>9</td>\n",
       "      <td>0</td>\n",
       "      <td>12</td>\n",
       "      <td>2</td>\n",
       "    </tr>\n",
       "  </tbody>\n",
       "</table>\n",
       "<p>660 rows × 7 columns</p>\n",
       "</div>"
      ],
      "text/plain": [
       "     Sl_No  Customer Key  Avg_Credit_Limit  Total_Credit_Cards  \\\n",
       "0        1         87073            100000                   2   \n",
       "1        2         38414             50000                   3   \n",
       "2        3         17341             50000                   7   \n",
       "3        4         40496             30000                   5   \n",
       "4        5         47437            100000                   6   \n",
       "..     ...           ...               ...                 ...   \n",
       "655    656         51108             99000                  10   \n",
       "656    657         60732             84000                  10   \n",
       "657    658         53834            145000                   8   \n",
       "658    659         80655            172000                  10   \n",
       "659    660         80150            167000                   9   \n",
       "\n",
       "     Total_visits_bank  Total_visits_online  Total_calls_made  \n",
       "0                    1                    1                 0  \n",
       "1                    0                   10                 9  \n",
       "2                    1                    3                 4  \n",
       "3                    1                    1                 4  \n",
       "4                    0                   12                 3  \n",
       "..                 ...                  ...               ...  \n",
       "655                  1                   10                 0  \n",
       "656                  1                   13                 2  \n",
       "657                  1                    9                 1  \n",
       "658                  1                   15                 0  \n",
       "659                  0                   12                 2  \n",
       "\n",
       "[660 rows x 7 columns]"
      ]
     },
     "execution_count": 6,
     "metadata": {},
     "output_type": "execute_result"
    }
   ],
   "source": [
    "mydata"
   ]
  },
  {
   "cell_type": "code",
   "execution_count": 17,
   "id": "2c529640",
   "metadata": {},
   "outputs": [],
   "source": [
    "X = mydata.drop(columns=['Sl_No', 'Customer Key', 'Avg_Credit_Limit'])  # Independent variables"
   ]
  },
  {
   "cell_type": "code",
   "execution_count": 18,
   "id": "e1b5feb6",
   "metadata": {},
   "outputs": [
    {
     "data": {
      "text/html": [
       "<div>\n",
       "<style scoped>\n",
       "    .dataframe tbody tr th:only-of-type {\n",
       "        vertical-align: middle;\n",
       "    }\n",
       "\n",
       "    .dataframe tbody tr th {\n",
       "        vertical-align: top;\n",
       "    }\n",
       "\n",
       "    .dataframe thead th {\n",
       "        text-align: right;\n",
       "    }\n",
       "</style>\n",
       "<table border=\"1\" class=\"dataframe\">\n",
       "  <thead>\n",
       "    <tr style=\"text-align: right;\">\n",
       "      <th></th>\n",
       "      <th>Total_Credit_Cards</th>\n",
       "      <th>Total_visits_bank</th>\n",
       "      <th>Total_visits_online</th>\n",
       "      <th>Total_calls_made</th>\n",
       "    </tr>\n",
       "  </thead>\n",
       "  <tbody>\n",
       "    <tr>\n",
       "      <th>0</th>\n",
       "      <td>2</td>\n",
       "      <td>1</td>\n",
       "      <td>1</td>\n",
       "      <td>0</td>\n",
       "    </tr>\n",
       "    <tr>\n",
       "      <th>1</th>\n",
       "      <td>3</td>\n",
       "      <td>0</td>\n",
       "      <td>10</td>\n",
       "      <td>9</td>\n",
       "    </tr>\n",
       "    <tr>\n",
       "      <th>2</th>\n",
       "      <td>7</td>\n",
       "      <td>1</td>\n",
       "      <td>3</td>\n",
       "      <td>4</td>\n",
       "    </tr>\n",
       "    <tr>\n",
       "      <th>3</th>\n",
       "      <td>5</td>\n",
       "      <td>1</td>\n",
       "      <td>1</td>\n",
       "      <td>4</td>\n",
       "    </tr>\n",
       "    <tr>\n",
       "      <th>4</th>\n",
       "      <td>6</td>\n",
       "      <td>0</td>\n",
       "      <td>12</td>\n",
       "      <td>3</td>\n",
       "    </tr>\n",
       "    <tr>\n",
       "      <th>...</th>\n",
       "      <td>...</td>\n",
       "      <td>...</td>\n",
       "      <td>...</td>\n",
       "      <td>...</td>\n",
       "    </tr>\n",
       "    <tr>\n",
       "      <th>655</th>\n",
       "      <td>10</td>\n",
       "      <td>1</td>\n",
       "      <td>10</td>\n",
       "      <td>0</td>\n",
       "    </tr>\n",
       "    <tr>\n",
       "      <th>656</th>\n",
       "      <td>10</td>\n",
       "      <td>1</td>\n",
       "      <td>13</td>\n",
       "      <td>2</td>\n",
       "    </tr>\n",
       "    <tr>\n",
       "      <th>657</th>\n",
       "      <td>8</td>\n",
       "      <td>1</td>\n",
       "      <td>9</td>\n",
       "      <td>1</td>\n",
       "    </tr>\n",
       "    <tr>\n",
       "      <th>658</th>\n",
       "      <td>10</td>\n",
       "      <td>1</td>\n",
       "      <td>15</td>\n",
       "      <td>0</td>\n",
       "    </tr>\n",
       "    <tr>\n",
       "      <th>659</th>\n",
       "      <td>9</td>\n",
       "      <td>0</td>\n",
       "      <td>12</td>\n",
       "      <td>2</td>\n",
       "    </tr>\n",
       "  </tbody>\n",
       "</table>\n",
       "<p>660 rows × 4 columns</p>\n",
       "</div>"
      ],
      "text/plain": [
       "     Total_Credit_Cards  Total_visits_bank  Total_visits_online  \\\n",
       "0                     2                  1                    1   \n",
       "1                     3                  0                   10   \n",
       "2                     7                  1                    3   \n",
       "3                     5                  1                    1   \n",
       "4                     6                  0                   12   \n",
       "..                  ...                ...                  ...   \n",
       "655                  10                  1                   10   \n",
       "656                  10                  1                   13   \n",
       "657                   8                  1                    9   \n",
       "658                  10                  1                   15   \n",
       "659                   9                  0                   12   \n",
       "\n",
       "     Total_calls_made  \n",
       "0                   0  \n",
       "1                   9  \n",
       "2                   4  \n",
       "3                   4  \n",
       "4                   3  \n",
       "..                ...  \n",
       "655                 0  \n",
       "656                 2  \n",
       "657                 1  \n",
       "658                 0  \n",
       "659                 2  \n",
       "\n",
       "[660 rows x 4 columns]"
      ]
     },
     "execution_count": 18,
     "metadata": {},
     "output_type": "execute_result"
    }
   ],
   "source": [
    "X"
   ]
  },
  {
   "cell_type": "code",
   "execution_count": 19,
   "id": "b7f0a242",
   "metadata": {},
   "outputs": [
    {
     "name": "stdout",
     "output_type": "stream",
     "text": [
      "     Total_Credit_Cards  Total_visits_bank  Total_visits_online  \\\n",
      "0                     2                  1                    1   \n",
      "1                     3                  0                   10   \n",
      "2                     7                  1                    3   \n",
      "3                     5                  1                    1   \n",
      "4                     6                  0                   12   \n",
      "..                  ...                ...                  ...   \n",
      "655                  10                  1                   10   \n",
      "656                  10                  1                   13   \n",
      "657                   8                  1                    9   \n",
      "658                  10                  1                   15   \n",
      "659                   9                  0                   12   \n",
      "\n",
      "     Total_calls_made  \n",
      "0                   0  \n",
      "1                   9  \n",
      "2                   4  \n",
      "3                   4  \n",
      "4                   3  \n",
      "..                ...  \n",
      "655                 0  \n",
      "656                 2  \n",
      "657                 1  \n",
      "658                 0  \n",
      "659                 2  \n",
      "\n",
      "[660 rows x 4 columns]      Sl_No  Customer Key  Avg_Credit_Limit  Total_Credit_Cards  \\\n",
      "0        1         87073            100000                   2   \n",
      "1        2         38414             50000                   3   \n",
      "2        3         17341             50000                   7   \n",
      "3        4         40496             30000                   5   \n",
      "4        5         47437            100000                   6   \n",
      "..     ...           ...               ...                 ...   \n",
      "655    656         51108             99000                  10   \n",
      "656    657         60732             84000                  10   \n",
      "657    658         53834            145000                   8   \n",
      "658    659         80655            172000                  10   \n",
      "659    660         80150            167000                   9   \n",
      "\n",
      "     Total_visits_bank  Total_visits_online  Total_calls_made  \n",
      "0                    1                    1                 0  \n",
      "1                    0                   10                 9  \n",
      "2                    1                    3                 4  \n",
      "3                    1                    1                 4  \n",
      "4                    0                   12                 3  \n",
      "..                 ...                  ...               ...  \n",
      "655                  1                   10                 0  \n",
      "656                  1                   13                 2  \n",
      "657                  1                    9                 1  \n",
      "658                  1                   15                 0  \n",
      "659                  0                   12                 2  \n",
      "\n",
      "[660 rows x 7 columns]\n"
     ]
    }
   ],
   "source": [
    "print(X,mydata)"
   ]
  },
  {
   "cell_type": "code",
   "execution_count": 20,
   "id": "69da222d",
   "metadata": {},
   "outputs": [
    {
     "name": "stdout",
     "output_type": "stream",
     "text": [
      "Shape of X: (660, 4)\n"
     ]
    }
   ],
   "source": [
    "# Display the shapes of X \n",
    "print(\"Shape of X:\", X.shape)"
   ]
  },
  {
   "cell_type": "code",
   "execution_count": 22,
   "id": "70026ed4",
   "metadata": {},
   "outputs": [],
   "source": [
    "y = mydata['Avg_Credit_Limit']  # Dependent variable"
   ]
  },
  {
   "cell_type": "code",
   "execution_count": 24,
   "id": "12442518",
   "metadata": {},
   "outputs": [
    {
     "data": {
      "text/plain": [
       "0      100000\n",
       "1       50000\n",
       "2       50000\n",
       "3       30000\n",
       "4      100000\n",
       "        ...  \n",
       "655     99000\n",
       "656     84000\n",
       "657    145000\n",
       "658    172000\n",
       "659    167000\n",
       "Name: Avg_Credit_Limit, Length: 660, dtype: int64"
      ]
     },
     "execution_count": 24,
     "metadata": {},
     "output_type": "execute_result"
    }
   ],
   "source": [
    "y"
   ]
  },
  {
   "cell_type": "code",
   "execution_count": 25,
   "id": "d8473f0d",
   "metadata": {},
   "outputs": [
    {
     "name": "stdout",
     "output_type": "stream",
     "text": [
      "0      100000\n",
      "1       50000\n",
      "2       50000\n",
      "3       30000\n",
      "4      100000\n",
      "        ...  \n",
      "655     99000\n",
      "656     84000\n",
      "657    145000\n",
      "658    172000\n",
      "659    167000\n",
      "Name: Avg_Credit_Limit, Length: 660, dtype: int64      Sl_No  Customer Key  Avg_Credit_Limit  Total_Credit_Cards  \\\n",
      "0        1         87073            100000                   2   \n",
      "1        2         38414             50000                   3   \n",
      "2        3         17341             50000                   7   \n",
      "3        4         40496             30000                   5   \n",
      "4        5         47437            100000                   6   \n",
      "..     ...           ...               ...                 ...   \n",
      "655    656         51108             99000                  10   \n",
      "656    657         60732             84000                  10   \n",
      "657    658         53834            145000                   8   \n",
      "658    659         80655            172000                  10   \n",
      "659    660         80150            167000                   9   \n",
      "\n",
      "     Total_visits_bank  Total_visits_online  Total_calls_made  \n",
      "0                    1                    1                 0  \n",
      "1                    0                   10                 9  \n",
      "2                    1                    3                 4  \n",
      "3                    1                    1                 4  \n",
      "4                    0                   12                 3  \n",
      "..                 ...                  ...               ...  \n",
      "655                  1                   10                 0  \n",
      "656                  1                   13                 2  \n",
      "657                  1                    9                 1  \n",
      "658                  1                   15                 0  \n",
      "659                  0                   12                 2  \n",
      "\n",
      "[660 rows x 7 columns]\n"
     ]
    }
   ],
   "source": [
    "print(y,mydata)"
   ]
  },
  {
   "cell_type": "code",
   "execution_count": 27,
   "id": "7be088c5",
   "metadata": {},
   "outputs": [
    {
     "name": "stdout",
     "output_type": "stream",
     "text": [
      "Shape of y: (660,)\n"
     ]
    }
   ],
   "source": [
    "# Display the shapes of y\n",
    "print(\"Shape of y:\", y.shape)"
   ]
  },
  {
   "cell_type": "markdown",
   "id": "9dd63358",
   "metadata": {},
   "source": [
    "# Data Exploration\n",
    "Description: Understand the dataset by exploring its features and statistical summaries."
   ]
  },
  {
   "cell_type": "code",
   "execution_count": 28,
   "id": "aa9b2c00",
   "metadata": {},
   "outputs": [
    {
     "name": "stdout",
     "output_type": "stream",
     "text": [
      "   Sl_No  Customer Key  Avg_Credit_Limit  Total_Credit_Cards  \\\n",
      "0      1         87073            100000                   2   \n",
      "1      2         38414             50000                   3   \n",
      "2      3         17341             50000                   7   \n",
      "3      4         40496             30000                   5   \n",
      "4      5         47437            100000                   6   \n",
      "\n",
      "   Total_visits_bank  Total_visits_online  Total_calls_made  \n",
      "0                  1                    1                 0  \n",
      "1                  0                   10                 9  \n",
      "2                  1                    3                 4  \n",
      "3                  1                    1                 4  \n",
      "4                  0                   12                 3  \n"
     ]
    }
   ],
   "source": [
    "# Display the first few rows of the dataset\n",
    "print(mydata.head())"
   ]
  },
  {
   "cell_type": "code",
   "execution_count": 29,
   "id": "a6c57de0",
   "metadata": {},
   "outputs": [
    {
     "name": "stdout",
     "output_type": "stream",
     "text": [
      "            Sl_No  Customer Key  Avg_Credit_Limit  Total_Credit_Cards  \\\n",
      "count  660.000000    660.000000        660.000000          660.000000   \n",
      "mean   330.500000  55141.443939      34574.242424            4.706061   \n",
      "std    190.669872  25627.772200      37625.487804            2.167835   \n",
      "min      1.000000  11265.000000       3000.000000            1.000000   \n",
      "25%    165.750000  33825.250000      10000.000000            3.000000   \n",
      "50%    330.500000  53874.500000      18000.000000            5.000000   \n",
      "75%    495.250000  77202.500000      48000.000000            6.000000   \n",
      "max    660.000000  99843.000000     200000.000000           10.000000   \n",
      "\n",
      "       Total_visits_bank  Total_visits_online  Total_calls_made  \n",
      "count         660.000000           660.000000        660.000000  \n",
      "mean            2.403030             2.606061          3.583333  \n",
      "std             1.631813             2.935724          2.865317  \n",
      "min             0.000000             0.000000          0.000000  \n",
      "25%             1.000000             1.000000          1.000000  \n",
      "50%             2.000000             2.000000          3.000000  \n",
      "75%             4.000000             4.000000          5.000000  \n",
      "max             5.000000            15.000000         10.000000  \n"
     ]
    }
   ],
   "source": [
    "# Summary statistics\n",
    "print(mydata.describe())"
   ]
  },
  {
   "cell_type": "code",
   "execution_count": 30,
   "id": "7f8fa0b7",
   "metadata": {},
   "outputs": [
    {
     "data": {
      "text/plain": [
       "Sl_No                  0\n",
       "Customer Key           0\n",
       "Avg_Credit_Limit       0\n",
       "Total_Credit_Cards     0\n",
       "Total_visits_bank      0\n",
       "Total_visits_online    0\n",
       "Total_calls_made       0\n",
       "dtype: int64"
      ]
     },
     "execution_count": 30,
     "metadata": {},
     "output_type": "execute_result"
    }
   ],
   "source": [
    "# Check for missing values\n",
    "mydata.isnull().sum()"
   ]
  },
  {
   "cell_type": "markdown",
   "id": "ca78478f",
   "metadata": {},
   "source": [
    "# Data Preprocessing"
   ]
  },
  {
   "cell_type": "code",
   "execution_count": 31,
   "id": "4334ce17",
   "metadata": {},
   "outputs": [],
   "source": [
    "# Example: Fill missing values and encode categorical features\n",
    "mydata.fillna(mydata.mean(), inplace=True)  # Impute missing values"
   ]
  },
  {
   "cell_type": "code",
   "execution_count": 32,
   "id": "755d174a",
   "metadata": {},
   "outputs": [
    {
     "name": "stdout",
     "output_type": "stream",
     "text": [
      "<bound method DataFrame.fillna of      Sl_No  Customer Key  Avg_Credit_Limit  Total_Credit_Cards  \\\n",
      "0        1         87073            100000                   2   \n",
      "1        2         38414             50000                   3   \n",
      "2        3         17341             50000                   7   \n",
      "3        4         40496             30000                   5   \n",
      "4        5         47437            100000                   6   \n",
      "..     ...           ...               ...                 ...   \n",
      "655    656         51108             99000                  10   \n",
      "656    657         60732             84000                  10   \n",
      "657    658         53834            145000                   8   \n",
      "658    659         80655            172000                  10   \n",
      "659    660         80150            167000                   9   \n",
      "\n",
      "     Total_visits_bank  Total_visits_online  Total_calls_made  \n",
      "0                    1                    1                 0  \n",
      "1                    0                   10                 9  \n",
      "2                    1                    3                 4  \n",
      "3                    1                    1                 4  \n",
      "4                    0                   12                 3  \n",
      "..                 ...                  ...               ...  \n",
      "655                  1                   10                 0  \n",
      "656                  1                   13                 2  \n",
      "657                  1                    9                 1  \n",
      "658                  1                   15                 0  \n",
      "659                  0                   12                 2  \n",
      "\n",
      "[660 rows x 7 columns]>\n"
     ]
    }
   ],
   "source": [
    "print(mydata.fillna)"
   ]
  },
  {
   "cell_type": "code",
   "execution_count": 33,
   "id": "97432c31",
   "metadata": {},
   "outputs": [],
   "source": [
    "mydata = pd.get_dummies(mydata, drop_first=True)  # One-hot encoding"
   ]
  },
  {
   "cell_type": "code",
   "execution_count": 34,
   "id": "1ddac508",
   "metadata": {},
   "outputs": [
    {
     "name": "stdout",
     "output_type": "stream",
     "text": [
      "     Sl_No  Customer Key  Avg_Credit_Limit  Total_Credit_Cards  \\\n",
      "0        1         87073            100000                   2   \n",
      "1        2         38414             50000                   3   \n",
      "2        3         17341             50000                   7   \n",
      "3        4         40496             30000                   5   \n",
      "4        5         47437            100000                   6   \n",
      "..     ...           ...               ...                 ...   \n",
      "655    656         51108             99000                  10   \n",
      "656    657         60732             84000                  10   \n",
      "657    658         53834            145000                   8   \n",
      "658    659         80655            172000                  10   \n",
      "659    660         80150            167000                   9   \n",
      "\n",
      "     Total_visits_bank  Total_visits_online  Total_calls_made  \n",
      "0                    1                    1                 0  \n",
      "1                    0                   10                 9  \n",
      "2                    1                    3                 4  \n",
      "3                    1                    1                 4  \n",
      "4                    0                   12                 3  \n",
      "..                 ...                  ...               ...  \n",
      "655                  1                   10                 0  \n",
      "656                  1                   13                 2  \n",
      "657                  1                    9                 1  \n",
      "658                  1                   15                 0  \n",
      "659                  0                   12                 2  \n",
      "\n",
      "[660 rows x 7 columns]\n"
     ]
    }
   ],
   "source": [
    "print(mydata)"
   ]
  },
  {
   "cell_type": "code",
   "execution_count": 38,
   "id": "68931b5c",
   "metadata": {},
   "outputs": [],
   "source": [
    "# Feature scaling\n",
    "from sklearn.preprocessing import StandardScaler\n",
    "scaler=StandardScaler()\n",
    "scaled_features = scaler.fit_transform(mydata.drop('Avg_Credit_Limit', axis=1))  # Replace 'target_column' with the actual column name"
   ]
  },
  {
   "cell_type": "code",
   "execution_count": 39,
   "id": "03c7df57",
   "metadata": {},
   "outputs": [
    {
     "name": "stdout",
     "output_type": "stream",
     "text": [
      "StandardScaler()\n"
     ]
    }
   ],
   "source": [
    "print(scaler)"
   ]
  },
  {
   "cell_type": "code",
   "execution_count": 40,
   "id": "f296d0f0",
   "metadata": {},
   "outputs": [
    {
     "name": "stdout",
     "output_type": "stream",
     "text": [
      "[[-1.72942847  1.24691971 -1.24922476 -0.86045063 -0.54748969 -1.25153737]\n",
      " [-1.72417983 -0.65320273 -0.78758515 -1.47373077  2.5205186   1.89185881]\n",
      " [-1.71893118 -1.47609839  1.05897329 -0.86045063  0.13428993  0.1455276 ]\n",
      " ...\n",
      " [ 1.71893118 -0.05105538  1.5206129  -0.86045063  2.17962879 -0.90227113]\n",
      " [ 1.72417983  0.99629832  2.44389211 -0.86045063  4.22496765 -1.25153737]\n",
      " [ 1.72942847  0.97657819  1.9822525  -1.47373077  3.20229822 -0.55300488]]\n"
     ]
    }
   ],
   "source": [
    "print(scaled_features)"
   ]
  },
  {
   "cell_type": "markdown",
   "id": "72014002",
   "metadata": {},
   "source": [
    "# Splitting Data\n",
    "Split the dataset into training and testing sets."
   ]
  },
  {
   "cell_type": "code",
   "execution_count": 41,
   "id": "6bb9b898",
   "metadata": {},
   "outputs": [],
   "source": [
    "from sklearn.model_selection import train_test_split"
   ]
  },
  {
   "cell_type": "code",
   "execution_count": 42,
   "id": "c2b1d724",
   "metadata": {},
   "outputs": [],
   "source": [
    "X = scaled_features\n",
    "y = mydata['Avg_Credit_Limit']  # Replace with the actual target column\n",
    "X_train, X_test, y_train, y_test = train_test_split(X, y, test_size=0.2, random_state=42)"
   ]
  },
  {
   "cell_type": "markdown",
   "id": "80f3dc6c",
   "metadata": {},
   "source": [
    "# #Model Selection and Training"
   ]
  },
  {
   "cell_type": "code",
   "execution_count": 43,
   "id": "365c034e",
   "metadata": {},
   "outputs": [],
   "source": [
    "from sklearn.ensemble import RandomForestClassifier"
   ]
  },
  {
   "cell_type": "code",
   "execution_count": 44,
   "id": "6f5c814d",
   "metadata": {},
   "outputs": [
    {
     "data": {
      "text/html": [
       "<style>#sk-container-id-1 {color: black;}#sk-container-id-1 pre{padding: 0;}#sk-container-id-1 div.sk-toggleable {background-color: white;}#sk-container-id-1 label.sk-toggleable__label {cursor: pointer;display: block;width: 100%;margin-bottom: 0;padding: 0.3em;box-sizing: border-box;text-align: center;}#sk-container-id-1 label.sk-toggleable__label-arrow:before {content: \"▸\";float: left;margin-right: 0.25em;color: #696969;}#sk-container-id-1 label.sk-toggleable__label-arrow:hover:before {color: black;}#sk-container-id-1 div.sk-estimator:hover label.sk-toggleable__label-arrow:before {color: black;}#sk-container-id-1 div.sk-toggleable__content {max-height: 0;max-width: 0;overflow: hidden;text-align: left;background-color: #f0f8ff;}#sk-container-id-1 div.sk-toggleable__content pre {margin: 0.2em;color: black;border-radius: 0.25em;background-color: #f0f8ff;}#sk-container-id-1 input.sk-toggleable__control:checked~div.sk-toggleable__content {max-height: 200px;max-width: 100%;overflow: auto;}#sk-container-id-1 input.sk-toggleable__control:checked~label.sk-toggleable__label-arrow:before {content: \"▾\";}#sk-container-id-1 div.sk-estimator input.sk-toggleable__control:checked~label.sk-toggleable__label {background-color: #d4ebff;}#sk-container-id-1 div.sk-label input.sk-toggleable__control:checked~label.sk-toggleable__label {background-color: #d4ebff;}#sk-container-id-1 input.sk-hidden--visually {border: 0;clip: rect(1px 1px 1px 1px);clip: rect(1px, 1px, 1px, 1px);height: 1px;margin: -1px;overflow: hidden;padding: 0;position: absolute;width: 1px;}#sk-container-id-1 div.sk-estimator {font-family: monospace;background-color: #f0f8ff;border: 1px dotted black;border-radius: 0.25em;box-sizing: border-box;margin-bottom: 0.5em;}#sk-container-id-1 div.sk-estimator:hover {background-color: #d4ebff;}#sk-container-id-1 div.sk-parallel-item::after {content: \"\";width: 100%;border-bottom: 1px solid gray;flex-grow: 1;}#sk-container-id-1 div.sk-label:hover label.sk-toggleable__label {background-color: #d4ebff;}#sk-container-id-1 div.sk-serial::before {content: \"\";position: absolute;border-left: 1px solid gray;box-sizing: border-box;top: 0;bottom: 0;left: 50%;z-index: 0;}#sk-container-id-1 div.sk-serial {display: flex;flex-direction: column;align-items: center;background-color: white;padding-right: 0.2em;padding-left: 0.2em;position: relative;}#sk-container-id-1 div.sk-item {position: relative;z-index: 1;}#sk-container-id-1 div.sk-parallel {display: flex;align-items: stretch;justify-content: center;background-color: white;position: relative;}#sk-container-id-1 div.sk-item::before, #sk-container-id-1 div.sk-parallel-item::before {content: \"\";position: absolute;border-left: 1px solid gray;box-sizing: border-box;top: 0;bottom: 0;left: 50%;z-index: -1;}#sk-container-id-1 div.sk-parallel-item {display: flex;flex-direction: column;z-index: 1;position: relative;background-color: white;}#sk-container-id-1 div.sk-parallel-item:first-child::after {align-self: flex-end;width: 50%;}#sk-container-id-1 div.sk-parallel-item:last-child::after {align-self: flex-start;width: 50%;}#sk-container-id-1 div.sk-parallel-item:only-child::after {width: 0;}#sk-container-id-1 div.sk-dashed-wrapped {border: 1px dashed gray;margin: 0 0.4em 0.5em 0.4em;box-sizing: border-box;padding-bottom: 0.4em;background-color: white;}#sk-container-id-1 div.sk-label label {font-family: monospace;font-weight: bold;display: inline-block;line-height: 1.2em;}#sk-container-id-1 div.sk-label-container {text-align: center;}#sk-container-id-1 div.sk-container {/* jupyter's `normalize.less` sets `[hidden] { display: none; }` but bootstrap.min.css set `[hidden] { display: none !important; }` so we also need the `!important` here to be able to override the default hidden behavior on the sphinx rendered scikit-learn.org. See: https://github.com/scikit-learn/scikit-learn/issues/21755 */display: inline-block !important;position: relative;}#sk-container-id-1 div.sk-text-repr-fallback {display: none;}</style><div id=\"sk-container-id-1\" class=\"sk-top-container\"><div class=\"sk-text-repr-fallback\"><pre>RandomForestClassifier()</pre><b>In a Jupyter environment, please rerun this cell to show the HTML representation or trust the notebook. <br />On GitHub, the HTML representation is unable to render, please try loading this page with nbviewer.org.</b></div><div class=\"sk-container\" hidden><div class=\"sk-item\"><div class=\"sk-estimator sk-toggleable\"><input class=\"sk-toggleable__control sk-hidden--visually\" id=\"sk-estimator-id-1\" type=\"checkbox\" checked><label for=\"sk-estimator-id-1\" class=\"sk-toggleable__label sk-toggleable__label-arrow\">RandomForestClassifier</label><div class=\"sk-toggleable__content\"><pre>RandomForestClassifier()</pre></div></div></div></div></div>"
      ],
      "text/plain": [
       "RandomForestClassifier()"
      ]
     },
     "execution_count": 44,
     "metadata": {},
     "output_type": "execute_result"
    }
   ],
   "source": [
    "# Initialize and train the model\n",
    "model = RandomForestClassifier()\n",
    "model.fit(X_train, y_train)"
   ]
  },
  {
   "cell_type": "code",
   "execution_count": 45,
   "id": "226a6fcb",
   "metadata": {},
   "outputs": [],
   "source": [
    "# Predict on the test set\n",
    "y_pred = model.predict(X_test)"
   ]
  },
  {
   "cell_type": "code",
   "execution_count": 46,
   "id": "93c37372",
   "metadata": {},
   "outputs": [
    {
     "name": "stdout",
     "output_type": "stream",
     "text": [
      "[[ 1.57196913  0.82244878  1.5206129  -1.47373077  1.49784917 -0.55300488]\n",
      " [ 0.8896453   0.41719034  0.59733368  0.97938981 -0.20659988 -0.55300488]\n",
      " [-1.02086142 -0.37325497 -0.78758515 -0.24717048  0.13428993  0.84406009]\n",
      " [ 0.78992105  0.81545887  0.59733368 -0.24717048 -0.8883795  -1.25153737]\n",
      " [-1.25705044 -1.45009125 -1.24922476 -0.86045063  0.47517974  0.84406009]\n",
      " [ 0.66395357 -1.47672318  0.59733368  1.59266995 -0.20659988 -0.20373864]\n",
      " [-0.13384044 -0.953964   -0.32594554  0.97938981 -0.20659988  0.1455276 ]\n",
      " [-0.49599694  1.09919445  1.05897329  0.97938981 -0.8883795  -1.25153737]\n",
      " [-1.35152605 -1.09423075 -0.78758515 -0.86045063 -0.20659988  0.84406009]\n",
      " [ 1.06285058 -0.28480726 -0.32594554  0.36610966 -0.20659988 -0.55300488]\n",
      " [-0.86340208 -0.8890633  -1.71086437 -1.47373077  0.47517974  1.89185881]\n",
      " [-1.30428824 -0.63149106 -0.78758515 -0.86045063  0.81606955  0.49479384]\n",
      " [ 1.03135871  0.13927317 -0.32594554 -0.24717048 -0.20659988 -0.20373864]\n",
      " [-0.56947796  0.72904174 -1.24922476 -0.24717048  0.81606955  0.84406009]\n",
      " [ 1.12583432  1.19115664  0.59733368  0.36610966 -0.54748969 -0.55300488]\n",
      " [ 1.27804502  1.61636952  1.05897329 -0.24717048 -0.20659988 -0.20373864]\n",
      " [-1.44600165  0.91226323 -1.24922476 -1.47373077  0.47517974  1.89185881]\n",
      " [-0.57472661  0.95635042 -1.71086437 -1.47373077  0.13428993  2.24112505]\n",
      " [-0.6324617   1.39862804 -1.71086437 -1.47373077 -0.20659988  1.89185881]\n",
      " [-0.41726726 -0.55620311  0.59733368  0.36610966 -0.54748969  0.1455276 ]\n",
      " [-0.27555385 -0.71099638 -0.32594554  1.59266995 -0.8883795   0.1455276 ]\n",
      " [ 0.31754301 -0.93830505 -0.32594554 -0.24717048 -0.8883795   0.1455276 ]\n",
      " [ 1.11533703  0.79175566  0.13569407  1.59266995 -0.54748969 -0.55300488]\n",
      " [-0.42251591 -0.88992239  0.59733368  1.59266995 -0.20659988 -1.25153737]\n",
      " [ 1.45649894  1.36867687  0.59733368  0.36610966 -0.54748969 -1.25153737]\n",
      " [ 1.66644474  0.96888539  1.9822525  -1.47373077  2.17962879 -0.55300488]\n",
      " [ 0.00787297 -0.80623875  0.59733368  1.59266995 -0.20659988 -1.25153737]\n",
      " [-0.81616427 -0.65917734 -0.32594554 -0.86045063 -0.20659988  1.19332633]\n",
      " [-0.09709993  1.43881024  0.59733368  0.36610966 -0.8883795  -1.25153737]\n",
      " [ 0.56422932  1.25262097  0.59733368  0.36610966 -0.8883795  -0.55300488]\n",
      " [-1.03135871 -1.59687931 -0.78758515 -0.86045063  0.81606955  1.89185881]\n",
      " [ 1.12058567 -0.79530481  0.13569407 -0.24717048 -0.54748969 -1.25153737]\n",
      " [ 0.13384044 -0.41937274  0.13569407  1.59266995 -0.54748969  0.1455276 ]\n",
      " [-1.15732619 -0.52746249 -0.32594554 -0.24717048  0.13428993  1.54259257]\n",
      " [-1.33053147  1.36777872 -1.71086437 -0.24717048  0.47517974  0.84406009]\n",
      " [ 1.6979366  -0.1294673   2.44389211 -1.47373077  4.22496765 -0.90227113]\n",
      " [ 1.70843389 -0.15750503  2.44389211 -0.86045063  2.5205186  -1.25153737]\n",
      " [-0.29129979 -1.43029302  0.13569407  1.59266995 -0.54748969 -0.20373864]\n",
      " [-1.67694202 -0.09373677 -0.32594554 -1.47373077  0.81606955  0.49479384]\n",
      " [-0.91588852 -0.78249649 -1.71086437 -0.86045063  0.47517974  0.49479384]\n",
      " [ 0.70069409  1.47575132 -0.32594554  1.59266995 -0.54748969  0.1455276 ]\n",
      " [-0.19682418 -1.6964562  -0.32594554  0.36610966 -0.8883795   0.1455276 ]\n",
      " [-1.56672048 -0.88219054 -0.78758515 -0.86045063  0.81606955  0.84406009]\n",
      " [-0.05511077  1.04347044  0.59733368 -0.24717048 -0.8883795  -0.20373864]\n",
      " [ 0.06035942  0.61064286 -0.32594554  0.36610966 -0.20659988 -1.25153737]\n",
      " [-1.32003418  0.17629235 -1.24922476 -1.47373077  0.47517974  2.24112505]\n",
      " [ 0.71119138 -0.57143252  0.13569407  1.59266995 -0.8883795  -0.55300488]\n",
      " [-1.09959109 -1.50593241 -0.32594554 -0.24717048  0.47517974  0.84406009]\n",
      " [-1.44075301  0.51848542 -1.71086437 -0.24717048 -0.20659988  0.1455276 ]\n",
      " [-0.27030521  1.59258821  1.05897329  0.97938981 -0.20659988  0.1455276 ]\n",
      " [-0.20732147 -0.00919403  0.59733368  0.36610966 -0.54748969 -1.25153737]\n",
      " [ 0.6324617  -1.71336475  1.05897329  0.36610966 -0.20659988 -1.25153737]\n",
      " [-1.39876385  1.42654862 -0.78758515 -1.47373077  0.47517974  0.84406009]\n",
      " [ 1.58246642 -1.57079406  1.5206129  -1.47373077  4.22496765 -1.25153737]\n",
      " [ 0.27555385  0.67515307  0.59733368  0.36610966 -0.20659988 -0.20373864]\n",
      " [-1.11008838  1.32244195 -0.78758515 -0.86045063  0.47517974  0.49479384]\n",
      " [-0.15483502  1.47664946  0.59733368  1.59266995 -0.8883795  -1.25153737]\n",
      " [-0.44875913 -0.62555549  1.05897329  0.36610966 -0.20659988  0.1455276 ]\n",
      " [-0.72168866  1.65264675 -0.78758515 -1.47373077  0.13428993  0.49479384]\n",
      " [-0.42776455 -0.41952894  0.59733368  1.59266995 -0.54748969 -1.25153737]\n",
      " [-0.01837026 -1.26198854 -0.32594554  0.97938981 -0.20659988 -0.20373864]\n",
      " [-1.71893118 -1.47609839  1.05897329 -0.86045063  0.13428993  0.1455276 ]\n",
      " [-1.01561278 -0.09338532 -0.78758515 -1.47373077 -0.20659988  1.54259257]\n",
      " [ 0.23881334 -0.41246094  0.59733368  0.36610966 -0.54748969 -0.20373864]\n",
      " [ 1.37252062  0.4966566   0.13569407 -0.24717048 -0.54748969  0.1455276 ]\n",
      " [ 1.39876385  0.73966328  0.59733368  0.97938981 -0.20659988 -1.25153737]\n",
      " [ 0.16008367 -1.55509606  0.59733368  0.36610966 -0.8883795  -0.90227113]\n",
      " [-1.41450978 -0.99117843 -0.32594554 -0.86045063  0.47517974  1.19332633]\n",
      " [-1.03660735 -0.82154626 -0.32594554 -1.47373077 -0.20659988  0.84406009]\n",
      " [-1.57196913 -1.6066027  -0.78758515 -0.86045063  0.81606955  0.1455276 ]\n",
      " [-1.36727198  0.54952998 -1.71086437 -0.24717048  0.13428993  1.19332633]\n",
      " [-0.95262904  0.88317116 -1.71086437 -0.24717048 -0.20659988  2.24112505]\n",
      " [ 1.72417983  0.99629832  2.44389211 -0.86045063  4.22496765 -1.25153737]\n",
      " [-1.4984881   0.52172655 -0.32594554 -0.24717048  0.47517974  0.49479384]\n",
      " [-1.36202333 -1.29510273 -1.71086437 -0.24717048  0.47517974  1.19332633]\n",
      " [ 0.72168866  0.58416712 -0.32594554  0.97938981 -0.20659988 -0.90227113]\n",
      " [ 0.70594273 -0.72778777 -0.32594554 -0.24717048 -0.54748969 -0.55300488]\n",
      " [-0.87389937  0.18125167 -0.78758515 -1.47373077  0.81606955  2.24112505]\n",
      " [ 0.18107825  1.6027802   0.59733368  0.97938981 -0.20659988 -0.20373864]\n",
      " [ 0.98412091 -0.47279282 -0.32594554 -0.24717048 -0.20659988 -0.20373864]\n",
      " [ 0.03411619  0.28668603 -0.32594554  0.97938981 -0.20659988 -0.90227113]\n",
      " [-1.19931534  1.60383454 -1.71086437 -0.86045063  0.81606955  1.89185881]\n",
      " [-1.38826656  0.20546252 -1.71086437 -0.86045063  0.47517974  0.1455276 ]\n",
      " [ 0.51699152 -0.9056204  -0.32594554  0.97938981 -0.8883795  -0.20373864]\n",
      " [-1.47224488  0.76082825 -0.78758515 -0.24717048 -0.20659988  0.84406009]\n",
      " [-0.28605114 -0.14926553  0.59733368 -0.24717048 -0.54748969 -0.20373864]\n",
      " [ 1.71368254  0.21830989  2.44389211 -0.86045063  3.54318803 -0.55300488]\n",
      " [-1.52473132 -0.6826853  -1.24922476 -0.24717048  0.47517974  1.89185881]\n",
      " [-0.5852239  -1.05174461 -0.78758515 -0.86045063  0.81606955  1.19332633]\n",
      " [ 1.22555857  1.60602133  0.13569407  0.97938981 -0.54748969 -1.25153737]\n",
      " [-1.6979366  -0.26442328  0.13569407 -1.47373077  2.86140841 -0.55300488]\n",
      " [ 1.25180179  0.47408584  0.59733368  1.59266995 -0.54748969 -1.25153737]\n",
      " [ 0.1285918  -0.83376883  1.05897329  0.97938981 -0.8883795  -0.55300488]\n",
      " [ 1.32003418  0.04406985  0.59733368  1.59266995 -0.54748969  0.1455276 ]\n",
      " [-0.80566698 -0.6822167  -1.24922476 -0.24717048 -0.20659988  0.49479384]\n",
      " [ 1.38301791  0.53578447 -0.32594554  1.59266995 -0.54748969 -0.90227113]\n",
      " [ 1.67169338 -1.63331273  1.5206129  -0.86045063  1.49784917 -1.25153737]\n",
      " [ 1.59821235 -0.2205704   1.5206129  -1.47373077  1.83873898 -0.90227113]\n",
      " [ 0.01312161 -0.30085671  1.05897329  0.36610966 -0.54748969 -1.25153737]\n",
      " [-1.27804502 -0.30636273 -0.32594554 -0.86045063  0.13428993  1.19332633]\n",
      " [ 1.51423404 -0.02524348  1.05897329 -1.47373077  3.54318803 -0.55300488]\n",
      " [ 0.14433773  0.45542005 -0.32594554  0.97938981 -0.20659988 -0.55300488]\n",
      " [-0.37002946 -1.48297115 -0.32594554  0.97938981 -0.54748969  0.1455276 ]\n",
      " [ 1.48799081 -0.17742041  1.9822525  -0.86045063  2.86140841 -1.25153737]\n",
      " [-1.16257483  0.71435903 -0.78758515 -0.24717048 -0.20659988  0.84406009]\n",
      " [ 1.29379095  0.53804935  0.59733368  0.36610966 -0.54748969 -0.90227113]\n",
      " [-1.51423404 -1.36761815 -1.71086437 -0.86045063 -0.20659988  1.19332633]\n",
      " [ 0.64820764  0.60783128 -0.32594554  0.97938981 -0.8883795  -0.20373864]\n",
      " [ 0.86865072 -0.06206741  1.05897329  0.36610966 -0.8883795  -0.20373864]\n",
      " [-1.43550436 -0.8713347  -1.71086437 -1.47373077 -0.20659988  0.49479384]\n",
      " [ 0.62196441 -1.3500067  -0.32594554  0.97938981 -0.20659988 -0.90227113]\n",
      " [ 0.5379861  -0.69857855  0.59733368 -0.24717048 -0.54748969 -0.55300488]\n",
      " [-0.06035942 -1.04370036  0.59733368  0.97938981 -0.8883795  -0.20373864]\n",
      " [-1.041856    0.25325943 -0.78758515 -1.47373077 -0.20659988  0.49479384]\n",
      " [-0.60096983 -1.42658329 -0.32594554 -1.47373077  0.47517974  1.19332633]\n",
      " [ 0.47500236 -0.253216    0.13569407  0.36610966 -0.20659988 -0.55300488]\n",
      " [-1.603461   -1.21602696 -1.24922476 -1.47373077 -0.20659988  2.24112505]\n",
      " [-0.96837497 -0.67710118 -0.78758515 -1.47373077  0.47517974  0.1455276 ]\n",
      " [-0.10234857  1.10579386 -0.32594554  1.59266995 -0.8883795  -0.90227113]\n",
      " [-0.68494815 -1.50054354 -0.32594554 -0.24717048  0.47517974  1.89185881]\n",
      " [ 0.27030521 -0.36173529 -0.32594554 -0.24717048 -0.8883795  -0.90227113]\n",
      " [ 0.97887226 -1.5641556   1.05897329  0.97938981 -0.8883795  -0.20373864]\n",
      " [-1.15207754  1.12961422 -0.32594554 -0.24717048  0.13428993  0.49479384]\n",
      " [-0.3857754   0.39950079  1.05897329  0.36610966 -0.54748969  0.1455276 ]\n",
      " [-1.2990396   0.11123544 -1.71086437 -0.86045063 -0.20659988  0.49479384]\n",
      " [ 0.87914801 -0.52328416 -0.32594554 -0.24717048 -0.54748969 -0.55300488]\n",
      " [-0.23881334 -0.37056054  1.05897329 -0.24717048 -0.54748969 -0.55300488]\n",
      " [-1.32528282  0.6536757  -0.78758515 -0.86045063  0.47517974  0.1455276 ]\n",
      " [ 1.05235329 -0.97177069 -0.32594554  0.36610966 -0.8883795  -1.25153737]\n",
      " [ 0.40676997 -1.46196237  0.13569407  0.97938981 -0.8883795  -0.90227113]\n",
      " [-0.50124558 -1.56247646  0.59733368  1.59266995 -0.8883795   0.1455276 ]\n",
      " [ 1.30953689  0.15731416 -0.32594554  0.36610966 -0.8883795  -1.25153737]]\n"
     ]
    }
   ],
   "source": [
    "print(X_test)"
   ]
  },
  {
   "cell_type": "code",
   "execution_count": 47,
   "id": "1a69650a",
   "metadata": {},
   "outputs": [
    {
     "name": "stdout",
     "output_type": "stream",
     "text": [
      "[114000  26000   6000  49000   5000  72000   8000  20000   6000  70000\n",
      "   9000  13000  30000  17000  40000  36000  12000   8000   8000  18000\n",
      "   9000  13000  40000  12000  68000 167000  12000  14000  19000  44000\n",
      "  19000  71000   9000   7000   8000 171000 172000  19000   6000  14000\n",
      "  38000  19000   6000   5000   7000  13000  70000  19000   5000   5000\n",
      "   7000  38000  16000 156000  18000  16000   7000   8000  18000  20000\n",
      "  14000   8000  14000  18000  37000  57000  19000   8000  18000  19000\n",
      "   5000  11000 171000   6000   5000  30000  45000  13000  19000  30000\n",
      "  14000  13000   9000  74000   9000  18000 172000   7000  13000  72000\n",
      " 100000  34000  13000  34000   6000  52000 156000 186000   8000  13000\n",
      " 158000  18000  19000 131000   5000  34000   6000  48000  59000   5000\n",
      "  36000  27000   8000  16000  19000  48000   6000  18000   6000  19000\n",
      "   6000  36000   9000   5000   5000  45000   7000   9000  70000  49000\n",
      "   8000  55000]\n"
     ]
    }
   ],
   "source": [
    "print(y_pred)"
   ]
  },
  {
   "cell_type": "code",
   "execution_count": 48,
   "id": "e8d25a16",
   "metadata": {},
   "outputs": [
    {
     "name": "stdout",
     "output_type": "stream",
     "text": [
      "<bound method ForestClassifier.predict of RandomForestClassifier()>\n"
     ]
    }
   ],
   "source": [
    "print(model.predict)"
   ]
  },
  {
   "cell_type": "code",
   "execution_count": 49,
   "id": "a27db510",
   "metadata": {},
   "outputs": [],
   "source": [
    "from sklearn.metrics import classification_report"
   ]
  },
  {
   "cell_type": "code",
   "execution_count": 50,
   "id": "4254a710",
   "metadata": {},
   "outputs": [
    {
     "name": "stdout",
     "output_type": "stream",
     "text": [
      "              precision    recall  f1-score   support\n",
      "\n",
      "        5000       0.00      0.00      0.00         2\n",
      "        6000       0.00      0.00      0.00         7\n",
      "        7000       0.00      0.00      0.00         5\n",
      "        8000       0.10      0.20      0.13         5\n",
      "        9000       0.00      0.00      0.00         4\n",
      "       10000       0.00      0.00      0.00         9\n",
      "       11000       0.00      0.00      0.00         7\n",
      "       12000       0.00      0.00      0.00         3\n",
      "       13000       0.00      0.00      0.00         7\n",
      "       14000       0.00      0.00      0.00         8\n",
      "       15000       0.00      0.00      0.00         3\n",
      "       16000       0.00      0.00      0.00         7\n",
      "       17000       0.00      0.00      0.00         6\n",
      "       18000       0.12      0.20      0.15         5\n",
      "       19000       0.00      0.00      0.00         3\n",
      "       20000       0.00      0.00      0.00         3\n",
      "       26000       0.00      0.00      0.00         1\n",
      "       27000       0.00      0.00      0.00         0\n",
      "       29000       0.00      0.00      0.00         1\n",
      "       30000       0.00      0.00      0.00         1\n",
      "       31000       0.00      0.00      0.00         1\n",
      "       32000       0.00      0.00      0.00         1\n",
      "       34000       0.00      0.00      0.00         1\n",
      "       36000       0.00      0.00      0.00         1\n",
      "       37000       0.00      0.00      0.00         0\n",
      "       38000       0.50      0.50      0.50         2\n",
      "       39000       0.00      0.00      0.00         1\n",
      "       40000       0.00      0.00      0.00         0\n",
      "       41000       0.00      0.00      0.00         1\n",
      "       42000       0.00      0.00      0.00         1\n",
      "       44000       0.00      0.00      0.00         0\n",
      "       45000       0.00      0.00      0.00         0\n",
      "       47000       0.00      0.00      0.00         2\n",
      "       48000       0.00      0.00      0.00         2\n",
      "       49000       0.00      0.00      0.00         0\n",
      "       50000       0.00      0.00      0.00         2\n",
      "       51000       0.00      0.00      0.00         1\n",
      "       52000       0.00      0.00      0.00         2\n",
      "       54000       0.00      0.00      0.00         2\n",
      "       55000       0.00      0.00      0.00         0\n",
      "       56000       0.00      0.00      0.00         2\n",
      "       57000       0.00      0.00      0.00         0\n",
      "       58000       0.00      0.00      0.00         1\n",
      "       59000       0.00      0.00      0.00         1\n",
      "       60000       0.00      0.00      0.00         1\n",
      "       62000       0.00      0.00      0.00         1\n",
      "       65000       0.00      0.00      0.00         1\n",
      "       66000       0.00      0.00      0.00         2\n",
      "       68000       0.00      0.00      0.00         2\n",
      "       69000       0.00      0.00      0.00         1\n",
      "       70000       0.00      0.00      0.00         0\n",
      "       71000       0.00      0.00      0.00         0\n",
      "       72000       0.00      0.00      0.00         0\n",
      "       74000       0.00      0.00      0.00         1\n",
      "       84000       0.00      0.00      0.00         1\n",
      "       94000       0.00      0.00      0.00         1\n",
      "       95000       0.00      0.00      0.00         1\n",
      "       99000       0.00      0.00      0.00         1\n",
      "      100000       1.00      1.00      1.00         1\n",
      "      106000       0.00      0.00      0.00         1\n",
      "      111000       0.00      0.00      0.00         1\n",
      "      114000       0.00      0.00      0.00         0\n",
      "      121000       0.00      0.00      0.00         1\n",
      "      131000       0.00      0.00      0.00         0\n",
      "      155000       0.00      0.00      0.00         1\n",
      "      156000       0.00      0.00      0.00         0\n",
      "      158000       0.00      0.00      0.00         0\n",
      "      167000       0.00      0.00      0.00         0\n",
      "      171000       0.00      0.00      0.00         0\n",
      "      172000       0.00      0.00      0.00         1\n",
      "      183000       0.00      0.00      0.00         1\n",
      "      186000       0.00      0.00      0.00         0\n",
      "      195000       0.00      0.00      0.00         1\n",
      "\n",
      "    accuracy                           0.03       132\n",
      "   macro avg       0.02      0.03      0.02       132\n",
      "weighted avg       0.02      0.03      0.03       132\n",
      "\n"
     ]
    },
    {
     "name": "stderr",
     "output_type": "stream",
     "text": [
      "C:\\ProgramData\\anaconda3\\Lib\\site-packages\\sklearn\\metrics\\_classification.py:1469: UndefinedMetricWarning: Precision and F-score are ill-defined and being set to 0.0 in labels with no predicted samples. Use `zero_division` parameter to control this behavior.\n",
      "  _warn_prf(average, modifier, msg_start, len(result))\n",
      "C:\\ProgramData\\anaconda3\\Lib\\site-packages\\sklearn\\metrics\\_classification.py:1469: UndefinedMetricWarning: Recall and F-score are ill-defined and being set to 0.0 in labels with no true samples. Use `zero_division` parameter to control this behavior.\n",
      "  _warn_prf(average, modifier, msg_start, len(result))\n",
      "C:\\ProgramData\\anaconda3\\Lib\\site-packages\\sklearn\\metrics\\_classification.py:1469: UndefinedMetricWarning: Precision and F-score are ill-defined and being set to 0.0 in labels with no predicted samples. Use `zero_division` parameter to control this behavior.\n",
      "  _warn_prf(average, modifier, msg_start, len(result))\n",
      "C:\\ProgramData\\anaconda3\\Lib\\site-packages\\sklearn\\metrics\\_classification.py:1469: UndefinedMetricWarning: Recall and F-score are ill-defined and being set to 0.0 in labels with no true samples. Use `zero_division` parameter to control this behavior.\n",
      "  _warn_prf(average, modifier, msg_start, len(result))\n",
      "C:\\ProgramData\\anaconda3\\Lib\\site-packages\\sklearn\\metrics\\_classification.py:1469: UndefinedMetricWarning: Precision and F-score are ill-defined and being set to 0.0 in labels with no predicted samples. Use `zero_division` parameter to control this behavior.\n",
      "  _warn_prf(average, modifier, msg_start, len(result))\n",
      "C:\\ProgramData\\anaconda3\\Lib\\site-packages\\sklearn\\metrics\\_classification.py:1469: UndefinedMetricWarning: Recall and F-score are ill-defined and being set to 0.0 in labels with no true samples. Use `zero_division` parameter to control this behavior.\n",
      "  _warn_prf(average, modifier, msg_start, len(result))\n"
     ]
    }
   ],
   "source": [
    "# Evaluate the model\n",
    "print(classification_report(y_test, y_pred))"
   ]
  },
  {
   "cell_type": "markdown",
   "id": "911c39e0",
   "metadata": {},
   "source": [
    "# . Model Evaluation\n",
    "Analyze performance metrics (accuracy, precision, recall) and visualize results."
   ]
  },
  {
   "cell_type": "code",
   "execution_count": 51,
   "id": "b5031d0b",
   "metadata": {},
   "outputs": [],
   "source": [
    "from sklearn.metrics import confusion_matrix\n",
    "import seaborn as sns\n",
    "import matplotlib.pyplot as plt"
   ]
  },
  {
   "cell_type": "code",
   "execution_count": 52,
   "id": "f1df4fb2",
   "metadata": {},
   "outputs": [
    {
     "data": {
      "image/png": "[encoded data removed]",
      "text/plain": [
       "<Figure size 640x480 with 2 Axes>"
      ]
     },
     "metadata": {},
     "output_type": "display_data"
    }
   ],
   "source": [
    "# Confusion Matrix\n",
    "conf_matrix = confusion_matrix(y_test, y_pred)\n",
    "sns.heatmap(conf_matrix, annot=True, fmt='d', cmap='Blues')\n",
    "plt.title('Confusion Matrix')\n",
    "plt.xlabel('Predicted')\n",
    "plt.ylabel('True')\n",
    "plt.show()"
   ]
  },
  {
   "cell_type": "code",
   "execution_count": 53,
   "id": "7093d918",
   "metadata": {},
   "outputs": [
    {
     "data": {
      "image/png": "[encoded data removed]",
      "text/plain": [
       "<Figure size 640x480 with 2 Axes>"
      ]
     },
     "metadata": {},
     "output_type": "display_data"
    }
   ],
   "source": [
    "sns.heatmap(conf_matrix, annot=True, fmt='d', cmap='Blues')\n",
    "plt.title('Confusion Matrix')\n",
    "plt.xlabel('Predicted')\n",
    "plt.ylabel('True')\n",
    "plt.show()"
   ]
  },
  {
   "cell_type": "code",
   "execution_count": 57,
   "id": "d0bf12bd",
   "metadata": {},
   "outputs": [
    {
     "data": {
      "image/png": "[encoded data removed]",
      "text/plain": [
       "<Figure size 640x480 with 1 Axes>"
      ]
     },
     "metadata": {},
     "output_type": "display_data"
    }
   ],
   "source": [
    "plt.title('Confusion Matrix')\n",
    "plt.xlabel('Predicted')\n",
    "plt.ylabel('True')\n",
    "plt.show()"
   ]
  },
  {
   "cell_type": "markdown",
   "id": "bd7d41bd",
   "metadata": {},
   "source": [
    "# Model Deployment\n",
    "Export the model using joblib or pickle for later use, or create an API using Flask/FastAPI for real-time predictions."
   ]
  },
  {
   "cell_type": "code",
   "execution_count": 58,
   "id": "f4e4c0d5",
   "metadata": {},
   "outputs": [],
   "source": [
    "import joblib"
   ]
  },
  {
   "cell_type": "code",
   "execution_count": 59,
   "id": "dddd2174",
   "metadata": {},
   "outputs": [
    {
     "data": {
      "text/plain": [
       "['credit_card_model.pkl']"
      ]
     },
     "execution_count": 59,
     "metadata": {},
     "output_type": "execute_result"
    }
   ],
   "source": [
    "# Save the model\n",
    "joblib.dump(model, 'credit_card_model.pkl')"
   ]
  },
  {
   "cell_type": "code",
   "execution_count": 70,
   "id": "6f54f0c5",
   "metadata": {},
   "outputs": [
    {
     "name": "stdout",
     "output_type": "stream",
     "text": [
      " * Serving Flask app '__main__'\n",
      " * Debug mode: on\n"
     ]
    },
    {
     "name": "stderr",
     "output_type": "stream",
     "text": [
      "WARNING: This is a development server. Do not use it in a production deployment. Use a production WSGI server instead.\n",
      " * Running on http://127.0.0.1:5000\n",
      "Press CTRL+C to quit\n",
      " * Restarting with watchdog (windowsapi)\n"
     ]
    },
    {
     "ename": "SystemExit",
     "evalue": "1",
     "output_type": "error",
     "traceback": [
      "An exception has occurred, use %tb to see the full traceback.\n",
      "\u001b[1;31mSystemExit\u001b[0m\u001b[1;31m:\u001b[0m 1\n"
     ]
    }
   ],
   "source": [
    "from flask import Flask, request, jsonify, render_template\n",
    "import joblib\n",
    "\n",
    "app = Flask(__name__)\n",
    "model = joblib.load('credit_card_model.pkl')\n",
    "\n",
    "@app.route('/')\n",
    "def home():\n",
    "    return render_template('kumar.html')  # Ensure this points to your HTML file\n",
    "\n",
    "@app.route('/predict', methods=['POST'])\n",
    "def predict():\n",
    "    data = request.get_json(force=True)\n",
    "    prediction = model.predict([data['features']])\n",
    "    return jsonify({'prediction': prediction.tolist()})\n",
    "\n",
    "if __name__ == '__main__':\n",
    "    app.run(debug=True)\n"
   ]
  },
  {
   "cell_type": "code",
   "execution_count": null,
   "id": "127caf94",
   "metadata": {},
   "outputs": [],
   "source": []
  },
  {
   "cell_type": "code",
   "execution_count": null,
   "id": "a542b917",
   "metadata": {},
   "outputs": [],
   "source": []
  }
 ],
 "metadata": {
  "kernelspec": {
   "display_name": "Python 3 (ipykernel)",
   "language": "python",
   "name": "python3"
  },
  "language_info": {
   "codemirror_mode": {
    "name": "ipython",
    "version": 3
   },
   "file_extension": ".py",
   "mimetype": "text/x-python",
   "name": "python",
   "nbconvert_exporter": "python",
   "pygments_lexer": "ipython3",
   "version": "3.11.5"
  }
 },
 "nbformat": 4,
 "nbformat_minor": 5
}
