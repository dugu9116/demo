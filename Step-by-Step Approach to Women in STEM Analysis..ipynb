{
 "cells": [
  {
   "cell_type": "code",
   "execution_count": 1,
   "id": "3b85d295-769e-43b2-8536-7db3542c1fef",
   "metadata": {},
   "outputs": [],
   "source": [
    "import pandas as pd "
   ]
  },
  {
   "cell_type": "code",
   "execution_count": 11,
   "id": "858d1ad0-6113-406b-8fed-c6280a400b83",
   "metadata": {},
   "outputs": [],
   "source": [
    "mydata=pd.read_csv(r'C:\\Users\\DCS\\Desktop\\women-stem.csv')"
   ]
  },
  {
   "cell_type": "code",
   "execution_count": 12,
   "id": "4d6e37cb-5287-4420-9a3c-0caf41be5779",
   "metadata": {},
   "outputs": [
    {
     "data": {
      "text/html": [
       "<div>\n",
       "<style scoped>\n",
       "    .dataframe tbody tr th:only-of-type {\n",
       "        vertical-align: middle;\n",
       "    }\n",
       "\n",
       "    .dataframe tbody tr th {\n",
       "        vertical-align: top;\n",
       "    }\n",
       "\n",
       "    .dataframe thead th {\n",
       "        text-align: right;\n",
       "    }\n",
       "</style>\n",
       "<table border=\"1\" class=\"dataframe\">\n",
       "  <thead>\n",
       "    <tr style=\"text-align: right;\">\n",
       "      <th></th>\n",
       "      <th>Rank</th>\n",
       "      <th>Major_code</th>\n",
       "      <th>Major</th>\n",
       "      <th>Major_category</th>\n",
       "      <th>Total</th>\n",
       "      <th>Men</th>\n",
       "      <th>Women</th>\n",
       "      <th>ShareWomen</th>\n",
       "      <th>Median</th>\n",
       "    </tr>\n",
       "  </thead>\n",
       "  <tbody>\n",
       "    <tr>\n",
       "      <th>0</th>\n",
       "      <td>1</td>\n",
       "      <td>2419</td>\n",
       "      <td>PETROLEUM ENGINEERING</td>\n",
       "      <td>Engineering</td>\n",
       "      <td>2339</td>\n",
       "      <td>2057</td>\n",
       "      <td>282</td>\n",
       "      <td>0.120564</td>\n",
       "      <td>110000</td>\n",
       "    </tr>\n",
       "    <tr>\n",
       "      <th>1</th>\n",
       "      <td>2</td>\n",
       "      <td>2416</td>\n",
       "      <td>MINING AND MINERAL ENGINEERING</td>\n",
       "      <td>Engineering</td>\n",
       "      <td>756</td>\n",
       "      <td>679</td>\n",
       "      <td>77</td>\n",
       "      <td>0.101852</td>\n",
       "      <td>75000</td>\n",
       "    </tr>\n",
       "    <tr>\n",
       "      <th>2</th>\n",
       "      <td>3</td>\n",
       "      <td>2415</td>\n",
       "      <td>METALLURGICAL ENGINEERING</td>\n",
       "      <td>Engineering</td>\n",
       "      <td>856</td>\n",
       "      <td>725</td>\n",
       "      <td>131</td>\n",
       "      <td>0.153037</td>\n",
       "      <td>73000</td>\n",
       "    </tr>\n",
       "    <tr>\n",
       "      <th>3</th>\n",
       "      <td>4</td>\n",
       "      <td>2417</td>\n",
       "      <td>NAVAL ARCHITECTURE AND MARINE ENGINEERING</td>\n",
       "      <td>Engineering</td>\n",
       "      <td>1258</td>\n",
       "      <td>1123</td>\n",
       "      <td>135</td>\n",
       "      <td>0.107313</td>\n",
       "      <td>70000</td>\n",
       "    </tr>\n",
       "    <tr>\n",
       "      <th>4</th>\n",
       "      <td>5</td>\n",
       "      <td>2418</td>\n",
       "      <td>NUCLEAR ENGINEERING</td>\n",
       "      <td>Engineering</td>\n",
       "      <td>2573</td>\n",
       "      <td>2200</td>\n",
       "      <td>373</td>\n",
       "      <td>0.144967</td>\n",
       "      <td>65000</td>\n",
       "    </tr>\n",
       "    <tr>\n",
       "      <th>...</th>\n",
       "      <td>...</td>\n",
       "      <td>...</td>\n",
       "      <td>...</td>\n",
       "      <td>...</td>\n",
       "      <td>...</td>\n",
       "      <td>...</td>\n",
       "      <td>...</td>\n",
       "      <td>...</td>\n",
       "      <td>...</td>\n",
       "    </tr>\n",
       "    <tr>\n",
       "      <th>71</th>\n",
       "      <td>72</td>\n",
       "      <td>3604</td>\n",
       "      <td>ECOLOGY</td>\n",
       "      <td>Biology &amp; Life Science</td>\n",
       "      <td>9154</td>\n",
       "      <td>3878</td>\n",
       "      <td>5276</td>\n",
       "      <td>0.576360</td>\n",
       "      <td>33000</td>\n",
       "    </tr>\n",
       "    <tr>\n",
       "      <th>72</th>\n",
       "      <td>73</td>\n",
       "      <td>6109</td>\n",
       "      <td>TREATMENT THERAPY PROFESSIONS</td>\n",
       "      <td>Health</td>\n",
       "      <td>48491</td>\n",
       "      <td>13487</td>\n",
       "      <td>35004</td>\n",
       "      <td>0.721866</td>\n",
       "      <td>33000</td>\n",
       "    </tr>\n",
       "    <tr>\n",
       "      <th>73</th>\n",
       "      <td>74</td>\n",
       "      <td>6100</td>\n",
       "      <td>GENERAL MEDICAL AND HEALTH SERVICES</td>\n",
       "      <td>Health</td>\n",
       "      <td>33599</td>\n",
       "      <td>7574</td>\n",
       "      <td>26025</td>\n",
       "      <td>0.774577</td>\n",
       "      <td>32400</td>\n",
       "    </tr>\n",
       "    <tr>\n",
       "      <th>74</th>\n",
       "      <td>75</td>\n",
       "      <td>6102</td>\n",
       "      <td>COMMUNICATION DISORDERS SCIENCES AND SERVICES</td>\n",
       "      <td>Health</td>\n",
       "      <td>38279</td>\n",
       "      <td>1225</td>\n",
       "      <td>37054</td>\n",
       "      <td>0.967998</td>\n",
       "      <td>28000</td>\n",
       "    </tr>\n",
       "    <tr>\n",
       "      <th>75</th>\n",
       "      <td>76</td>\n",
       "      <td>3609</td>\n",
       "      <td>ZOOLOGY</td>\n",
       "      <td>Biology &amp; Life Science</td>\n",
       "      <td>8409</td>\n",
       "      <td>3050</td>\n",
       "      <td>5359</td>\n",
       "      <td>0.637293</td>\n",
       "      <td>26000</td>\n",
       "    </tr>\n",
       "  </tbody>\n",
       "</table>\n",
       "<p>76 rows × 9 columns</p>\n",
       "</div>"
      ],
      "text/plain": [
       "    Rank  Major_code                                          Major  \\\n",
       "0      1        2419                          PETROLEUM ENGINEERING   \n",
       "1      2        2416                 MINING AND MINERAL ENGINEERING   \n",
       "2      3        2415                      METALLURGICAL ENGINEERING   \n",
       "3      4        2417      NAVAL ARCHITECTURE AND MARINE ENGINEERING   \n",
       "4      5        2418                            NUCLEAR ENGINEERING   \n",
       "..   ...         ...                                            ...   \n",
       "71    72        3604                                        ECOLOGY   \n",
       "72    73        6109                  TREATMENT THERAPY PROFESSIONS   \n",
       "73    74        6100            GENERAL MEDICAL AND HEALTH SERVICES   \n",
       "74    75        6102  COMMUNICATION DISORDERS SCIENCES AND SERVICES   \n",
       "75    76        3609                                        ZOOLOGY   \n",
       "\n",
       "            Major_category  Total    Men  Women  ShareWomen  Median  \n",
       "0              Engineering   2339   2057    282    0.120564  110000  \n",
       "1              Engineering    756    679     77    0.101852   75000  \n",
       "2              Engineering    856    725    131    0.153037   73000  \n",
       "3              Engineering   1258   1123    135    0.107313   70000  \n",
       "4              Engineering   2573   2200    373    0.144967   65000  \n",
       "..                     ...    ...    ...    ...         ...     ...  \n",
       "71  Biology & Life Science   9154   3878   5276    0.576360   33000  \n",
       "72                  Health  48491  13487  35004    0.721866   33000  \n",
       "73                  Health  33599   7574  26025    0.774577   32400  \n",
       "74                  Health  38279   1225  37054    0.967998   28000  \n",
       "75  Biology & Life Science   8409   3050   5359    0.637293   26000  \n",
       "\n",
       "[76 rows x 9 columns]"
      ]
     },
     "execution_count": 12,
     "metadata": {},
     "output_type": "execute_result"
    }
   ],
   "source": [
    "mydata"
   ]
  },
  {
   "cell_type": "code",
   "execution_count": 13,
   "id": "aeae9e69-e9a6-4d2e-a068-d1f3853e3604",
   "metadata": {},
   "outputs": [
    {
     "name": "stdout",
     "output_type": "stream",
     "text": [
      "    Rank  Major_code                                          Major  \\\n",
      "0      1        2419                          PETROLEUM ENGINEERING   \n",
      "1      2        2416                 MINING AND MINERAL ENGINEERING   \n",
      "2      3        2415                      METALLURGICAL ENGINEERING   \n",
      "3      4        2417      NAVAL ARCHITECTURE AND MARINE ENGINEERING   \n",
      "4      5        2418                            NUCLEAR ENGINEERING   \n",
      "..   ...         ...                                            ...   \n",
      "71    72        3604                                        ECOLOGY   \n",
      "72    73        6109                  TREATMENT THERAPY PROFESSIONS   \n",
      "73    74        6100            GENERAL MEDICAL AND HEALTH SERVICES   \n",
      "74    75        6102  COMMUNICATION DISORDERS SCIENCES AND SERVICES   \n",
      "75    76        3609                                        ZOOLOGY   \n",
      "\n",
      "            Major_category  Total    Men  Women  ShareWomen  Median  \n",
      "0              Engineering   2339   2057    282    0.120564  110000  \n",
      "1              Engineering    756    679     77    0.101852   75000  \n",
      "2              Engineering    856    725    131    0.153037   73000  \n",
      "3              Engineering   1258   1123    135    0.107313   70000  \n",
      "4              Engineering   2573   2200    373    0.144967   65000  \n",
      "..                     ...    ...    ...    ...         ...     ...  \n",
      "71  Biology & Life Science   9154   3878   5276    0.576360   33000  \n",
      "72                  Health  48491  13487  35004    0.721866   33000  \n",
      "73                  Health  33599   7574  26025    0.774577   32400  \n",
      "74                  Health  38279   1225  37054    0.967998   28000  \n",
      "75  Biology & Life Science   8409   3050   5359    0.637293   26000  \n",
      "\n",
      "[76 rows x 9 columns]\n"
     ]
    }
   ],
   "source": [
    "print(mydata)"
   ]
  },
  {
   "cell_type": "code",
   "execution_count": 14,
   "id": "09bfb3e3-1b6f-4f95-9f5c-aaad82f18180",
   "metadata": {},
   "outputs": [
    {
     "name": "stdout",
     "output_type": "stream",
     "text": [
      "   Rank  Major_code                                      Major Major_category  \\\n",
      "0     1        2419                      PETROLEUM ENGINEERING    Engineering   \n",
      "1     2        2416             MINING AND MINERAL ENGINEERING    Engineering   \n",
      "2     3        2415                  METALLURGICAL ENGINEERING    Engineering   \n",
      "3     4        2417  NAVAL ARCHITECTURE AND MARINE ENGINEERING    Engineering   \n",
      "4     5        2418                        NUCLEAR ENGINEERING    Engineering   \n",
      "\n",
      "   Total   Men  Women  ShareWomen  Median  \n",
      "0   2339  2057    282    0.120564  110000  \n",
      "1    756   679     77    0.101852   75000  \n",
      "2    856   725    131    0.153037   73000  \n",
      "3   1258  1123    135    0.107313   70000  \n",
      "4   2573  2200    373    0.144967   65000  \n"
     ]
    }
   ],
   "source": [
    "# Preview the data to understand its structure\n",
    "print(mydata.head())"
   ]
  },
  {
   "cell_type": "code",
   "execution_count": 15,
   "id": "3320d12f-cd5f-4a0a-8207-a7019a712e13",
   "metadata": {},
   "outputs": [
    {
     "name": "stdout",
     "output_type": "stream",
     "text": [
      "<class 'pandas.core.frame.DataFrame'>\n",
      "RangeIndex: 76 entries, 0 to 75\n",
      "Data columns (total 9 columns):\n",
      " #   Column          Non-Null Count  Dtype  \n",
      "---  ------          --------------  -----  \n",
      " 0   Rank            76 non-null     int64  \n",
      " 1   Major_code      76 non-null     int64  \n",
      " 2   Major           76 non-null     object \n",
      " 3   Major_category  76 non-null     object \n",
      " 4   Total           76 non-null     int64  \n",
      " 5   Men             76 non-null     int64  \n",
      " 6   Women           76 non-null     int64  \n",
      " 7   ShareWomen      76 non-null     float64\n",
      " 8   Median          76 non-null     int64  \n",
      "dtypes: float64(1), int64(6), object(2)\n",
      "memory usage: 5.5+ KB\n",
      "None\n"
     ]
    }
   ],
   "source": [
    "print(mydata.info()) "
   ]
  },
  {
   "cell_type": "code",
   "execution_count": 23,
   "id": "6fa2e8b2-b379-4e22-8461-896451d2818b",
   "metadata": {},
   "outputs": [],
   "source": [
    "x=mydata[['Rank','Major_code','Total','Men','Women','ShareWomen','Median']]"
   ]
  },
  {
   "cell_type": "code",
   "execution_count": 24,
   "id": "a089c65b-b85b-4951-8aa0-07cbca877770",
   "metadata": {},
   "outputs": [
    {
     "data": {
      "text/html": [
       "<div>\n",
       "<style scoped>\n",
       "    .dataframe tbody tr th:only-of-type {\n",
       "        vertical-align: middle;\n",
       "    }\n",
       "\n",
       "    .dataframe tbody tr th {\n",
       "        vertical-align: top;\n",
       "    }\n",
       "\n",
       "    .dataframe thead th {\n",
       "        text-align: right;\n",
       "    }\n",
       "</style>\n",
       "<table border=\"1\" class=\"dataframe\">\n",
       "  <thead>\n",
       "    <tr style=\"text-align: right;\">\n",
       "      <th></th>\n",
       "      <th>Rank</th>\n",
       "      <th>Major_code</th>\n",
       "      <th>Total</th>\n",
       "      <th>Men</th>\n",
       "      <th>Women</th>\n",
       "      <th>ShareWomen</th>\n",
       "      <th>Median</th>\n",
       "    </tr>\n",
       "  </thead>\n",
       "  <tbody>\n",
       "    <tr>\n",
       "      <th>0</th>\n",
       "      <td>1</td>\n",
       "      <td>2419</td>\n",
       "      <td>2339</td>\n",
       "      <td>2057</td>\n",
       "      <td>282</td>\n",
       "      <td>0.120564</td>\n",
       "      <td>110000</td>\n",
       "    </tr>\n",
       "    <tr>\n",
       "      <th>1</th>\n",
       "      <td>2</td>\n",
       "      <td>2416</td>\n",
       "      <td>756</td>\n",
       "      <td>679</td>\n",
       "      <td>77</td>\n",
       "      <td>0.101852</td>\n",
       "      <td>75000</td>\n",
       "    </tr>\n",
       "    <tr>\n",
       "      <th>2</th>\n",
       "      <td>3</td>\n",
       "      <td>2415</td>\n",
       "      <td>856</td>\n",
       "      <td>725</td>\n",
       "      <td>131</td>\n",
       "      <td>0.153037</td>\n",
       "      <td>73000</td>\n",
       "    </tr>\n",
       "    <tr>\n",
       "      <th>3</th>\n",
       "      <td>4</td>\n",
       "      <td>2417</td>\n",
       "      <td>1258</td>\n",
       "      <td>1123</td>\n",
       "      <td>135</td>\n",
       "      <td>0.107313</td>\n",
       "      <td>70000</td>\n",
       "    </tr>\n",
       "    <tr>\n",
       "      <th>4</th>\n",
       "      <td>5</td>\n",
       "      <td>2418</td>\n",
       "      <td>2573</td>\n",
       "      <td>2200</td>\n",
       "      <td>373</td>\n",
       "      <td>0.144967</td>\n",
       "      <td>65000</td>\n",
       "    </tr>\n",
       "    <tr>\n",
       "      <th>...</th>\n",
       "      <td>...</td>\n",
       "      <td>...</td>\n",
       "      <td>...</td>\n",
       "      <td>...</td>\n",
       "      <td>...</td>\n",
       "      <td>...</td>\n",
       "      <td>...</td>\n",
       "    </tr>\n",
       "    <tr>\n",
       "      <th>71</th>\n",
       "      <td>72</td>\n",
       "      <td>3604</td>\n",
       "      <td>9154</td>\n",
       "      <td>3878</td>\n",
       "      <td>5276</td>\n",
       "      <td>0.576360</td>\n",
       "      <td>33000</td>\n",
       "    </tr>\n",
       "    <tr>\n",
       "      <th>72</th>\n",
       "      <td>73</td>\n",
       "      <td>6109</td>\n",
       "      <td>48491</td>\n",
       "      <td>13487</td>\n",
       "      <td>35004</td>\n",
       "      <td>0.721866</td>\n",
       "      <td>33000</td>\n",
       "    </tr>\n",
       "    <tr>\n",
       "      <th>73</th>\n",
       "      <td>74</td>\n",
       "      <td>6100</td>\n",
       "      <td>33599</td>\n",
       "      <td>7574</td>\n",
       "      <td>26025</td>\n",
       "      <td>0.774577</td>\n",
       "      <td>32400</td>\n",
       "    </tr>\n",
       "    <tr>\n",
       "      <th>74</th>\n",
       "      <td>75</td>\n",
       "      <td>6102</td>\n",
       "      <td>38279</td>\n",
       "      <td>1225</td>\n",
       "      <td>37054</td>\n",
       "      <td>0.967998</td>\n",
       "      <td>28000</td>\n",
       "    </tr>\n",
       "    <tr>\n",
       "      <th>75</th>\n",
       "      <td>76</td>\n",
       "      <td>3609</td>\n",
       "      <td>8409</td>\n",
       "      <td>3050</td>\n",
       "      <td>5359</td>\n",
       "      <td>0.637293</td>\n",
       "      <td>26000</td>\n",
       "    </tr>\n",
       "  </tbody>\n",
       "</table>\n",
       "<p>76 rows × 7 columns</p>\n",
       "</div>"
      ],
      "text/plain": [
       "    Rank  Major_code  Total    Men  Women  ShareWomen  Median\n",
       "0      1        2419   2339   2057    282    0.120564  110000\n",
       "1      2        2416    756    679     77    0.101852   75000\n",
       "2      3        2415    856    725    131    0.153037   73000\n",
       "3      4        2417   1258   1123    135    0.107313   70000\n",
       "4      5        2418   2573   2200    373    0.144967   65000\n",
       "..   ...         ...    ...    ...    ...         ...     ...\n",
       "71    72        3604   9154   3878   5276    0.576360   33000\n",
       "72    73        6109  48491  13487  35004    0.721866   33000\n",
       "73    74        6100  33599   7574  26025    0.774577   32400\n",
       "74    75        6102  38279   1225  37054    0.967998   28000\n",
       "75    76        3609   8409   3050   5359    0.637293   26000\n",
       "\n",
       "[76 rows x 7 columns]"
      ]
     },
     "execution_count": 24,
     "metadata": {},
     "output_type": "execute_result"
    }
   ],
   "source": [
    "x"
   ]
  },
  {
   "cell_type": "code",
   "execution_count": 25,
   "id": "4a2618ca-147f-4855-a75d-445e3e9adba5",
   "metadata": {},
   "outputs": [
    {
     "name": "stdout",
     "output_type": "stream",
     "text": [
      "    Rank  Major_code  Total    Men  Women  ShareWomen  Median\n",
      "0      1        2419   2339   2057    282    0.120564  110000\n",
      "1      2        2416    756    679     77    0.101852   75000\n",
      "2      3        2415    856    725    131    0.153037   73000\n",
      "3      4        2417   1258   1123    135    0.107313   70000\n",
      "4      5        2418   2573   2200    373    0.144967   65000\n",
      "..   ...         ...    ...    ...    ...         ...     ...\n",
      "71    72        3604   9154   3878   5276    0.576360   33000\n",
      "72    73        6109  48491  13487  35004    0.721866   33000\n",
      "73    74        6100  33599   7574  26025    0.774577   32400\n",
      "74    75        6102  38279   1225  37054    0.967998   28000\n",
      "75    76        3609   8409   3050   5359    0.637293   26000\n",
      "\n",
      "[76 rows x 7 columns]     Rank  Major_code                                          Major  \\\n",
      "0      1        2419                          PETROLEUM ENGINEERING   \n",
      "1      2        2416                 MINING AND MINERAL ENGINEERING   \n",
      "2      3        2415                      METALLURGICAL ENGINEERING   \n",
      "3      4        2417      NAVAL ARCHITECTURE AND MARINE ENGINEERING   \n",
      "4      5        2418                            NUCLEAR ENGINEERING   \n",
      "..   ...         ...                                            ...   \n",
      "71    72        3604                                        ECOLOGY   \n",
      "72    73        6109                  TREATMENT THERAPY PROFESSIONS   \n",
      "73    74        6100            GENERAL MEDICAL AND HEALTH SERVICES   \n",
      "74    75        6102  COMMUNICATION DISORDERS SCIENCES AND SERVICES   \n",
      "75    76        3609                                        ZOOLOGY   \n",
      "\n",
      "            Major_category  Total    Men  Women  ShareWomen  Median  \n",
      "0              Engineering   2339   2057    282    0.120564  110000  \n",
      "1              Engineering    756    679     77    0.101852   75000  \n",
      "2              Engineering    856    725    131    0.153037   73000  \n",
      "3              Engineering   1258   1123    135    0.107313   70000  \n",
      "4              Engineering   2573   2200    373    0.144967   65000  \n",
      "..                     ...    ...    ...    ...         ...     ...  \n",
      "71  Biology & Life Science   9154   3878   5276    0.576360   33000  \n",
      "72                  Health  48491  13487  35004    0.721866   33000  \n",
      "73                  Health  33599   7574  26025    0.774577   32400  \n",
      "74                  Health  38279   1225  37054    0.967998   28000  \n",
      "75  Biology & Life Science   8409   3050   5359    0.637293   26000  \n",
      "\n",
      "[76 rows x 9 columns]\n"
     ]
    }
   ],
   "source": [
    "print(x,mydata)"
   ]
  },
  {
   "cell_type": "code",
   "execution_count": 26,
   "id": "413421f4-f8f5-4ff1-adef-1072d65b7f43",
   "metadata": {},
   "outputs": [],
   "source": [
    "y=mydata[['Major','Major_category']]\t"
   ]
  },
  {
   "cell_type": "code",
   "execution_count": 28,
   "id": "fdb10cd8-5af4-4ad0-9698-70cb52c6676a",
   "metadata": {},
   "outputs": [
    {
     "data": {
      "text/html": [
       "<div>\n",
       "<style scoped>\n",
       "    .dataframe tbody tr th:only-of-type {\n",
       "        vertical-align: middle;\n",
       "    }\n",
       "\n",
       "    .dataframe tbody tr th {\n",
       "        vertical-align: top;\n",
       "    }\n",
       "\n",
       "    .dataframe thead th {\n",
       "        text-align: right;\n",
       "    }\n",
       "</style>\n",
       "<table border=\"1\" class=\"dataframe\">\n",
       "  <thead>\n",
       "    <tr style=\"text-align: right;\">\n",
       "      <th></th>\n",
       "      <th>Major</th>\n",
       "      <th>Major_category</th>\n",
       "    </tr>\n",
       "  </thead>\n",
       "  <tbody>\n",
       "    <tr>\n",
       "      <th>0</th>\n",
       "      <td>PETROLEUM ENGINEERING</td>\n",
       "      <td>Engineering</td>\n",
       "    </tr>\n",
       "    <tr>\n",
       "      <th>1</th>\n",
       "      <td>MINING AND MINERAL ENGINEERING</td>\n",
       "      <td>Engineering</td>\n",
       "    </tr>\n",
       "    <tr>\n",
       "      <th>2</th>\n",
       "      <td>METALLURGICAL ENGINEERING</td>\n",
       "      <td>Engineering</td>\n",
       "    </tr>\n",
       "    <tr>\n",
       "      <th>3</th>\n",
       "      <td>NAVAL ARCHITECTURE AND MARINE ENGINEERING</td>\n",
       "      <td>Engineering</td>\n",
       "    </tr>\n",
       "    <tr>\n",
       "      <th>4</th>\n",
       "      <td>NUCLEAR ENGINEERING</td>\n",
       "      <td>Engineering</td>\n",
       "    </tr>\n",
       "    <tr>\n",
       "      <th>...</th>\n",
       "      <td>...</td>\n",
       "      <td>...</td>\n",
       "    </tr>\n",
       "    <tr>\n",
       "      <th>71</th>\n",
       "      <td>ECOLOGY</td>\n",
       "      <td>Biology &amp; Life Science</td>\n",
       "    </tr>\n",
       "    <tr>\n",
       "      <th>72</th>\n",
       "      <td>TREATMENT THERAPY PROFESSIONS</td>\n",
       "      <td>Health</td>\n",
       "    </tr>\n",
       "    <tr>\n",
       "      <th>73</th>\n",
       "      <td>GENERAL MEDICAL AND HEALTH SERVICES</td>\n",
       "      <td>Health</td>\n",
       "    </tr>\n",
       "    <tr>\n",
       "      <th>74</th>\n",
       "      <td>COMMUNICATION DISORDERS SCIENCES AND SERVICES</td>\n",
       "      <td>Health</td>\n",
       "    </tr>\n",
       "    <tr>\n",
       "      <th>75</th>\n",
       "      <td>ZOOLOGY</td>\n",
       "      <td>Biology &amp; Life Science</td>\n",
       "    </tr>\n",
       "  </tbody>\n",
       "</table>\n",
       "<p>76 rows × 2 columns</p>\n",
       "</div>"
      ],
      "text/plain": [
       "                                            Major          Major_category\n",
       "0                           PETROLEUM ENGINEERING             Engineering\n",
       "1                  MINING AND MINERAL ENGINEERING             Engineering\n",
       "2                       METALLURGICAL ENGINEERING             Engineering\n",
       "3       NAVAL ARCHITECTURE AND MARINE ENGINEERING             Engineering\n",
       "4                             NUCLEAR ENGINEERING             Engineering\n",
       "..                                            ...                     ...\n",
       "71                                        ECOLOGY  Biology & Life Science\n",
       "72                  TREATMENT THERAPY PROFESSIONS                  Health\n",
       "73            GENERAL MEDICAL AND HEALTH SERVICES                  Health\n",
       "74  COMMUNICATION DISORDERS SCIENCES AND SERVICES                  Health\n",
       "75                                        ZOOLOGY  Biology & Life Science\n",
       "\n",
       "[76 rows x 2 columns]"
      ]
     },
     "execution_count": 28,
     "metadata": {},
     "output_type": "execute_result"
    }
   ],
   "source": [
    "y"
   ]
  },
  {
   "cell_type": "code",
   "execution_count": 30,
   "id": "9e8ca7d7-8632-4e6d-abb8-4724ddb8a4e7",
   "metadata": {},
   "outputs": [
    {
     "name": "stdout",
     "output_type": "stream",
     "text": [
      "                                            Major          Major_category\n",
      "0                           PETROLEUM ENGINEERING             Engineering\n",
      "1                  MINING AND MINERAL ENGINEERING             Engineering\n",
      "2                       METALLURGICAL ENGINEERING             Engineering\n",
      "3       NAVAL ARCHITECTURE AND MARINE ENGINEERING             Engineering\n",
      "4                             NUCLEAR ENGINEERING             Engineering\n",
      "..                                            ...                     ...\n",
      "71                                        ECOLOGY  Biology & Life Science\n",
      "72                  TREATMENT THERAPY PROFESSIONS                  Health\n",
      "73            GENERAL MEDICAL AND HEALTH SERVICES                  Health\n",
      "74  COMMUNICATION DISORDERS SCIENCES AND SERVICES                  Health\n",
      "75                                        ZOOLOGY  Biology & Life Science\n",
      "\n",
      "[76 rows x 2 columns]     Rank  Major_code                                          Major  \\\n",
      "0      1        2419                          PETROLEUM ENGINEERING   \n",
      "1      2        2416                 MINING AND MINERAL ENGINEERING   \n",
      "2      3        2415                      METALLURGICAL ENGINEERING   \n",
      "3      4        2417      NAVAL ARCHITECTURE AND MARINE ENGINEERING   \n",
      "4      5        2418                            NUCLEAR ENGINEERING   \n",
      "..   ...         ...                                            ...   \n",
      "71    72        3604                                        ECOLOGY   \n",
      "72    73        6109                  TREATMENT THERAPY PROFESSIONS   \n",
      "73    74        6100            GENERAL MEDICAL AND HEALTH SERVICES   \n",
      "74    75        6102  COMMUNICATION DISORDERS SCIENCES AND SERVICES   \n",
      "75    76        3609                                        ZOOLOGY   \n",
      "\n",
      "            Major_category  Total    Men  Women  ShareWomen  Median  \n",
      "0              Engineering   2339   2057    282    0.120564  110000  \n",
      "1              Engineering    756    679     77    0.101852   75000  \n",
      "2              Engineering    856    725    131    0.153037   73000  \n",
      "3              Engineering   1258   1123    135    0.107313   70000  \n",
      "4              Engineering   2573   2200    373    0.144967   65000  \n",
      "..                     ...    ...    ...    ...         ...     ...  \n",
      "71  Biology & Life Science   9154   3878   5276    0.576360   33000  \n",
      "72                  Health  48491  13487  35004    0.721866   33000  \n",
      "73                  Health  33599   7574  26025    0.774577   32400  \n",
      "74                  Health  38279   1225  37054    0.967998   28000  \n",
      "75  Biology & Life Science   8409   3050   5359    0.637293   26000  \n",
      "\n",
      "[76 rows x 9 columns]\n"
     ]
    }
   ],
   "source": [
    "print(y,mydata)"
   ]
  },
  {
   "cell_type": "code",
   "execution_count": 31,
   "id": "75456a79-da7f-4123-9db0-45ba7b059ccf",
   "metadata": {},
   "outputs": [
    {
     "data": {
      "text/plain": [
       "array(['PETROLEUM ENGINEERING', 'MINING AND MINERAL ENGINEERING',\n",
       "       'METALLURGICAL ENGINEERING',\n",
       "       'NAVAL ARCHITECTURE AND MARINE ENGINEERING', 'NUCLEAR ENGINEERING',\n",
       "       'CHEMICAL ENGINEERING', 'ASTRONOMY AND ASTROPHYSICS',\n",
       "       'MECHANICAL ENGINEERING', 'AEROSPACE ENGINEERING',\n",
       "       'ELECTRICAL ENGINEERING', 'COMPUTER ENGINEERING',\n",
       "       'MATERIALS SCIENCE', 'BIOMEDICAL ENGINEERING',\n",
       "       'ENGINEERING MECHANICS PHYSICS AND SCIENCE',\n",
       "       'BIOLOGICAL ENGINEERING',\n",
       "       'INDUSTRIAL AND MANUFACTURING ENGINEERING', 'GENERAL ENGINEERING',\n",
       "       'ARCHITECTURAL ENGINEERING', 'COMPUTER SCIENCE',\n",
       "       'ELECTRICAL ENGINEERING TECHNOLOGY',\n",
       "       'MATERIALS ENGINEERING AND MATERIALS SCIENCE',\n",
       "       'MISCELLANEOUS ENGINEERING', 'CIVIL ENGINEERING',\n",
       "       'ENGINEERING TECHNOLOGIES',\n",
       "       'GEOLOGICAL AND GEOPHYSICAL ENGINEERING',\n",
       "       'ENVIRONMENTAL ENGINEERING', 'NURSING',\n",
       "       'INDUSTRIAL PRODUCTION TECHNOLOGIES',\n",
       "       'NUCLEAR, INDUSTRIAL RADIOLOGY, AND BIOLOGICAL TECHNOLOGIES',\n",
       "       'INFORMATION SCIENCES', 'COMPUTER AND INFORMATION SYSTEMS',\n",
       "       'PHYSICS', 'APPLIED MATHEMATICS', 'MATHEMATICS',\n",
       "       'STATISTICS AND DECISION SCIENCE', 'PHARMACOLOGY',\n",
       "       'MEDICAL TECHNOLOGIES TECHNICIANS', 'OCEANOGRAPHY',\n",
       "       'ENGINEERING AND INDUSTRIAL MANAGEMENT',\n",
       "       'MATHEMATICS AND COMPUTER SCIENCE', 'MEDICAL ASSISTING SERVICES',\n",
       "       'COMPUTER PROGRAMMING AND DATA PROCESSING',\n",
       "       'COGNITIVE SCIENCE AND BIOPSYCHOLOGY',\n",
       "       'MECHANICAL ENGINEERING RELATED TECHNOLOGIES',\n",
       "       'MISCELLANEOUS ENGINEERING TECHNOLOGIES', 'PHYSICAL SCIENCES',\n",
       "       'ARCHITECTURE', 'GENETICS', 'MOLECULAR BIOLOGY',\n",
       "       'PHARMACY PHARMACEUTICAL SCIENCES AND ADMINISTRATION', 'CHEMISTRY',\n",
       "       'MICROBIOLOGY', 'COMPUTER ADMINISTRATION MANAGEMENT AND SECURITY',\n",
       "       'BIOCHEMICAL SCIENCES', 'BOTANY',\n",
       "       'COMPUTER NETWORKING AND TELECOMMUNICATIONS',\n",
       "       'GEOLOGY AND EARTH SCIENCE', 'GEOSCIENCES',\n",
       "       'MISCELLANEOUS HEALTH MEDICAL PROFESSIONS',\n",
       "       'ENVIRONMENTAL SCIENCE', 'ATMOSPHERIC SCIENCES AND METEOROLOGY',\n",
       "       'COMMUNICATION TECHNOLOGIES',\n",
       "       'MULTI-DISCIPLINARY OR GENERAL SCIENCE', 'PHYSIOLOGY',\n",
       "       'NEUROSCIENCE', 'HEALTH AND MEDICAL ADMINISTRATIVE SERVICES',\n",
       "       'NUTRITION SCIENCES', 'COMMUNITY AND PUBLIC HEALTH',\n",
       "       'MISCELLANEOUS BIOLOGY', 'HEALTH AND MEDICAL PREPARATORY PROGRAMS',\n",
       "       'BIOLOGY', 'ECOLOGY', 'TREATMENT THERAPY PROFESSIONS',\n",
       "       'GENERAL MEDICAL AND HEALTH SERVICES',\n",
       "       'COMMUNICATION DISORDERS SCIENCES AND SERVICES', 'ZOOLOGY'],\n",
       "      dtype=object)"
      ]
     },
     "execution_count": 31,
     "metadata": {},
     "output_type": "execute_result"
    }
   ],
   "source": [
    "mydata['Major'].unique()"
   ]
  },
  {
   "cell_type": "code",
   "execution_count": 32,
   "id": "e52c226d-ef57-4d0e-aa7a-727fdd94b38e",
   "metadata": {},
   "outputs": [
    {
     "data": {
      "text/plain": [
       "array(['Engineering', 'Physical Sciences', 'Computers & Mathematics',\n",
       "       'Health', 'Biology & Life Science'], dtype=object)"
      ]
     },
     "execution_count": 32,
     "metadata": {},
     "output_type": "execute_result"
    }
   ],
   "source": [
    "mydata['Major_category'].unique()"
   ]
  },
  {
   "cell_type": "code",
   "execution_count": 33,
   "id": "6166b2bc-0a59-4659-97bd-31bfeb0dc82c",
   "metadata": {},
   "outputs": [],
   "source": [
    "from sklearn.preprocessing import LabelEncoder"
   ]
  },
  {
   "cell_type": "code",
   "execution_count": 35,
   "id": "63daa190-64ff-49c0-af34-6a0f7c035268",
   "metadata": {},
   "outputs": [],
   "source": [
    "Major=LabelEncoder()\n",
    "Major_category=LabelEncoder()"
   ]
  },
  {
   "cell_type": "code",
   "execution_count": 36,
   "id": "6d764d8b-be8c-4ba9-af76-132673890de2",
   "metadata": {},
   "outputs": [
    {
     "name": "stderr",
     "output_type": "stream",
     "text": [
      "C:\\Users\\DCS\\anaconda3\\Lib\\site-packages\\sklearn\\preprocessing\\_label.py:114: DataConversionWarning: A column-vector y was passed when a 1d array was expected. Please change the shape of y to (n_samples, ), for example using ravel().\n",
      "  y = column_or_1d(y, warn=True)\n",
      "C:\\Users\\DCS\\anaconda3\\Lib\\site-packages\\sklearn\\preprocessing\\_label.py:114: DataConversionWarning: A column-vector y was passed when a 1d array was expected. Please change the shape of y to (n_samples, ), for example using ravel().\n",
      "  y = column_or_1d(y, warn=True)\n"
     ]
    }
   ],
   "source": [
    "mydata['Major']=Major.fit_transform(mydata[['Major']])\n",
    "mydata['Major_category']=Major_category.fit_transform(mydata[['Major_category']])"
   ]
  },
  {
   "cell_type": "code",
   "execution_count": 37,
   "id": "2e55a695-5681-45f0-be92-de2cce84c8ef",
   "metadata": {},
   "outputs": [
    {
     "name": "stdout",
     "output_type": "stream",
     "text": [
      "    Rank  Major_code  Major  Major_category  Total    Men  Women  ShareWomen  \\\n",
      "0      1        2419     67               2   2339   2057    282    0.120564   \n",
      "1      2        2416     53               2    756    679     77    0.101852   \n",
      "2      3        2415     51               2    856    725    131    0.153037   \n",
      "3      4        2417     60               2   1258   1123    135    0.107313   \n",
      "4      5        2418     62               2   2573   2200    373    0.144967   \n",
      "..   ...         ...    ...             ...    ...    ...    ...         ...   \n",
      "71    72        3604     24               0   9154   3878   5276    0.576360   \n",
      "72    73        6109     74               3  48491  13487  35004    0.721866   \n",
      "73    74        6100     33               3  33599   7574  26025    0.774577   \n",
      "74    75        6102     15               3  38279   1225  37054    0.967998   \n",
      "75    76        3609     75               0   8409   3050   5359    0.637293   \n",
      "\n",
      "    Median  \n",
      "0   110000  \n",
      "1    75000  \n",
      "2    73000  \n",
      "3    70000  \n",
      "4    65000  \n",
      "..     ...  \n",
      "71   33000  \n",
      "72   33000  \n",
      "73   32400  \n",
      "74   28000  \n",
      "75   26000  \n",
      "\n",
      "[76 rows x 9 columns]\n"
     ]
    }
   ],
   "source": [
    "print(mydata)"
   ]
  },
  {
   "cell_type": "code",
   "execution_count": 39,
   "id": "89837ea5-34b2-4adf-ae8f-db6aaf3c27fc",
   "metadata": {},
   "outputs": [],
   "source": [
    "from sklearn.model_selection import train_test_split"
   ]
  },
  {
   "cell_type": "code",
   "execution_count": 40,
   "id": "9986fc1f-63f3-4051-82fa-045c0b7cbbc0",
   "metadata": {},
   "outputs": [],
   "source": [
    "x_train,x_test,y_train,y_test=train_test_split(x,y,test_size=0.2)"
   ]
  },
  {
   "cell_type": "code",
   "execution_count": 55,
   "id": "e91021bb-4c31-4599-9e35-f671491b1cd5",
   "metadata": {},
   "outputs": [],
   "source": [
    "from sklearn.ensemble import RandomForestClassifier"
   ]
  },
  {
   "cell_type": "code",
   "execution_count": 42,
   "id": "b9707b7e-7e77-4911-bcd9-b2b3b0781c1f",
   "metadata": {},
   "outputs": [],
   "source": [
    "# Initialize the RandomForestClassifier\n",
    "model = RandomForestClassifier(n_estimators=100, random_state=42)"
   ]
  },
  {
   "cell_type": "code",
   "execution_count": 43,
   "id": "3d7a2ea4-702a-4dc6-b165-c0604cad2021",
   "metadata": {},
   "outputs": [
    {
     "data": {
      "text/html": [
       "<style>#sk-container-id-1 {color: black;}#sk-container-id-1 pre{padding: 0;}#sk-container-id-1 div.sk-toggleable {background-color: white;}#sk-container-id-1 label.sk-toggleable__label {cursor: pointer;display: block;width: 100%;margin-bottom: 0;padding: 0.3em;box-sizing: border-box;text-align: center;}#sk-container-id-1 label.sk-toggleable__label-arrow:before {content: \"▸\";float: left;margin-right: 0.25em;color: #696969;}#sk-container-id-1 label.sk-toggleable__label-arrow:hover:before {color: black;}#sk-container-id-1 div.sk-estimator:hover label.sk-toggleable__label-arrow:before {color: black;}#sk-container-id-1 div.sk-toggleable__content {max-height: 0;max-width: 0;overflow: hidden;text-align: left;background-color: #f0f8ff;}#sk-container-id-1 div.sk-toggleable__content pre {margin: 0.2em;color: black;border-radius: 0.25em;background-color: #f0f8ff;}#sk-container-id-1 input.sk-toggleable__control:checked~div.sk-toggleable__content {max-height: 200px;max-width: 100%;overflow: auto;}#sk-container-id-1 input.sk-toggleable__control:checked~label.sk-toggleable__label-arrow:before {content: \"▾\";}#sk-container-id-1 div.sk-estimator input.sk-toggleable__control:checked~label.sk-toggleable__label {background-color: #d4ebff;}#sk-container-id-1 div.sk-label input.sk-toggleable__control:checked~label.sk-toggleable__label {background-color: #d4ebff;}#sk-container-id-1 input.sk-hidden--visually {border: 0;clip: rect(1px 1px 1px 1px);clip: rect(1px, 1px, 1px, 1px);height: 1px;margin: -1px;overflow: hidden;padding: 0;position: absolute;width: 1px;}#sk-container-id-1 div.sk-estimator {font-family: monospace;background-color: #f0f8ff;border: 1px dotted black;border-radius: 0.25em;box-sizing: border-box;margin-bottom: 0.5em;}#sk-container-id-1 div.sk-estimator:hover {background-color: #d4ebff;}#sk-container-id-1 div.sk-parallel-item::after {content: \"\";width: 100%;border-bottom: 1px solid gray;flex-grow: 1;}#sk-container-id-1 div.sk-label:hover label.sk-toggleable__label {background-color: #d4ebff;}#sk-container-id-1 div.sk-serial::before {content: \"\";position: absolute;border-left: 1px solid gray;box-sizing: border-box;top: 0;bottom: 0;left: 50%;z-index: 0;}#sk-container-id-1 div.sk-serial {display: flex;flex-direction: column;align-items: center;background-color: white;padding-right: 0.2em;padding-left: 0.2em;position: relative;}#sk-container-id-1 div.sk-item {position: relative;z-index: 1;}#sk-container-id-1 div.sk-parallel {display: flex;align-items: stretch;justify-content: center;background-color: white;position: relative;}#sk-container-id-1 div.sk-item::before, #sk-container-id-1 div.sk-parallel-item::before {content: \"\";position: absolute;border-left: 1px solid gray;box-sizing: border-box;top: 0;bottom: 0;left: 50%;z-index: -1;}#sk-container-id-1 div.sk-parallel-item {display: flex;flex-direction: column;z-index: 1;position: relative;background-color: white;}#sk-container-id-1 div.sk-parallel-item:first-child::after {align-self: flex-end;width: 50%;}#sk-container-id-1 div.sk-parallel-item:last-child::after {align-self: flex-start;width: 50%;}#sk-container-id-1 div.sk-parallel-item:only-child::after {width: 0;}#sk-container-id-1 div.sk-dashed-wrapped {border: 1px dashed gray;margin: 0 0.4em 0.5em 0.4em;box-sizing: border-box;padding-bottom: 0.4em;background-color: white;}#sk-container-id-1 div.sk-label label {font-family: monospace;font-weight: bold;display: inline-block;line-height: 1.2em;}#sk-container-id-1 div.sk-label-container {text-align: center;}#sk-container-id-1 div.sk-container {/* jupyter's `normalize.less` sets `[hidden] { display: none; }` but bootstrap.min.css set `[hidden] { display: none !important; }` so we also need the `!important` here to be able to override the default hidden behavior on the sphinx rendered scikit-learn.org. See: https://github.com/scikit-learn/scikit-learn/issues/21755 */display: inline-block !important;position: relative;}#sk-container-id-1 div.sk-text-repr-fallback {display: none;}</style><div id=\"sk-container-id-1\" class=\"sk-top-container\"><div class=\"sk-text-repr-fallback\"><pre>RandomForestClassifier(random_state=42)</pre><b>In a Jupyter environment, please rerun this cell to show the HTML representation or trust the notebook. <br />On GitHub, the HTML representation is unable to render, please try loading this page with nbviewer.org.</b></div><div class=\"sk-container\" hidden><div class=\"sk-item\"><div class=\"sk-estimator sk-toggleable\"><input class=\"sk-toggleable__control sk-hidden--visually\" id=\"sk-estimator-id-1\" type=\"checkbox\" checked><label for=\"sk-estimator-id-1\" class=\"sk-toggleable__label sk-toggleable__label-arrow\">RandomForestClassifier</label><div class=\"sk-toggleable__content\"><pre>RandomForestClassifier(random_state=42)</pre></div></div></div></div></div>"
      ],
      "text/plain": [
       "RandomForestClassifier(random_state=42)"
      ]
     },
     "execution_count": 43,
     "metadata": {},
     "output_type": "execute_result"
    }
   ],
   "source": [
    "# Train the model\n",
    "model.fit(x_train, y_train)"
   ]
  },
  {
   "cell_type": "code",
   "execution_count": 46,
   "id": "82a2f66d-866e-4cd7-bddc-e8d00baa7d3e",
   "metadata": {},
   "outputs": [
    {
     "name": "stdout",
     "output_type": "stream",
     "text": [
      "    Rank  Major_code   Total     Men   Women  ShareWomen  Median\n",
      "45    46        5000    1436     894     542    0.377437   40000\n",
      "17    18        2403    2825    1835     990    0.350442   54000\n",
      "51    52        3606   15232    6383    8849    0.580948   38000\n",
      "36    37        6105   15914    3916   11998    0.753927   45000\n",
      "12    13        2404   14955    8407    6548    0.437847   60000\n",
      "21    22        2499    9133    7398    1735    0.189970   50000\n",
      "67    68        6110   19735    4103   15632    0.792095   34000\n",
      "63    64        3608   22060    8422   13638    0.618223   35000\n",
      "0      1        2419    2339    2057     282    0.120564  110000\n",
      "9     10        2408   81527   65511   16016    0.196450   60000\n",
      "69    70        6106   12740    5521    7219    0.566641   33500\n",
      "65    66        6103   18109    4266   13843    0.764427   35000\n",
      "70    71        3600  280709  111762  168947    0.601858   33400\n",
      "48    49        3603   18300    7426   10874    0.594208   40000\n",
      "50    51        5003   66530   32923   33607    0.505141   39000\n",
      "34    35        3702    6251    2960    3291    0.526476   45000\n",
      "61    62        2001   18035   11431    6604    0.366177   35000\n",
      "5      6        2405   32260   21239   11021    0.341631   65000\n",
      "37    38        5006    2418     752    1666    0.688999   44700\n",
      "26    27        6107  209394   21773  187621    0.896019   48000\n",
      "38    39        2501    2906    2400     506    0.174123   44000\n",
      "29    30        2105   11913    9005    2908    0.244103   45000\n",
      "4      5        2418    2573    2200     373    0.144967   65000\n",
      "11    12        5008    4279    2949    1330    0.310820   60000\n",
      "58    59        6199   13386    1589   11797    0.881294   36000\n",
      "59    60        1301   25965   10787   15178    0.584556   35600\n",
      "31    32        5007   32142   23080    9062    0.281936   45000\n",
      "43    44        2504    4790    4419     371    0.077453   40000\n",
      "33    34        3700   72397   39956   32441    0.448099   45000\n",
      "1      2        2416     756     679      77    0.101852   75000\n",
      "55    56        2107    7613    5291    2322    0.305005   36400\n",
      "30    31        2100   36698   27392    9306    0.253583   45000\n",
      "19    20        2502   11565    8181    3384    0.292607   52000\n",
      "60    61        5002    4043    2744    1299    0.321296   35000\n",
      "16    17        2400   61152   45683   15469    0.252960   56000\n",
      "44    45        2599    8804    7043    1761    0.200023   40000\n",
      "25    26        2410    4047    2662    1385    0.342229   50000\n",
      "54    55        3602    1329     626     703    0.528969   37000\n",
      "42    43        4006    3831    1667    2164    0.564866   41000\n",
      "72    73        6109   48491   13487   35004    0.721866   33000\n",
      "20    21        2413    2993    2020     973    0.325092   52000\n",
      "68    69        3699   10706    4747    5959    0.556604   33500\n",
      "35    36        3607    1762     515    1247    0.707719   45000\n",
      "24    25        2411     720     488     232    0.322222   50000\n",
      "47    48        3605    3635    1761    1874    0.515543   40000\n",
      "32    33        3701    4939    2794    2145    0.434298   45000\n",
      "57    58        5005    1978     809    1169    0.591001   36000\n",
      "14    15        2402    8925    6062    2863    0.320784   57100\n",
      "75    76        3609    8409    3050    5359    0.637293   26000\n",
      "40    41        6104   11123     803   10320    0.927807   42000\n",
      "8      9        2401   15058   12953    2105    0.139793   60000\n",
      "22    23        2406   53153   41081   12072    0.227118   50000\n",
      "74    75        6102   38279    1225   37054    0.967998   28000\n",
      "23    24        2500    3600    2695     905    0.251389   50000\n",
      "27    28        2503    4631    3477    1154    0.249190   46000\n",
      "73    74        6100   33599    7574   26025    0.774577   32400\n",
      "15    16        2412   18968   12453    6515    0.343473   57000\n",
      "66    67        4002   18909    2563   16346    0.864456   35000\n",
      "64    65        3611   13663    4944    8719    0.638147   35000\n",
      "2      3        2415     856     725     131    0.153037   73000\n"
     ]
    }
   ],
   "source": [
    "print(x_train)"
   ]
  },
  {
   "cell_type": "code",
   "execution_count": 47,
   "id": "676417af-3d15-4d66-9a49-84aee23818b8",
   "metadata": {},
   "outputs": [
    {
     "name": "stdout",
     "output_type": "stream",
     "text": [
      "    Rank  Major_code   Total    Men  Women  ShareWomen  Median\n",
      "10    11        2407   41542  33258   8284    0.199413   60000\n",
      "71    72        3604    9154   3878   5276    0.576360   33000\n",
      "7      8        2414   91227  80320  10907    0.119559   60000\n",
      "3      4        2417    1258   1123    135    0.107313   70000\n",
      "46    47        1401   46420  25463  20957    0.451465   40000\n",
      "41    42        2101    4168   3046   1122    0.269194   41300\n",
      "6      7        5001    1792    832    960    0.535714   62000\n",
      "28    29        5102    2116    528   1588    0.750473   46000\n",
      "52    53        2106    8066   6607   1459    0.180883   37500\n",
      "56    57        5004   10972   5813   5159    0.470197   36200\n",
      "18    19        2102  128319  99743  28576    0.222695   53000\n",
      "13    14        2409    4321   3526    795    0.183985   58000\n",
      "39    40        4005     609    500    109    0.178982   42000\n",
      "62    63        5098   62052  27015  35037    0.564639   35000\n",
      "53    54        3601   39107  18951  20156    0.515406   37400\n",
      "49    50        6108   23551   8697  14854    0.630716   40000\n"
     ]
    }
   ],
   "source": [
    "print(x_test)"
   ]
  },
  {
   "cell_type": "code",
   "execution_count": 48,
   "id": "94da53cf-5148-4f4c-9b00-f40d73dd7d1c",
   "metadata": {},
   "outputs": [],
   "source": [
    "# Make predictions\n",
    "y_pred = model.predict(x_test)"
   ]
  },
  {
   "cell_type": "code",
   "execution_count": 61,
   "id": "fdce1be7-5155-453f-bcbc-564f4feb4a98",
   "metadata": {},
   "outputs": [
    {
     "name": "stdout",
     "output_type": "stream",
     "text": [
      "[['CIVIL ENGINEERING' 'Engineering']\n",
      " ['ZOOLOGY' 'Biology & Life Science']\n",
      " ['ELECTRICAL ENGINEERING' 'Engineering']\n",
      " ['METALLURGICAL ENGINEERING' 'Engineering']\n",
      " ['ENVIRONMENTAL SCIENCE' 'Computers & Mathematics']\n",
      " ['MECHANICAL ENGINEERING RELATED TECHNOLOGIES' 'Engineering']\n",
      " ['GEOSCIENCES' 'Engineering']\n",
      " ['OCEANOGRAPHY' 'Physical Sciences']\n",
      " ['MISCELLANEOUS ENGINEERING TECHNOLOGIES' 'Engineering']\n",
      " ['CHEMISTRY' 'Physical Sciences']\n",
      " ['GENERAL ENGINEERING' 'Engineering']\n",
      " ['ENVIRONMENTAL ENGINEERING' 'Engineering']\n",
      " ['ENGINEERING AND INDUSTRIAL MANAGEMENT' 'Engineering']\n",
      " ['CHEMISTRY' 'Health']\n",
      " ['ENVIRONMENTAL SCIENCE' 'Biology & Life Science']\n",
      " ['HEALTH AND MEDICAL PREPARATORY PROGRAMS' 'Health']]\n"
     ]
    }
   ],
   "source": [
    "print(y_pred)"
   ]
  },
  {
   "cell_type": "markdown",
   "id": "c4e131b6",
   "metadata": {},
   "source": [
    "# thise paroject 3. Data Analysis"
   ]
  },
  {
   "cell_type": "code",
   "execution_count": 64,
   "id": "3c605bcf-b7f7-4ad6-9ad9-d3e0ffde4b26",
   "metadata": {},
   "outputs": [
    {
     "data": {
      "image/png": "[encoded data removed]",
      "text/plain": [
       "<Figure size 1000x600 with 1 Axes>"
      ]
     },
     "metadata": {},
     "output_type": "display_data"
    }
   ],
   "source": [
    "import matplotlib.pyplot as plt\n",
    "import seaborn as sns\n",
    "\n",
    "# Plot distribution of Women in STEM\n",
    "plt.figure(figsize=(10, 6))\n",
    "sns.histplot(mydata['Women'], bins=20, kde=True)\n",
    "plt.title('Distribution of Women in STEM')\n",
    "plt.xlabel('Number of Women')\n",
    "plt.ylabel('Frequency')\n",
    "plt.show()\n"
   ]
  },
  {
   "cell_type": "code",
   "execution_count": 65,
   "id": "f04d806f",
   "metadata": {},
   "outputs": [
    {
     "data": {
      "image/png": "[encoded data removed]",
      "text/plain": [
       "<Figure size 1200x600 with 1 Axes>"
      ]
     },
     "metadata": {},
     "output_type": "display_data"
    }
   ],
   "source": [
    "# Plot the average share of women by major category\n",
    "plt.figure(figsize=(12, 6))\n",
    "sns.barplot(data=mydata, x='Major_category', y='ShareWomen', estimator='mean')\n",
    "plt.title('Average Share of Women by Major Category')\n",
    "plt.xlabel('Major Category')\n",
    "plt.ylabel('Average Share of Women')\n",
    "plt.xticks(rotation=45)\n",
    "plt.show()\n"
   ]
  },
  {
   "cell_type": "code",
   "execution_count": 66,
   "id": "02455e2a",
   "metadata": {},
   "outputs": [
    {
     "data": {
      "image/png": "[encoded data removed]",
      "text/plain": [
       "<Figure size 1000x800 with 2 Axes>"
      ]
     },
     "metadata": {},
     "output_type": "display_data"
    }
   ],
   "source": [
    "# Correlation matrix for numerical features\n",
    "plt.figure(figsize=(10, 8))\n",
    "correlation = mydata[['Rank', 'Total', 'Men', 'Women', 'ShareWomen', 'Median']].corr()\n",
    "sns.heatmap(correlation, annot=True, cmap='coolwarm', fmt=\".2f\")\n",
    "plt.title('Correlation Heatmap')\n",
    "plt.show()\n"
   ]
  },
  {
   "cell_type": "code",
   "execution_count": null,
   "id": "35d28326",
   "metadata": {},
   "outputs": [],
   "source": []
  }
 ],
 "metadata": {
  "kernelspec": {
   "display_name": "Python 3 (ipykernel)",
   "language": "python",
   "name": "python3"
  },
  "language_info": {
   "codemirror_mode": {
    "name": "ipython",
    "version": 3
   },
   "file_extension": ".py",
   "mimetype": "text/x-python",
   "name": "python",
   "nbconvert_exporter": "python",
   "pygments_lexer": "ipython3",
   "version": "3.11.5"
  },
  "widgets": {
   "application/vnd.jupyter.widget-state+json": {
    "state": {},
    "version_major": 2,
    "version_minor": 0
   }
  }
 },
 "nbformat": 4,
 "nbformat_minor": 5
}
