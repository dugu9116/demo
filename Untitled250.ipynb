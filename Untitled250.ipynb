{
 "cells": [
  {
   "cell_type": "code",
   "execution_count": null,
   "id": "ac59b522-f06e-455e-97bc-50644c53682d",
   "metadata": {},
   "outputs": [],
   "source": [
    "import pandas as pd \n",
    "from sklearn.metrics import mean_absolute_error, mean_squared_error, r2_score"
   ]
  },
  {
   "cell_type": "code",
   "execution_count": null,
   "id": "7a0aa2cb-916c-41c4-811f-8300185bceb2",
   "metadata": {},
   "outputs": [],
   "source": [
    "mydata=pd.read_csv(r'C:\\Users\\DCS\\Desktop\\weatherHistory.csv')"
   ]
  },
  {
   "cell_type": "code",
   "execution_count": null,
   "id": "f5404b4d-d0be-4ba4-8a25-ac8f4fc750a4",
   "metadata": {},
   "outputs": [],
   "source": [
    "mydata"
   ]
  },
  {
   "cell_type": "code",
   "execution_count": null,
   "id": "af1b6fee-bd81-4394-ba71-765431cd9681",
   "metadata": {},
   "outputs": [],
   "source": [
    "# Display the first few rows of the dataset\n",
    "print(mydata.head())"
   ]
  },
  {
   "cell_type": "code",
   "execution_count": null,
   "id": "e3bdae80-b3fd-4864-8ec4-661af146feef",
   "metadata": {},
   "outputs": [],
   "source": [
    "\n",
    "# Display dataset info to check data types and missing values\n",
    "print(mydata.info())"
   ]
  },
  {
   "cell_type": "code",
   "execution_count": null,
   "id": "0d142855-cb8b-4d69-bf47-55e6e82b1fbf",
   "metadata": {},
   "outputs": [],
   "source": [
    "mydata.shape"
   ]
  },
  {
   "cell_type": "code",
   "execution_count": null,
   "id": "18d3ac3c-b65e-4f4a-8893-9d9b72dddafb",
   "metadata": {},
   "outputs": [],
   "source": [
    "print(mydata).dtypes()"
   ]
  },
  {
   "cell_type": "code",
   "execution_count": null,
   "id": "a85c8a7a-1a1c-4ad0-bcb9-3ce1300b4e7e",
   "metadata": {},
   "outputs": [],
   "source": [
    "# Check for missing values\n",
    "print(mydata.isnull().sum())"
   ]
  },
  {
   "cell_type": "code",
   "execution_count": null,
   "id": "a17312f1-9784-40f9-8df7-5bd569925533",
   "metadata": {},
   "outputs": [],
   "source": [
    "\n",
    "# Fill missing values if necessary\n",
    "mydata.fillna(method='ffill', inplace=True)  # Forward fill or use other methods as needed\n"
   ]
  },
  {
   "cell_type": "code",
   "execution_count": null,
   "id": "0809497c-74a1-487f-8abd-88f92b1d5d7d",
   "metadata": {},
   "outputs": [],
   "source": [
    "print(mydata)"
   ]
  },
  {
   "cell_type": "code",
   "execution_count": null,
   "id": "a693af72-87c7-4e9a-bc8e-d9d0c76fb509",
   "metadata": {},
   "outputs": [],
   "source": [
    "# Drop irrelevant columns (e.g., 'Formatted Date' or 'Summary' if they are not useful)\n",
    "mydata = mydata.drop(['Formatted Date', 'Summary'], axis=1)\n"
   ]
  },
  {
   "cell_type": "code",
   "execution_count": null,
   "id": "247aedca-d868-42fa-8050-fb4c2f8ceb00",
   "metadata": {},
   "outputs": [],
   "source": [
    "print(mydata)"
   ]
  },
  {
   "cell_type": "code",
   "execution_count": null,
   "id": "9bc4a0bf-e8b3-44d8-bdbc-8d46107608a7",
   "metadata": {},
   "outputs": [],
   "source": [
    "# If there are categorical variables like 'PrecipType', encode them\n",
    "mydata= pd.get_dummies(mydata, drop_first=True)\n"
   ]
  },
  {
   "cell_type": "code",
   "execution_count": null,
   "id": "fb631709-0819-46b4-bdae-d8aa508799ab",
   "metadata": {},
   "outputs": [],
   "source": [
    "print(mydata)"
   ]
  },
  {
   "cell_type": "code",
   "execution_count": null,
   "id": "9ab6c5cb-8d13-40e0-804a-cb14df5e50fa",
   "metadata": {},
   "outputs": [],
   "source": [
    "# Define the feature matrix (X) and target variable (y) for prediction\n",
    "x=mydata.drop('Temperature (C)', axis=1)  # Predicting temperature as an example"
   ]
  },
  {
   "cell_type": "code",
   "execution_count": null,
   "id": "2ddeec62-5a7f-4c03-9727-3349cfc8fff0",
   "metadata": {},
   "outputs": [],
   "source": [
    "print(mydata)"
   ]
  },
  {
   "cell_type": "code",
   "execution_count": null,
   "id": "61c9df99-d95d-40ce-b143-3f4fc59a0a0a",
   "metadata": {},
   "outputs": [],
   "source": [
    "y = mydata['Temperature (C)']"
   ]
  },
  {
   "cell_type": "code",
   "execution_count": null,
   "id": "73baad2f-96e3-4278-95f3-a3653d5f5afc",
   "metadata": {},
   "outputs": [],
   "source": [
    "print(mydata)"
   ]
  },
  {
   "cell_type": "code",
   "execution_count": null,
   "id": "20c89b4f-540e-4edd-886b-8d7ed96cb7ee",
   "metadata": {},
   "outputs": [],
   "source": [
    "from sklearn.model_selection import train_test_split "
   ]
  },
  {
   "cell_type": "code",
   "execution_count": null,
   "id": "26c0eb45-0210-4b4f-9090-e853d0b724a6",
   "metadata": {},
   "outputs": [],
   "source": [
    "# Split the data into training and testing sets (80% training, 20% testing)\n",
    "x_train,x_test,y_train,y_test = train_test_split(x, y, test_size=0.2, random_state=42)\n"
   ]
  },
  {
   "cell_type": "code",
   "execution_count": null,
   "id": "9f786d10-f707-4394-9a8d-f914365c8cb1",
   "metadata": {},
   "outputs": [],
   "source": [
    "from sklearn.preprocessing import StandardScaler"
   ]
  },
  {
   "cell_type": "code",
   "execution_count": null,
   "id": "c45a7e7a-ab12-47bb-903b-edac4971ad43",
   "metadata": {},
   "outputs": [],
   "source": [
    "# Feature scaling (standardizing the features)\n",
    "scaler = StandardScaler()\n",
    "x_train = scaler.fit_transform(x_train)\n",
    "x_test = scaler.transform(x_test)"
   ]
  },
  {
   "cell_type": "code",
   "execution_count": null,
   "id": "9c3118b3-c8f5-4f37-8490-2e2a0f8357f6",
   "metadata": {},
   "outputs": [],
   "source": [
    "print(x_train)"
   ]
  },
  {
   "cell_type": "code",
   "execution_count": null,
   "id": "2b9770bc-d606-4c44-bb76-ca32117317be",
   "metadata": {},
   "outputs": [],
   "source": [
    "print(x_test)"
   ]
  },
  {
   "cell_type": "code",
   "execution_count": null,
   "id": "c3356205-8fd7-4e51-9b4f-c7fc8cdac0d9",
   "metadata": {},
   "outputs": [],
   "source": [
    "from sklearn.linear_model import LinearRegression\n",
    "\n",
    "# Train Linear Regression model\n",
    "lr_model = LinearRegression()\n",
    "lr_model.fit(x_train, y_train)\n",
    "\n",
    "# Predict temperature on test data\n",
    "y_pred_lr = lr_model.predict(x_test)\n"
   ]
  },
  {
   "cell_type": "code",
   "execution_count": null,
   "id": "3025860f-d9f6-4f71-824e-f4d6af5efb27",
   "metadata": {},
   "outputs": [],
   "source": [
    " #Linear Regression Evaluation"
   ]
  },
  {
   "cell_type": "code",
   "execution_count": null,
   "id": "933f13d7-20d0-41f7-a8b6-af22a2b1fd05",
   "metadata": {},
   "outputs": [],
   "source": [
    "print(\"Linear Regression Performance:\")"
   ]
  },
  {
   "cell_type": "code",
   "execution_count": null,
   "id": "a5a5fc8f-7d1e-4428-8685-3f84905fffd3",
   "metadata": {},
   "outputs": [],
   "source": [
    "print(\"R² Score:\", r2_score(y_test, y_pred_lr))"
   ]
  },
  {
   "cell_type": "code",
   "execution_count": null,
   "id": "bf7254f0-971d-4dbe-a926-837c0cef7416",
   "metadata": {},
   "outputs": [],
   "source": [
    "print(\"MAE:\", mean_absolute_error(y_test, y_pred_lr))"
   ]
  },
  {
   "cell_type": "code",
   "execution_count": null,
   "id": "e7c41529-2110-4b5e-9edf-108187eddd27",
   "metadata": {},
   "outputs": [],
   "source": [
    "print(\"MSE:\", mean_squared_error(y_test, y_pred_lr))"
   ]
  },
  {
   "cell_type": "code",
   "execution_count": null,
   "id": "e6e5c5d8-1bda-4db3-a56d-61617a6cdfe8",
   "metadata": {},
   "outputs": [],
   "source": [
    "from sklearn.ensemble import RandomForestRegressor"
   ]
  },
  {
   "cell_type": "code",
   "execution_count": null,
   "id": "2424214f-ca60-4ffe-af7b-ba5362cee553",
   "metadata": {},
   "outputs": [],
   "source": [
    "RC= RandomForestRegressor(n_estimators=100, random_state=42)"
   ]
  },
  {
   "cell_type": "code",
   "execution_count": null,
   "id": "6eab3a74-426b-4e2a-a43e-0203a183b77a",
   "metadata": {},
   "outputs": [],
   "source": [
    "# Train Random Forest model\n",
    "rf_model = RandomForestRegressor(n_estimators=100, random_state=42)\n",
    "rf_model.fit(x_train, y_train)"
   ]
  },
  {
   "cell_type": "code",
   "execution_count": null,
   "id": "bf61f6ee-2735-46b8-bde2-537e4fb37e7a",
   "metadata": {},
   "outputs": [],
   "source": [
    "# Predict temperature on test data\n",
    "y_pred_rf = rf_model.predict(x_test)"
   ]
  },
  {
   "cell_type": "code",
   "execution_count": null,
   "id": "4704a0a6-1857-4093-bd6e-199e10aae247",
   "metadata": {},
   "outputs": [],
   "source": [
    "# Random Forest Evaluation\n",
    "print(\"\\nRandom Forest Performance:\")"
   ]
  },
  {
   "cell_type": "code",
   "execution_count": null,
   "id": "1c3e170e-b22f-4364-95eb-48281d1e1bb8",
   "metadata": {},
   "outputs": [],
   "source": [
    "print(\"MAE:\", mean_absolute_error(y_test, y_pred_rf))"
   ]
  },
  {
   "cell_type": "code",
   "execution_count": null,
   "id": "1d1d5135-d427-45a1-a7b8-3c0f08f07e73",
   "metadata": {},
   "outputs": [],
   "source": [
    "print(\"MSE:\", mean_squared_error(y_test, y_pred_rf))"
   ]
  },
  {
   "cell_type": "code",
   "execution_count": null,
   "id": "3be608e3-ddc2-4358-a5bb-4514acd07b1a",
   "metadata": {},
   "outputs": [],
   "source": [
    "print(\"R² Score:\", r2_score(y_test, y_pred_rf))"
   ]
  },
  {
   "cell_type": "code",
   "execution_count": null,
   "id": "2082ec08-1323-49b4-a9b5-0a8fcdb8fb9a",
   "metadata": {},
   "outputs": [],
   "source": []
  },
  {
   "cell_type": "code",
   "execution_count": null,
   "id": "fb6d6881-2546-4a40-9b1e-e6c3d48f6415",
   "metadata": {},
   "outputs": [],
   "source": []
  },
  {
   "cell_type": "code",
   "execution_count": null,
   "id": "38f8953e-a423-40a4-b630-a0cf568dfe94",
   "metadata": {},
   "outputs": [],
   "source": []
  },
  {
   "cell_type": "code",
   "execution_count": null,
   "id": "469b0bf1-b2bf-49c4-925b-6c20f465ee3a",
   "metadata": {},
   "outputs": [],
   "source": []
  },
  {
   "cell_type": "code",
   "execution_count": null,
   "id": "98bac7d3-a0ac-4db1-8bd4-b3d4d0a925d9",
   "metadata": {},
   "outputs": [],
   "source": []
  }
 ],
 "metadata": {
  "kernelspec": {
   "display_name": "Python 3 (ipykernel)",
   "language": "python",
   "name": "python3"
  },
  "language_info": {
   "codemirror_mode": {
    "name": "ipython",
    "version": 3
   },
   "file_extension": ".py",
   "mimetype": "text/x-python",
   "name": "python",
   "nbconvert_exporter": "python",
   "pygments_lexer": "ipython3",
   "version": "3.11.5"
  },
  "widgets": {
   "application/vnd.jupyter.widget-state+json": {
    "state": {},
    "version_major": 2,
    "version_minor": 0
   }
  }
 },
 "nbformat": 4,
 "nbformat_minor": 5
}
