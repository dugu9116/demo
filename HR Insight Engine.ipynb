{
 "cells": [
  {
   "cell_type": "code",
   "execution_count": 20,
   "id": "300eaded-f56b-4fc9-930b-b0cb6c82e973",
   "metadata": {},
   "outputs": [],
   "source": [
    "import pandas as pd "
   ]
  },
  {
   "cell_type": "code",
   "execution_count": 26,
   "id": "9402c6b8-0fbb-4902-aa24-44787743ac07",
   "metadata": {},
   "outputs": [
    {
     "name": "stdout",
     "output_type": "stream",
     "text": [
      "      Education  JoiningYear       City  PaymentTier  Age  Gender EverBenched  \\\n",
      "0     Bachelors         2017  Bangalore            3   34    Male          No   \n",
      "1     Bachelors         2013       Pune            1   28  Female          No   \n",
      "2     Bachelors         2014  New Delhi            3   38  Female          No   \n",
      "3       Masters         2016  Bangalore            3   27    Male          No   \n",
      "4       Masters         2017       Pune            3   24    Male         Yes   \n",
      "...         ...          ...        ...          ...  ...     ...         ...   \n",
      "4648  Bachelors         2013  Bangalore            3   26  Female          No   \n",
      "4649    Masters         2013       Pune            2   37    Male          No   \n",
      "4650    Masters         2018  New Delhi            3   27    Male          No   \n",
      "4651  Bachelors         2012  Bangalore            3   30    Male         Yes   \n",
      "4652  Bachelors         2015  Bangalore            3   33    Male         Yes   \n",
      "\n",
      "      ExperienceInCurrentDomain  LeaveOrNot  \n",
      "0                             0           0  \n",
      "1                             3           1  \n",
      "2                             2           0  \n",
      "3                             5           1  \n",
      "4                             2           1  \n",
      "...                         ...         ...  \n",
      "4648                          4           0  \n",
      "4649                          2           1  \n",
      "4650                          5           1  \n",
      "4651                          2           0  \n",
      "4652                          4           0  \n",
      "\n",
      "[4653 rows x 9 columns]\n"
     ]
    }
   ],
   "source": [
    "import pandas as pd\n",
    "\n",
    "# Load the employee dataset\n",
    "file_path = r'C:\\Users\\DCS\\Desktop\\Employee.csv'\n",
    "mydata = pd.read_csv(file_path)\n",
    "\n",
    "print(mydata)"
   ]
  },
  {
   "cell_type": "code",
   "execution_count": 27,
   "id": "7089e838-c69a-4ce0-b9e6-d1a9ed9bf30e",
   "metadata": {},
   "outputs": [
    {
     "name": "stdout",
     "output_type": "stream",
     "text": [
      "\n",
      "Basic Information:\n",
      "<class 'pandas.core.frame.DataFrame'>\n",
      "RangeIndex: 4653 entries, 0 to 4652\n",
      "Data columns (total 9 columns):\n",
      " #   Column                     Non-Null Count  Dtype \n",
      "---  ------                     --------------  ----- \n",
      " 0   Education                  4653 non-null   object\n",
      " 1   JoiningYear                4653 non-null   int64 \n",
      " 2   City                       4653 non-null   object\n",
      " 3   PaymentTier                4653 non-null   int64 \n",
      " 4   Age                        4653 non-null   int64 \n",
      " 5   Gender                     4653 non-null   object\n",
      " 6   EverBenched                4653 non-null   object\n",
      " 7   ExperienceInCurrentDomain  4653 non-null   int64 \n",
      " 8   LeaveOrNot                 4653 non-null   int64 \n",
      "dtypes: int64(5), object(4)\n",
      "memory usage: 327.3+ KB\n",
      "None\n"
     ]
    }
   ],
   "source": [
    "# Display basic information about the dataset\n",
    "print(\"\\nBasic Information:\")\n",
    "print(mydata.info())\n",
    "\n"
   ]
  },
  {
   "cell_type": "code",
   "execution_count": 28,
   "id": "184fd828-b3f0-4914-be70-007c32334549",
   "metadata": {},
   "outputs": [
    {
     "name": "stdout",
     "output_type": "stream",
     "text": [
      "\n",
      "Sample Data:\n",
      "   Education  JoiningYear       City  PaymentTier  Age  Gender EverBenched  \\\n",
      "0  Bachelors         2017  Bangalore            3   34    Male          No   \n",
      "1  Bachelors         2013       Pune            1   28  Female          No   \n",
      "2  Bachelors         2014  New Delhi            3   38  Female          No   \n",
      "3    Masters         2016  Bangalore            3   27    Male          No   \n",
      "4    Masters         2017       Pune            3   24    Male         Yes   \n",
      "\n",
      "   ExperienceInCurrentDomain  LeaveOrNot  \n",
      "0                          0           0  \n",
      "1                          3           1  \n",
      "2                          2           0  \n",
      "3                          5           1  \n",
      "4                          2           1  \n"
     ]
    }
   ],
   "source": [
    "# Display the first few rows of the dataset\n",
    "print(\"\\nSample Data:\")\n",
    "print(mydata.head())\n"
   ]
  },
  {
   "cell_type": "code",
   "execution_count": 29,
   "id": "90d06904-149a-4b1d-937f-29179e65621e",
   "metadata": {},
   "outputs": [
    {
     "name": "stdout",
     "output_type": "stream",
     "text": [
      "\n",
      "Missing Values:\n",
      "Education                    0\n",
      "JoiningYear                  0\n",
      "City                         0\n",
      "PaymentTier                  0\n",
      "Age                          0\n",
      "Gender                       0\n",
      "EverBenched                  0\n",
      "ExperienceInCurrentDomain    0\n",
      "LeaveOrNot                   0\n",
      "dtype: int64\n"
     ]
    }
   ],
   "source": [
    "# Check for missing values\n",
    "print(\"\\nMissing Values:\")\n",
    "print(mydata.isnull().sum())\n",
    "\n"
   ]
  },
  {
   "cell_type": "code",
   "execution_count": 30,
   "id": "214b4eb3-f5d0-4185-9548-a848e324f5c4",
   "metadata": {},
   "outputs": [
    {
     "name": "stdout",
     "output_type": "stream",
     "text": [
      "\n",
      "Summary Statistics:\n",
      "       JoiningYear  PaymentTier          Age  ExperienceInCurrentDomain  \\\n",
      "count  4653.000000  4653.000000  4653.000000                4653.000000   \n",
      "mean   2015.062970     2.698259    29.393295                   2.905652   \n",
      "std       1.863377     0.561435     4.826087                   1.558240   \n",
      "min    2012.000000     1.000000    22.000000                   0.000000   \n",
      "25%    2013.000000     3.000000    26.000000                   2.000000   \n",
      "50%    2015.000000     3.000000    28.000000                   3.000000   \n",
      "75%    2017.000000     3.000000    32.000000                   4.000000   \n",
      "max    2018.000000     3.000000    41.000000                   7.000000   \n",
      "\n",
      "        LeaveOrNot  \n",
      "count  4653.000000  \n",
      "mean      0.343864  \n",
      "std       0.475047  \n",
      "min       0.000000  \n",
      "25%       0.000000  \n",
      "50%       0.000000  \n",
      "75%       1.000000  \n",
      "max       1.000000  \n"
     ]
    }
   ],
   "source": [
    "# Summary statistics of the dataset\n",
    "print(\"\\nSummary Statistics:\")\n",
    "print(mydata.describe())\n",
    "\n"
   ]
  },
  {
   "cell_type": "code",
   "execution_count": 37,
   "id": "8cf88f2a-b488-4499-8b02-47096f7d6f2b",
   "metadata": {},
   "outputs": [
    {
     "data": {
      "image/png": "[encoded data removed]",
      "text/plain": [
       "<Figure size 640x480 with 1 Axes>"
      ]
     },
     "metadata": {},
     "output_type": "display_data"
    }
   ],
   "source": [
    "# Visualize any key columns (e.g., performance, salary distribution)\n",
    "import matplotlib.pyplot as plt\n",
    "import seaborn as sns\n",
    "\n",
    "sns.histplot(mydata['Education'], kde=True)\n",
    "plt.title('Salary Distribution')\n",
    "plt.xlabel('Salary')\n",
    "plt.ylabel('Frequency')\n",
    "plt.show()\n",
    "\n"
   ]
  },
  {
   "cell_type": "code",
   "execution_count": 34,
   "id": "2ef2d640-eeb9-440a-8634-fd000dd1842d",
   "metadata": {},
   "outputs": [
    {
     "name": "stdout",
     "output_type": "stream",
     "text": [
      "      JoiningYear  PaymentTier  Age  ExperienceInCurrentDomain  LeaveOrNot  \\\n",
      "0            2017            3   34                          0           0   \n",
      "1            2013            1   28                          3           1   \n",
      "2            2014            3   38                          2           0   \n",
      "3            2016            3   27                          5           1   \n",
      "4            2017            3   24                          2           1   \n",
      "...           ...          ...  ...                        ...         ...   \n",
      "4648         2013            3   26                          4           0   \n",
      "4649         2013            2   37                          2           1   \n",
      "4650         2018            3   27                          5           1   \n",
      "4651         2012            3   30                          2           0   \n",
      "4652         2015            3   33                          4           0   \n",
      "\n",
      "      Education_Masters  Education_PHD  City_New Delhi  City_Pune  \\\n",
      "0                 False          False           False      False   \n",
      "1                 False          False           False       True   \n",
      "2                 False          False            True      False   \n",
      "3                  True          False           False      False   \n",
      "4                  True          False           False       True   \n",
      "...                 ...            ...             ...        ...   \n",
      "4648              False          False           False      False   \n",
      "4649               True          False           False       True   \n",
      "4650               True          False            True      False   \n",
      "4651              False          False           False      False   \n",
      "4652              False          False           False      False   \n",
      "\n",
      "      Gender_Male  EverBenched_Yes  \n",
      "0            True            False  \n",
      "1           False            False  \n",
      "2           False            False  \n",
      "3            True            False  \n",
      "4            True             True  \n",
      "...           ...              ...  \n",
      "4648        False            False  \n",
      "4649         True            False  \n",
      "4650         True            False  \n",
      "4651         True             True  \n",
      "4652         True             True  \n",
      "\n",
      "[4653 rows x 11 columns]\n"
     ]
    }
   ],
   "source": [
    "# Example: Encoding categorical features (if applicable)\n",
    "mydata_encoded = pd.get_dummies(mydata, drop_first=True)\n",
    "print(mydata_encoded)"
   ]
  },
  {
   "cell_type": "code",
   "execution_count": 36,
   "id": "4b58446d-4e45-43a8-944c-8d31b05cc1b0",
   "metadata": {},
   "outputs": [
    {
     "name": "stdout",
     "output_type": "stream",
     "text": [
      "Processed data saved to C:\\Users\\DCS\\Desktop\\Processed_Employee.csv\n",
      "C:\\Users\\DCS\\Desktop\\Processed_Employee.csv\n",
      "      JoiningYear  PaymentTier  Age  ExperienceInCurrentDomain  LeaveOrNot  \\\n",
      "0            2017            3   34                          0           0   \n",
      "1            2013            1   28                          3           1   \n",
      "2            2014            3   38                          2           0   \n",
      "3            2016            3   27                          5           1   \n",
      "4            2017            3   24                          2           1   \n",
      "...           ...          ...  ...                        ...         ...   \n",
      "4648         2013            3   26                          4           0   \n",
      "4649         2013            2   37                          2           1   \n",
      "4650         2018            3   27                          5           1   \n",
      "4651         2012            3   30                          2           0   \n",
      "4652         2015            3   33                          4           0   \n",
      "\n",
      "      Education_Masters  Education_PHD  City_New Delhi  City_Pune  \\\n",
      "0                 False          False           False      False   \n",
      "1                 False          False           False       True   \n",
      "2                 False          False            True      False   \n",
      "3                  True          False           False      False   \n",
      "4                  True          False           False       True   \n",
      "...                 ...            ...             ...        ...   \n",
      "4648              False          False           False      False   \n",
      "4649               True          False           False       True   \n",
      "4650               True          False            True      False   \n",
      "4651              False          False           False      False   \n",
      "4652              False          False           False      False   \n",
      "\n",
      "      Gender_Male  EverBenched_Yes  \n",
      "0            True            False  \n",
      "1           False            False  \n",
      "2           False            False  \n",
      "3            True            False  \n",
      "4            True             True  \n",
      "...           ...              ...  \n",
      "4648        False            False  \n",
      "4649         True            False  \n",
      "4650         True            False  \n",
      "4651         True             True  \n",
      "4652         True             True  \n",
      "\n",
      "[4653 rows x 11 columns]\n"
     ]
    }
   ],
   "source": [
    "# Save the processed data to a new CSV\n",
    "output_path = r'C:\\Users\\DCS\\Desktop\\Processed_Employee.csv'\n",
    "mydata_encoded.to_csv(output_path, index=False)\n",
    "print(\"Processed data saved to\", output_path)\n",
    "print(output_path)\n",
    "print(mydata_encoded)"
   ]
  },
  {
   "cell_type": "code",
   "execution_count": null,
   "id": "b3915aac-7ce0-433c-aefb-57a09ce764b2",
   "metadata": {},
   "outputs": [],
   "source": []
  }
 ],
 "metadata": {
  "kernelspec": {
   "display_name": "Python 3 (ipykernel)",
   "language": "python",
   "name": "python3"
  },
  "language_info": {
   "codemirror_mode": {
    "name": "ipython",
    "version": 3
   },
   "file_extension": ".py",
   "mimetype": "text/x-python",
   "name": "python",
   "nbconvert_exporter": "python",
   "pygments_lexer": "ipython3",
   "version": "3.11.5"
  },
  "widgets": {
   "application/vnd.jupyter.widget-state+json": {
    "state": {},
    "version_major": 2,
    "version_minor": 0
   }
  }
 },
 "nbformat": 4,
 "nbformat_minor": 5
}
