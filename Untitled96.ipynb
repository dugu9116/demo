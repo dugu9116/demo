{
 "cells": [
  {
   "cell_type": "code",
   "execution_count": 1,
   "id": "1cd6bdbb-642a-4a9b-912a-ef8d91894b7f",
   "metadata": {},
   "outputs": [],
   "source": [
    "import pandas as pd"
   ]
  },
  {
   "cell_type": "code",
   "execution_count": 6,
   "id": "11b53a21-667e-4fb4-81b5-c51f4e3da846",
   "metadata": {},
   "outputs": [],
   "source": [
    "mydata=pd.read_csv(r'C:\\Users\\DCS\\Desktop\\hr_dashboard_data.csv')"
   ]
  },
  {
   "cell_type": "code",
   "execution_count": 7,
   "id": "8553a50f-0916-496e-aa4d-1f2b5fd04a18",
   "metadata": {},
   "outputs": [
    {
     "data": {
      "text/html": [
       "<div>\n",
       "<style scoped>\n",
       "    .dataframe tbody tr th:only-of-type {\n",
       "        vertical-align: middle;\n",
       "    }\n",
       "\n",
       "    .dataframe tbody tr th {\n",
       "        vertical-align: top;\n",
       "    }\n",
       "\n",
       "    .dataframe thead th {\n",
       "        text-align: right;\n",
       "    }\n",
       "</style>\n",
       "<table border=\"1\" class=\"dataframe\">\n",
       "  <thead>\n",
       "    <tr style=\"text-align: right;\">\n",
       "      <th></th>\n",
       "      <th>Name</th>\n",
       "      <th>Age</th>\n",
       "      <th>Gender</th>\n",
       "      <th>Projects Completed</th>\n",
       "      <th>Productivity (%)</th>\n",
       "      <th>Satisfaction Rate (%)</th>\n",
       "      <th>Feedback Score</th>\n",
       "      <th>Department</th>\n",
       "      <th>Position</th>\n",
       "      <th>Joining Date</th>\n",
       "      <th>Salary</th>\n",
       "    </tr>\n",
       "  </thead>\n",
       "  <tbody>\n",
       "    <tr>\n",
       "      <th>0</th>\n",
       "      <td>Douglas Lindsey</td>\n",
       "      <td>25</td>\n",
       "      <td>Male</td>\n",
       "      <td>11</td>\n",
       "      <td>57</td>\n",
       "      <td>25</td>\n",
       "      <td>4.7</td>\n",
       "      <td>Marketing</td>\n",
       "      <td>Analyst</td>\n",
       "      <td>Jan-20</td>\n",
       "      <td>63596</td>\n",
       "    </tr>\n",
       "    <tr>\n",
       "      <th>1</th>\n",
       "      <td>Anthony Roberson</td>\n",
       "      <td>59</td>\n",
       "      <td>Female</td>\n",
       "      <td>19</td>\n",
       "      <td>55</td>\n",
       "      <td>76</td>\n",
       "      <td>2.8</td>\n",
       "      <td>IT</td>\n",
       "      <td>Manager</td>\n",
       "      <td>Jan-99</td>\n",
       "      <td>112540</td>\n",
       "    </tr>\n",
       "    <tr>\n",
       "      <th>2</th>\n",
       "      <td>Thomas Miller</td>\n",
       "      <td>30</td>\n",
       "      <td>Male</td>\n",
       "      <td>8</td>\n",
       "      <td>87</td>\n",
       "      <td>10</td>\n",
       "      <td>2.4</td>\n",
       "      <td>IT</td>\n",
       "      <td>Analyst</td>\n",
       "      <td>Jan-17</td>\n",
       "      <td>66292</td>\n",
       "    </tr>\n",
       "    <tr>\n",
       "      <th>3</th>\n",
       "      <td>Joshua Lewis</td>\n",
       "      <td>26</td>\n",
       "      <td>Female</td>\n",
       "      <td>1</td>\n",
       "      <td>53</td>\n",
       "      <td>4</td>\n",
       "      <td>1.4</td>\n",
       "      <td>Marketing</td>\n",
       "      <td>Intern</td>\n",
       "      <td>Jan-22</td>\n",
       "      <td>38303</td>\n",
       "    </tr>\n",
       "    <tr>\n",
       "      <th>4</th>\n",
       "      <td>Stephanie Bailey</td>\n",
       "      <td>43</td>\n",
       "      <td>Male</td>\n",
       "      <td>14</td>\n",
       "      <td>3</td>\n",
       "      <td>9</td>\n",
       "      <td>4.5</td>\n",
       "      <td>IT</td>\n",
       "      <td>Team Lead</td>\n",
       "      <td>Jan-05</td>\n",
       "      <td>101133</td>\n",
       "    </tr>\n",
       "    <tr>\n",
       "      <th>...</th>\n",
       "      <td>...</td>\n",
       "      <td>...</td>\n",
       "      <td>...</td>\n",
       "      <td>...</td>\n",
       "      <td>...</td>\n",
       "      <td>...</td>\n",
       "      <td>...</td>\n",
       "      <td>...</td>\n",
       "      <td>...</td>\n",
       "      <td>...</td>\n",
       "      <td>...</td>\n",
       "    </tr>\n",
       "    <tr>\n",
       "      <th>195</th>\n",
       "      <td>Stephanie Fisher</td>\n",
       "      <td>29</td>\n",
       "      <td>Female</td>\n",
       "      <td>9</td>\n",
       "      <td>32</td>\n",
       "      <td>87</td>\n",
       "      <td>3.5</td>\n",
       "      <td>HR</td>\n",
       "      <td>Junior Developer</td>\n",
       "      <td>Jan-19</td>\n",
       "      <td>50051</td>\n",
       "    </tr>\n",
       "    <tr>\n",
       "      <th>196</th>\n",
       "      <td>Jeremy Miller</td>\n",
       "      <td>26</td>\n",
       "      <td>Male</td>\n",
       "      <td>7</td>\n",
       "      <td>45</td>\n",
       "      <td>28</td>\n",
       "      <td>2.8</td>\n",
       "      <td>IT</td>\n",
       "      <td>Junior Developer</td>\n",
       "      <td>Jan-21</td>\n",
       "      <td>46612</td>\n",
       "    </tr>\n",
       "    <tr>\n",
       "      <th>197</th>\n",
       "      <td>Daniel Pierce</td>\n",
       "      <td>22</td>\n",
       "      <td>Male</td>\n",
       "      <td>3</td>\n",
       "      <td>36</td>\n",
       "      <td>77</td>\n",
       "      <td>1.6</td>\n",
       "      <td>Finance</td>\n",
       "      <td>Intern</td>\n",
       "      <td>Jan-21</td>\n",
       "      <td>32992</td>\n",
       "    </tr>\n",
       "    <tr>\n",
       "      <th>198</th>\n",
       "      <td>Michael Hernandez</td>\n",
       "      <td>36</td>\n",
       "      <td>Female</td>\n",
       "      <td>23</td>\n",
       "      <td>96</td>\n",
       "      <td>50</td>\n",
       "      <td>3.4</td>\n",
       "      <td>Marketing</td>\n",
       "      <td>Manager</td>\n",
       "      <td>Jan-05</td>\n",
       "      <td>104216</td>\n",
       "    </tr>\n",
       "    <tr>\n",
       "      <th>199</th>\n",
       "      <td>Victor Gutierrez</td>\n",
       "      <td>43</td>\n",
       "      <td>Male</td>\n",
       "      <td>10</td>\n",
       "      <td>86</td>\n",
       "      <td>71</td>\n",
       "      <td>2.0</td>\n",
       "      <td>IT</td>\n",
       "      <td>Team Lead</td>\n",
       "      <td>Jan-14</td>\n",
       "      <td>104341</td>\n",
       "    </tr>\n",
       "  </tbody>\n",
       "</table>\n",
       "<p>200 rows × 11 columns</p>\n",
       "</div>"
      ],
      "text/plain": [
       "                  Name  Age  Gender  Projects Completed  Productivity (%)  \\\n",
       "0      Douglas Lindsey   25    Male                  11                57   \n",
       "1     Anthony Roberson   59  Female                  19                55   \n",
       "2        Thomas Miller   30    Male                   8                87   \n",
       "3         Joshua Lewis   26  Female                   1                53   \n",
       "4     Stephanie Bailey   43    Male                  14                 3   \n",
       "..                 ...  ...     ...                 ...               ...   \n",
       "195   Stephanie Fisher   29  Female                   9                32   \n",
       "196      Jeremy Miller   26    Male                   7                45   \n",
       "197      Daniel Pierce   22    Male                   3                36   \n",
       "198  Michael Hernandez   36  Female                  23                96   \n",
       "199   Victor Gutierrez   43    Male                  10                86   \n",
       "\n",
       "     Satisfaction Rate (%)  Feedback Score Department          Position  \\\n",
       "0                       25             4.7  Marketing           Analyst   \n",
       "1                       76             2.8         IT           Manager   \n",
       "2                       10             2.4         IT           Analyst   \n",
       "3                        4             1.4  Marketing            Intern   \n",
       "4                        9             4.5         IT         Team Lead   \n",
       "..                     ...             ...        ...               ...   \n",
       "195                     87             3.5         HR  Junior Developer   \n",
       "196                     28             2.8         IT  Junior Developer   \n",
       "197                     77             1.6    Finance            Intern   \n",
       "198                     50             3.4  Marketing           Manager   \n",
       "199                     71             2.0         IT         Team Lead   \n",
       "\n",
       "    Joining Date  Salary  \n",
       "0         Jan-20   63596  \n",
       "1         Jan-99  112540  \n",
       "2         Jan-17   66292  \n",
       "3         Jan-22   38303  \n",
       "4         Jan-05  101133  \n",
       "..           ...     ...  \n",
       "195       Jan-19   50051  \n",
       "196       Jan-21   46612  \n",
       "197       Jan-21   32992  \n",
       "198       Jan-05  104216  \n",
       "199       Jan-14  104341  \n",
       "\n",
       "[200 rows x 11 columns]"
      ]
     },
     "execution_count": 7,
     "metadata": {},
     "output_type": "execute_result"
    }
   ],
   "source": [
    "mydata"
   ]
  },
  {
   "cell_type": "code",
   "execution_count": 8,
   "id": "f21e35d7-2463-43b8-b62b-656c2736b17c",
   "metadata": {},
   "outputs": [
    {
     "name": "stdout",
     "output_type": "stream",
     "text": [
      "               Name  Age  Gender  Projects Completed  Productivity (%)  \\\n",
      "0   Douglas Lindsey   25    Male                  11                57   \n",
      "1  Anthony Roberson   59  Female                  19                55   \n",
      "2     Thomas Miller   30    Male                   8                87   \n",
      "3      Joshua Lewis   26  Female                   1                53   \n",
      "4  Stephanie Bailey   43    Male                  14                 3   \n",
      "\n",
      "   Satisfaction Rate (%)  Feedback Score Department   Position Joining Date  \\\n",
      "0                     25             4.7  Marketing    Analyst       Jan-20   \n",
      "1                     76             2.8         IT    Manager       Jan-99   \n",
      "2                     10             2.4         IT    Analyst       Jan-17   \n",
      "3                      4             1.4  Marketing     Intern       Jan-22   \n",
      "4                      9             4.5         IT  Team Lead       Jan-05   \n",
      "\n",
      "   Salary  \n",
      "0   63596  \n",
      "1  112540  \n",
      "2   66292  \n",
      "3   38303  \n",
      "4  101133  \n"
     ]
    }
   ],
   "source": [
    "# Display the first few rows of the dataset\n",
    "print(mydata.head())"
   ]
  },
  {
   "cell_type": "code",
   "execution_count": 9,
   "id": "f15a52d8-d8ca-4739-a00d-507164915d54",
   "metadata": {},
   "outputs": [
    {
     "name": "stdout",
     "output_type": "stream",
     "text": [
      "<class 'pandas.core.frame.DataFrame'>\n",
      "RangeIndex: 200 entries, 0 to 199\n",
      "Data columns (total 11 columns):\n",
      " #   Column                 Non-Null Count  Dtype  \n",
      "---  ------                 --------------  -----  \n",
      " 0   Name                   200 non-null    object \n",
      " 1   Age                    200 non-null    int64  \n",
      " 2   Gender                 200 non-null    object \n",
      " 3   Projects Completed     200 non-null    int64  \n",
      " 4   Productivity (%)       200 non-null    int64  \n",
      " 5   Satisfaction Rate (%)  200 non-null    int64  \n",
      " 6   Feedback Score         200 non-null    float64\n",
      " 7   Department             200 non-null    object \n",
      " 8   Position               200 non-null    object \n",
      " 9   Joining Date           200 non-null    object \n",
      " 10  Salary                 200 non-null    int64  \n",
      "dtypes: float64(1), int64(5), object(5)\n",
      "memory usage: 17.3+ KB\n",
      "None\n"
     ]
    }
   ],
   "source": [
    "# Display basic information about the dataset\n",
    "print(mydata.info())"
   ]
  },
  {
   "cell_type": "code",
   "execution_count": 10,
   "id": "9691dcf7-edc0-4c01-9400-74a5d4905b37",
   "metadata": {},
   "outputs": [
    {
     "name": "stdout",
     "output_type": "stream",
     "text": [
      "              Age  Projects Completed  Productivity (%)  \\\n",
      "count  200.000000          200.000000        200.000000   \n",
      "mean    34.650000           11.455000         46.755000   \n",
      "std      9.797318            6.408849         28.530068   \n",
      "min     22.000000            0.000000          0.000000   \n",
      "25%     26.000000            6.000000         23.000000   \n",
      "50%     32.000000           11.000000         45.000000   \n",
      "75%     41.000000           17.000000         70.000000   \n",
      "max     60.000000           25.000000         98.000000   \n",
      "\n",
      "       Satisfaction Rate (%)  Feedback Score         Salary  \n",
      "count             200.000000      200.000000     200.000000  \n",
      "mean               49.935000        2.883000   76619.245000  \n",
      "std                28.934353        1.123263   27082.299202  \n",
      "min                 0.000000        1.000000   30231.000000  \n",
      "25%                25.750000        1.900000   53080.500000  \n",
      "50%                50.500000        2.800000   80540.000000  \n",
      "75%                75.250000        3.900000  101108.250000  \n",
      "max               100.000000        4.900000  119895.000000  \n"
     ]
    }
   ],
   "source": [
    "# Display summary statistics\n",
    "print(mydata.describe())"
   ]
  },
  {
   "cell_type": "code",
   "execution_count": 12,
   "id": "b8e0c606-e293-46dc-acc8-8810daca9cd7",
   "metadata": {},
   "outputs": [
    {
     "name": "stdout",
     "output_type": "stream",
     "text": [
      "                  Name  Age  Gender  Projects Completed  Productivity (%)  \\\n",
      "0      Douglas Lindsey   25    Male                  11                57   \n",
      "1     Anthony Roberson   59  Female                  19                55   \n",
      "2        Thomas Miller   30    Male                   8                87   \n",
      "3         Joshua Lewis   26  Female                   1                53   \n",
      "4     Stephanie Bailey   43    Male                  14                 3   \n",
      "..                 ...  ...     ...                 ...               ...   \n",
      "195   Stephanie Fisher   29  Female                   9                32   \n",
      "196      Jeremy Miller   26    Male                   7                45   \n",
      "197      Daniel Pierce   22    Male                   3                36   \n",
      "198  Michael Hernandez   36  Female                  23                96   \n",
      "199   Victor Gutierrez   43    Male                  10                86   \n",
      "\n",
      "     Satisfaction Rate (%)  Feedback Score Department          Position  \\\n",
      "0                       25             4.7  Marketing           Analyst   \n",
      "1                       76             2.8         IT           Manager   \n",
      "2                       10             2.4         IT           Analyst   \n",
      "3                        4             1.4  Marketing            Intern   \n",
      "4                        9             4.5         IT         Team Lead   \n",
      "..                     ...             ...        ...               ...   \n",
      "195                     87             3.5         HR  Junior Developer   \n",
      "196                     28             2.8         IT  Junior Developer   \n",
      "197                     77             1.6    Finance            Intern   \n",
      "198                     50             3.4  Marketing           Manager   \n",
      "199                     71             2.0         IT         Team Lead   \n",
      "\n",
      "    Joining Date  Salary  \n",
      "0         Jan-20   63596  \n",
      "1         Jan-99  112540  \n",
      "2         Jan-17   66292  \n",
      "3         Jan-22   38303  \n",
      "4         Jan-05  101133  \n",
      "..           ...     ...  \n",
      "195       Jan-19   50051  \n",
      "196       Jan-21   46612  \n",
      "197       Jan-21   32992  \n",
      "198       Jan-05  104216  \n",
      "199       Jan-14  104341  \n",
      "\n",
      "[200 rows x 11 columns]\n"
     ]
    }
   ],
   "source": [
    "# Handle missing values (example)\n",
    "mydata = mydata.dropna()  # or use imputation techniques\n",
    "print(mydata)"
   ]
  },
  {
   "cell_type": "code",
   "execution_count": 25,
   "id": "37f2f71e-2935-4338-bd01-213984ed259d",
   "metadata": {},
   "outputs": [],
   "source": [
    "from sklearn.preprocessing import LabelEncoder\n",
    "\n",
    "label_encoders = {}\n",
    "for column in mydata.select_dtypes(include=['object']).columns:\n",
    "    le = LabelEncoder()\n",
    "    mydata[Department] = le.fit_transform(mydata[Department])\n",
    "    label_encoders[Department] = le\n"
   ]
  },
  {
   "cell_type": "code",
   "execution_count": 27,
   "id": "6d1609cc-3f81-4d99-a9df-fdd9340c04a4",
   "metadata": {},
   "outputs": [],
   "source": [
    "from sklearn.model_selection import train_test_split\n",
    "\n",
    "X = mydata.drop('Department', axis=1)  # Replace 'target_column' with your actual target column name\n",
    "y = mydata['Department']\n",
    "\n",
    "X_train, X_test, y_train, y_test = train_test_split(X, y, test_size=0.2, random_state=42)\n"
   ]
  },
  {
   "cell_type": "code",
   "execution_count": 28,
   "id": "1962fcd6-6b63-46ff-b4d6-526d4ebe09f8",
   "metadata": {},
   "outputs": [
    {
     "data": {
      "text/html": [
       "<style>#sk-container-id-1 {color: black;}#sk-container-id-1 pre{padding: 0;}#sk-container-id-1 div.sk-toggleable {background-color: white;}#sk-container-id-1 label.sk-toggleable__label {cursor: pointer;display: block;width: 100%;margin-bottom: 0;padding: 0.3em;box-sizing: border-box;text-align: center;}#sk-container-id-1 label.sk-toggleable__label-arrow:before {content: \"▸\";float: left;margin-right: 0.25em;color: #696969;}#sk-container-id-1 label.sk-toggleable__label-arrow:hover:before {color: black;}#sk-container-id-1 div.sk-estimator:hover label.sk-toggleable__label-arrow:before {color: black;}#sk-container-id-1 div.sk-toggleable__content {max-height: 0;max-width: 0;overflow: hidden;text-align: left;background-color: #f0f8ff;}#sk-container-id-1 div.sk-toggleable__content pre {margin: 0.2em;color: black;border-radius: 0.25em;background-color: #f0f8ff;}#sk-container-id-1 input.sk-toggleable__control:checked~div.sk-toggleable__content {max-height: 200px;max-width: 100%;overflow: auto;}#sk-container-id-1 input.sk-toggleable__control:checked~label.sk-toggleable__label-arrow:before {content: \"▾\";}#sk-container-id-1 div.sk-estimator input.sk-toggleable__control:checked~label.sk-toggleable__label {background-color: #d4ebff;}#sk-container-id-1 div.sk-label input.sk-toggleable__control:checked~label.sk-toggleable__label {background-color: #d4ebff;}#sk-container-id-1 input.sk-hidden--visually {border: 0;clip: rect(1px 1px 1px 1px);clip: rect(1px, 1px, 1px, 1px);height: 1px;margin: -1px;overflow: hidden;padding: 0;position: absolute;width: 1px;}#sk-container-id-1 div.sk-estimator {font-family: monospace;background-color: #f0f8ff;border: 1px dotted black;border-radius: 0.25em;box-sizing: border-box;margin-bottom: 0.5em;}#sk-container-id-1 div.sk-estimator:hover {background-color: #d4ebff;}#sk-container-id-1 div.sk-parallel-item::after {content: \"\";width: 100%;border-bottom: 1px solid gray;flex-grow: 1;}#sk-container-id-1 div.sk-label:hover label.sk-toggleable__label {background-color: #d4ebff;}#sk-container-id-1 div.sk-serial::before {content: \"\";position: absolute;border-left: 1px solid gray;box-sizing: border-box;top: 0;bottom: 0;left: 50%;z-index: 0;}#sk-container-id-1 div.sk-serial {display: flex;flex-direction: column;align-items: center;background-color: white;padding-right: 0.2em;padding-left: 0.2em;position: relative;}#sk-container-id-1 div.sk-item {position: relative;z-index: 1;}#sk-container-id-1 div.sk-parallel {display: flex;align-items: stretch;justify-content: center;background-color: white;position: relative;}#sk-container-id-1 div.sk-item::before, #sk-container-id-1 div.sk-parallel-item::before {content: \"\";position: absolute;border-left: 1px solid gray;box-sizing: border-box;top: 0;bottom: 0;left: 50%;z-index: -1;}#sk-container-id-1 div.sk-parallel-item {display: flex;flex-direction: column;z-index: 1;position: relative;background-color: white;}#sk-container-id-1 div.sk-parallel-item:first-child::after {align-self: flex-end;width: 50%;}#sk-container-id-1 div.sk-parallel-item:last-child::after {align-self: flex-start;width: 50%;}#sk-container-id-1 div.sk-parallel-item:only-child::after {width: 0;}#sk-container-id-1 div.sk-dashed-wrapped {border: 1px dashed gray;margin: 0 0.4em 0.5em 0.4em;box-sizing: border-box;padding-bottom: 0.4em;background-color: white;}#sk-container-id-1 div.sk-label label {font-family: monospace;font-weight: bold;display: inline-block;line-height: 1.2em;}#sk-container-id-1 div.sk-label-container {text-align: center;}#sk-container-id-1 div.sk-container {/* jupyter's `normalize.less` sets `[hidden] { display: none; }` but bootstrap.min.css set `[hidden] { display: none !important; }` so we also need the `!important` here to be able to override the default hidden behavior on the sphinx rendered scikit-learn.org. See: https://github.com/scikit-learn/scikit-learn/issues/21755 */display: inline-block !important;position: relative;}#sk-container-id-1 div.sk-text-repr-fallback {display: none;}</style><div id=\"sk-container-id-1\" class=\"sk-top-container\"><div class=\"sk-text-repr-fallback\"><pre>RandomForestClassifier(random_state=42)</pre><b>In a Jupyter environment, please rerun this cell to show the HTML representation or trust the notebook. <br />On GitHub, the HTML representation is unable to render, please try loading this page with nbviewer.org.</b></div><div class=\"sk-container\" hidden><div class=\"sk-item\"><div class=\"sk-estimator sk-toggleable\"><input class=\"sk-toggleable__control sk-hidden--visually\" id=\"sk-estimator-id-1\" type=\"checkbox\" checked><label for=\"sk-estimator-id-1\" class=\"sk-toggleable__label sk-toggleable__label-arrow\">RandomForestClassifier</label><div class=\"sk-toggleable__content\"><pre>RandomForestClassifier(random_state=42)</pre></div></div></div></div></div>"
      ],
      "text/plain": [
       "RandomForestClassifier(random_state=42)"
      ]
     },
     "execution_count": 28,
     "metadata": {},
     "output_type": "execute_result"
    }
   ],
   "source": [
    "from sklearn.ensemble import RandomForestClassifier\n",
    "\n",
    "model = RandomForestClassifier(n_estimators=100, random_state=42)\n",
    "model.fit(X_train, y_train)\n"
   ]
  },
  {
   "cell_type": "code",
   "execution_count": 29,
   "id": "fbb1f8eb-6563-4aa5-b299-22b9cf7376c0",
   "metadata": {},
   "outputs": [],
   "source": [
    "y_pred = model.predict(X_test)\n"
   ]
  },
  {
   "cell_type": "code",
   "execution_count": 30,
   "id": "2c17583a-51d5-475d-8646-331c0929c1b0",
   "metadata": {},
   "outputs": [
    {
     "name": "stdout",
     "output_type": "stream",
     "text": [
      "[3 0 2 0 3 3 1 0 4 4 4 3 3 0 4 1 0 2 3 0 4 0 2 4 0 1 3 3 4 1 4 0 0 0 4 2 3\n",
      " 3 4 4]\n"
     ]
    }
   ],
   "source": [
    "print(y_pred)"
   ]
  },
  {
   "cell_type": "code",
   "execution_count": 31,
   "id": "5a59eddc-809d-4d6a-b3c1-24683a09e60d",
   "metadata": {},
   "outputs": [
    {
     "name": "stdout",
     "output_type": "stream",
     "text": [
      "Accuracy: 0.07\n",
      "Classification Report:\n",
      "              precision    recall  f1-score   support\n",
      "\n",
      "           0       0.09      0.20      0.13         5\n",
      "           1       0.00      0.00      0.00         6\n",
      "           2       0.00      0.00      0.00        10\n",
      "           3       0.00      0.00      0.00         5\n",
      "           4       0.18      0.14      0.16        14\n",
      "\n",
      "    accuracy                           0.07        40\n",
      "   macro avg       0.05      0.07      0.06        40\n",
      "weighted avg       0.07      0.07      0.07        40\n",
      "\n",
      "Confusion Matrix:\n",
      "[[1 1 0 1 2]\n",
      " [0 0 1 2 3]\n",
      " [3 1 0 3 3]\n",
      " [2 0 2 0 1]\n",
      " [5 2 1 4 2]]\n"
     ]
    }
   ],
   "source": [
    "from sklearn.metrics import accuracy_score, classification_report, confusion_matrix\n",
    "\n",
    "accuracy = accuracy_score(y_test, y_pred)\n",
    "print(f\"Accuracy: {accuracy:.2f}\")\n",
    "\n",
    "print(\"Classification Report:\")\n",
    "print(classification_report(y_test, y_pred))\n",
    "\n",
    "print(\"Confusion Matrix:\")\n",
    "print(confusion_matrix(y_test, y_pred))\n"
   ]
  },
  {
   "cell_type": "code",
   "execution_count": 34,
   "id": "de405b56-4a9c-4daa-82ab-e0d81234f43f",
   "metadata": {},
   "outputs": [
    {
     "data": {
      "image/png": "[encoded data removed]",
      "text/plain": [
       "<Figure size 1000x700 with 2 Axes>"
      ]
     },
     "metadata": {},
     "output_type": "display_data"
    }
   ],
   "source": [
    "import seaborn as sns\n",
    "\n",
    "cm = confusion_matrix(y_test, y_pred)\n",
    "plt.figure(figsize=(10,7))\n",
    "sns.heatmap(cm, annot=True, fmt='d', cmap='Blues')\n",
    "plt.xlabel('Predicted')\n",
    "plt.ylabel('True')\n",
    "plt.show()\n"
   ]
  },
  {
   "cell_type": "code",
   "execution_count": 36,
   "id": "2a3cbbcb-6fc5-4440-b5b9-da58b213f684",
   "metadata": {},
   "outputs": [],
   "source": [
    "import matplotlib.pyplot as plt\n",
    "\n",
    "importances = model.feature_importances_\n"
   ]
  },
  {
   "cell_type": "code",
   "execution_count": 41,
   "id": "e85493ea-0a92-4fc0-8bca-065bfa5d8588",
   "metadata": {},
   "outputs": [
    {
     "data": {
      "image/png": "[encoded data removed]",
      "text/plain": [
       "<Figure size 640x480 with 1 Axes>"
      ]
     },
     "metadata": {},
     "output_type": "display_data"
    }
   ],
   "source": [
    "import numpy as np\n",
    "import matplotlib.pyplot as plt\n",
    "\n",
    "# Assuming you have already trained your model and have feature importances\n",
    "importances = model.feature_importances_\n",
    "indices = np.argsort(importances)[::-1]\n",
    "\n",
    "plt.figure()\n",
    "plt.title('Feature Importances')\n",
    "plt.bar(range(X.shape[1]), importances[indices], align='center')\n",
    "plt.xticks(range(X.shape[1]), X.columns[indices], rotation=90)\n",
    "plt.xlim([-1, X.shape[1]])\n",
    "plt.show()\n"
   ]
  },
  {
   "cell_type": "code",
   "execution_count": null,
   "id": "88083a43-1d59-4a58-a749-45ef4b52592b",
   "metadata": {},
   "outputs": [],
   "source": []
  }
 ],
 "metadata": {
  "kernelspec": {
   "display_name": "Python 3 (ipykernel)",
   "language": "python",
   "name": "python3"
  },
  "language_info": {
   "codemirror_mode": {
    "name": "ipython",
    "version": 3
   },
   "file_extension": ".py",
   "mimetype": "text/x-python",
   "name": "python",
   "nbconvert_exporter": "python",
   "pygments_lexer": "ipython3",
   "version": "3.11.5"
  },
  "widgets": {
   "application/vnd.jupyter.widget-state+json": {
    "state": {},
    "version_major": 2,
    "version_minor": 0
   }
  }
 },
 "nbformat": 4,
 "nbformat_minor": 5
}
