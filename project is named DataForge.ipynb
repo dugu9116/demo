{
 "cells": [
  {
   "cell_type": "code",
   "execution_count": 1,
   "id": "116fdb56-09b5-442a-a428-080f93284343",
   "metadata": {},
   "outputs": [],
   "source": [
    "import pandas as pd \n",
    "import numpy as np "
   ]
  },
  {
   "cell_type": "code",
   "execution_count": 6,
   "id": "a37f82b0-bc95-4652-b168-4717d298ac52",
   "metadata": {},
   "outputs": [],
   "source": [
    "# Load data\n",
    "mydata = pd.read_csv(r'C:\\Users\\DCS\\Desktop\\RT_IOT2022.csv')"
   ]
  },
  {
   "cell_type": "code",
   "execution_count": 9,
   "id": "8c26ea4f-bf7b-4195-88b2-c8b628b5fec6",
   "metadata": {},
   "outputs": [
    {
     "data": {
      "text/html": [
       "<div>\n",
       "<style scoped>\n",
       "    .dataframe tbody tr th:only-of-type {\n",
       "        vertical-align: middle;\n",
       "    }\n",
       "\n",
       "    .dataframe tbody tr th {\n",
       "        vertical-align: top;\n",
       "    }\n",
       "\n",
       "    .dataframe thead th {\n",
       "        text-align: right;\n",
       "    }\n",
       "</style>\n",
       "<table border=\"1\" class=\"dataframe\">\n",
       "  <thead>\n",
       "    <tr style=\"text-align: right;\">\n",
       "      <th></th>\n",
       "      <th>no</th>\n",
       "      <th>id.orig_p</th>\n",
       "      <th>id.resp_p</th>\n",
       "      <th>proto</th>\n",
       "      <th>service</th>\n",
       "      <th>flow_duration</th>\n",
       "      <th>fwd_pkts_tot</th>\n",
       "      <th>bwd_pkts_tot</th>\n",
       "      <th>fwd_data_pkts_tot</th>\n",
       "      <th>bwd_data_pkts_tot</th>\n",
       "      <th>...</th>\n",
       "      <th>active.std</th>\n",
       "      <th>idle.min</th>\n",
       "      <th>idle.max</th>\n",
       "      <th>idle.tot</th>\n",
       "      <th>idle.avg</th>\n",
       "      <th>idle.std</th>\n",
       "      <th>fwd_init_window_size</th>\n",
       "      <th>bwd_init_window_size</th>\n",
       "      <th>fwd_last_window_size</th>\n",
       "      <th>Attack_type</th>\n",
       "    </tr>\n",
       "  </thead>\n",
       "  <tbody>\n",
       "    <tr>\n",
       "      <th>0</th>\n",
       "      <td>0</td>\n",
       "      <td>38667</td>\n",
       "      <td>1883</td>\n",
       "      <td>tcp</td>\n",
       "      <td>mqtt</td>\n",
       "      <td>32.011598</td>\n",
       "      <td>9</td>\n",
       "      <td>5</td>\n",
       "      <td>3</td>\n",
       "      <td>3</td>\n",
       "      <td>...</td>\n",
       "      <td>0.0</td>\n",
       "      <td>2.972918e+07</td>\n",
       "      <td>2.972918e+07</td>\n",
       "      <td>2.972918e+07</td>\n",
       "      <td>2.972918e+07</td>\n",
       "      <td>0.0</td>\n",
       "      <td>64240</td>\n",
       "      <td>26847</td>\n",
       "      <td>502</td>\n",
       "      <td>MQTT_Publish</td>\n",
       "    </tr>\n",
       "    <tr>\n",
       "      <th>1</th>\n",
       "      <td>1</td>\n",
       "      <td>51143</td>\n",
       "      <td>1883</td>\n",
       "      <td>tcp</td>\n",
       "      <td>mqtt</td>\n",
       "      <td>31.883584</td>\n",
       "      <td>9</td>\n",
       "      <td>5</td>\n",
       "      <td>3</td>\n",
       "      <td>3</td>\n",
       "      <td>...</td>\n",
       "      <td>0.0</td>\n",
       "      <td>2.985528e+07</td>\n",
       "      <td>2.985528e+07</td>\n",
       "      <td>2.985528e+07</td>\n",
       "      <td>2.985528e+07</td>\n",
       "      <td>0.0</td>\n",
       "      <td>64240</td>\n",
       "      <td>26847</td>\n",
       "      <td>502</td>\n",
       "      <td>MQTT_Publish</td>\n",
       "    </tr>\n",
       "    <tr>\n",
       "      <th>2</th>\n",
       "      <td>2</td>\n",
       "      <td>44761</td>\n",
       "      <td>1883</td>\n",
       "      <td>tcp</td>\n",
       "      <td>mqtt</td>\n",
       "      <td>32.124053</td>\n",
       "      <td>9</td>\n",
       "      <td>5</td>\n",
       "      <td>3</td>\n",
       "      <td>3</td>\n",
       "      <td>...</td>\n",
       "      <td>0.0</td>\n",
       "      <td>2.984215e+07</td>\n",
       "      <td>2.984215e+07</td>\n",
       "      <td>2.984215e+07</td>\n",
       "      <td>2.984215e+07</td>\n",
       "      <td>0.0</td>\n",
       "      <td>64240</td>\n",
       "      <td>26847</td>\n",
       "      <td>502</td>\n",
       "      <td>MQTT_Publish</td>\n",
       "    </tr>\n",
       "    <tr>\n",
       "      <th>3</th>\n",
       "      <td>3</td>\n",
       "      <td>60893</td>\n",
       "      <td>1883</td>\n",
       "      <td>tcp</td>\n",
       "      <td>mqtt</td>\n",
       "      <td>31.961063</td>\n",
       "      <td>9</td>\n",
       "      <td>5</td>\n",
       "      <td>3</td>\n",
       "      <td>3</td>\n",
       "      <td>...</td>\n",
       "      <td>0.0</td>\n",
       "      <td>2.991377e+07</td>\n",
       "      <td>2.991377e+07</td>\n",
       "      <td>2.991377e+07</td>\n",
       "      <td>2.991377e+07</td>\n",
       "      <td>0.0</td>\n",
       "      <td>64240</td>\n",
       "      <td>26847</td>\n",
       "      <td>502</td>\n",
       "      <td>MQTT_Publish</td>\n",
       "    </tr>\n",
       "    <tr>\n",
       "      <th>4</th>\n",
       "      <td>4</td>\n",
       "      <td>51087</td>\n",
       "      <td>1883</td>\n",
       "      <td>tcp</td>\n",
       "      <td>mqtt</td>\n",
       "      <td>31.902362</td>\n",
       "      <td>9</td>\n",
       "      <td>5</td>\n",
       "      <td>3</td>\n",
       "      <td>3</td>\n",
       "      <td>...</td>\n",
       "      <td>0.0</td>\n",
       "      <td>2.981470e+07</td>\n",
       "      <td>2.981470e+07</td>\n",
       "      <td>2.981470e+07</td>\n",
       "      <td>2.981470e+07</td>\n",
       "      <td>0.0</td>\n",
       "      <td>64240</td>\n",
       "      <td>26847</td>\n",
       "      <td>502</td>\n",
       "      <td>MQTT_Publish</td>\n",
       "    </tr>\n",
       "    <tr>\n",
       "      <th>...</th>\n",
       "      <td>...</td>\n",
       "      <td>...</td>\n",
       "      <td>...</td>\n",
       "      <td>...</td>\n",
       "      <td>...</td>\n",
       "      <td>...</td>\n",
       "      <td>...</td>\n",
       "      <td>...</td>\n",
       "      <td>...</td>\n",
       "      <td>...</td>\n",
       "      <td>...</td>\n",
       "      <td>...</td>\n",
       "      <td>...</td>\n",
       "      <td>...</td>\n",
       "      <td>...</td>\n",
       "      <td>...</td>\n",
       "      <td>...</td>\n",
       "      <td>...</td>\n",
       "      <td>...</td>\n",
       "      <td>...</td>\n",
       "      <td>...</td>\n",
       "    </tr>\n",
       "    <tr>\n",
       "      <th>123112</th>\n",
       "      <td>2005</td>\n",
       "      <td>59247</td>\n",
       "      <td>63331</td>\n",
       "      <td>tcp</td>\n",
       "      <td>-</td>\n",
       "      <td>0.000006</td>\n",
       "      <td>1</td>\n",
       "      <td>1</td>\n",
       "      <td>0</td>\n",
       "      <td>0</td>\n",
       "      <td>...</td>\n",
       "      <td>0.0</td>\n",
       "      <td>0.000000e+00</td>\n",
       "      <td>0.000000e+00</td>\n",
       "      <td>0.000000e+00</td>\n",
       "      <td>0.000000e+00</td>\n",
       "      <td>0.0</td>\n",
       "      <td>1024</td>\n",
       "      <td>0</td>\n",
       "      <td>1024</td>\n",
       "      <td>NMAP_XMAS_TREE_SCAN</td>\n",
       "    </tr>\n",
       "    <tr>\n",
       "      <th>123113</th>\n",
       "      <td>2006</td>\n",
       "      <td>59247</td>\n",
       "      <td>64623</td>\n",
       "      <td>tcp</td>\n",
       "      <td>-</td>\n",
       "      <td>0.000007</td>\n",
       "      <td>1</td>\n",
       "      <td>1</td>\n",
       "      <td>0</td>\n",
       "      <td>0</td>\n",
       "      <td>...</td>\n",
       "      <td>0.0</td>\n",
       "      <td>0.000000e+00</td>\n",
       "      <td>0.000000e+00</td>\n",
       "      <td>0.000000e+00</td>\n",
       "      <td>0.000000e+00</td>\n",
       "      <td>0.0</td>\n",
       "      <td>1024</td>\n",
       "      <td>0</td>\n",
       "      <td>1024</td>\n",
       "      <td>NMAP_XMAS_TREE_SCAN</td>\n",
       "    </tr>\n",
       "    <tr>\n",
       "      <th>123114</th>\n",
       "      <td>2007</td>\n",
       "      <td>59247</td>\n",
       "      <td>64680</td>\n",
       "      <td>tcp</td>\n",
       "      <td>-</td>\n",
       "      <td>0.000006</td>\n",
       "      <td>1</td>\n",
       "      <td>1</td>\n",
       "      <td>0</td>\n",
       "      <td>0</td>\n",
       "      <td>...</td>\n",
       "      <td>0.0</td>\n",
       "      <td>0.000000e+00</td>\n",
       "      <td>0.000000e+00</td>\n",
       "      <td>0.000000e+00</td>\n",
       "      <td>0.000000e+00</td>\n",
       "      <td>0.0</td>\n",
       "      <td>1024</td>\n",
       "      <td>0</td>\n",
       "      <td>1024</td>\n",
       "      <td>NMAP_XMAS_TREE_SCAN</td>\n",
       "    </tr>\n",
       "    <tr>\n",
       "      <th>123115</th>\n",
       "      <td>2008</td>\n",
       "      <td>59247</td>\n",
       "      <td>65000</td>\n",
       "      <td>tcp</td>\n",
       "      <td>-</td>\n",
       "      <td>0.000006</td>\n",
       "      <td>1</td>\n",
       "      <td>1</td>\n",
       "      <td>0</td>\n",
       "      <td>0</td>\n",
       "      <td>...</td>\n",
       "      <td>0.0</td>\n",
       "      <td>0.000000e+00</td>\n",
       "      <td>0.000000e+00</td>\n",
       "      <td>0.000000e+00</td>\n",
       "      <td>0.000000e+00</td>\n",
       "      <td>0.0</td>\n",
       "      <td>1024</td>\n",
       "      <td>0</td>\n",
       "      <td>1024</td>\n",
       "      <td>NMAP_XMAS_TREE_SCAN</td>\n",
       "    </tr>\n",
       "    <tr>\n",
       "      <th>123116</th>\n",
       "      <td>2009</td>\n",
       "      <td>59247</td>\n",
       "      <td>65129</td>\n",
       "      <td>tcp</td>\n",
       "      <td>-</td>\n",
       "      <td>0.000006</td>\n",
       "      <td>1</td>\n",
       "      <td>1</td>\n",
       "      <td>0</td>\n",
       "      <td>0</td>\n",
       "      <td>...</td>\n",
       "      <td>0.0</td>\n",
       "      <td>0.000000e+00</td>\n",
       "      <td>0.000000e+00</td>\n",
       "      <td>0.000000e+00</td>\n",
       "      <td>0.000000e+00</td>\n",
       "      <td>0.0</td>\n",
       "      <td>1024</td>\n",
       "      <td>0</td>\n",
       "      <td>1024</td>\n",
       "      <td>NMAP_XMAS_TREE_SCAN</td>\n",
       "    </tr>\n",
       "  </tbody>\n",
       "</table>\n",
       "<p>123117 rows × 85 columns</p>\n",
       "</div>"
      ],
      "text/plain": [
       "          no  id.orig_p  id.resp_p proto service  flow_duration  fwd_pkts_tot  \\\n",
       "0          0      38667       1883   tcp    mqtt      32.011598             9   \n",
       "1          1      51143       1883   tcp    mqtt      31.883584             9   \n",
       "2          2      44761       1883   tcp    mqtt      32.124053             9   \n",
       "3          3      60893       1883   tcp    mqtt      31.961063             9   \n",
       "4          4      51087       1883   tcp    mqtt      31.902362             9   \n",
       "...      ...        ...        ...   ...     ...            ...           ...   \n",
       "123112  2005      59247      63331   tcp       -       0.000006             1   \n",
       "123113  2006      59247      64623   tcp       -       0.000007             1   \n",
       "123114  2007      59247      64680   tcp       -       0.000006             1   \n",
       "123115  2008      59247      65000   tcp       -       0.000006             1   \n",
       "123116  2009      59247      65129   tcp       -       0.000006             1   \n",
       "\n",
       "        bwd_pkts_tot  fwd_data_pkts_tot  bwd_data_pkts_tot  ...  active.std  \\\n",
       "0                  5                  3                  3  ...         0.0   \n",
       "1                  5                  3                  3  ...         0.0   \n",
       "2                  5                  3                  3  ...         0.0   \n",
       "3                  5                  3                  3  ...         0.0   \n",
       "4                  5                  3                  3  ...         0.0   \n",
       "...              ...                ...                ...  ...         ...   \n",
       "123112             1                  0                  0  ...         0.0   \n",
       "123113             1                  0                  0  ...         0.0   \n",
       "123114             1                  0                  0  ...         0.0   \n",
       "123115             1                  0                  0  ...         0.0   \n",
       "123116             1                  0                  0  ...         0.0   \n",
       "\n",
       "            idle.min      idle.max      idle.tot      idle.avg  idle.std  \\\n",
       "0       2.972918e+07  2.972918e+07  2.972918e+07  2.972918e+07       0.0   \n",
       "1       2.985528e+07  2.985528e+07  2.985528e+07  2.985528e+07       0.0   \n",
       "2       2.984215e+07  2.984215e+07  2.984215e+07  2.984215e+07       0.0   \n",
       "3       2.991377e+07  2.991377e+07  2.991377e+07  2.991377e+07       0.0   \n",
       "4       2.981470e+07  2.981470e+07  2.981470e+07  2.981470e+07       0.0   \n",
       "...              ...           ...           ...           ...       ...   \n",
       "123112  0.000000e+00  0.000000e+00  0.000000e+00  0.000000e+00       0.0   \n",
       "123113  0.000000e+00  0.000000e+00  0.000000e+00  0.000000e+00       0.0   \n",
       "123114  0.000000e+00  0.000000e+00  0.000000e+00  0.000000e+00       0.0   \n",
       "123115  0.000000e+00  0.000000e+00  0.000000e+00  0.000000e+00       0.0   \n",
       "123116  0.000000e+00  0.000000e+00  0.000000e+00  0.000000e+00       0.0   \n",
       "\n",
       "        fwd_init_window_size  bwd_init_window_size  fwd_last_window_size  \\\n",
       "0                      64240                 26847                   502   \n",
       "1                      64240                 26847                   502   \n",
       "2                      64240                 26847                   502   \n",
       "3                      64240                 26847                   502   \n",
       "4                      64240                 26847                   502   \n",
       "...                      ...                   ...                   ...   \n",
       "123112                  1024                     0                  1024   \n",
       "123113                  1024                     0                  1024   \n",
       "123114                  1024                     0                  1024   \n",
       "123115                  1024                     0                  1024   \n",
       "123116                  1024                     0                  1024   \n",
       "\n",
       "                Attack_type  \n",
       "0              MQTT_Publish  \n",
       "1              MQTT_Publish  \n",
       "2              MQTT_Publish  \n",
       "3              MQTT_Publish  \n",
       "4              MQTT_Publish  \n",
       "...                     ...  \n",
       "123112  NMAP_XMAS_TREE_SCAN  \n",
       "123113  NMAP_XMAS_TREE_SCAN  \n",
       "123114  NMAP_XMAS_TREE_SCAN  \n",
       "123115  NMAP_XMAS_TREE_SCAN  \n",
       "123116  NMAP_XMAS_TREE_SCAN  \n",
       "\n",
       "[123117 rows x 85 columns]"
      ]
     },
     "execution_count": 9,
     "metadata": {},
     "output_type": "execute_result"
    }
   ],
   "source": [
    "mydata"
   ]
  },
  {
   "cell_type": "code",
   "execution_count": 10,
   "id": "69766a0a-b943-45b4-b4a2-c7518b68bf06",
   "metadata": {},
   "outputs": [],
   "source": [
    "# Create an array\n",
    "array = np.array([1, 2, 3, 4, 5])\n",
    "\n"
   ]
  },
  {
   "cell_type": "code",
   "execution_count": 12,
   "id": "f9b1d664-3a69-47f3-be7c-c1a69261d02f",
   "metadata": {},
   "outputs": [
    {
     "data": {
      "text/plain": [
       "array([1, 2, 3, 4, 5])"
      ]
     },
     "execution_count": 12,
     "metadata": {},
     "output_type": "execute_result"
    }
   ],
   "source": [
    "array"
   ]
  },
  {
   "cell_type": "code",
   "execution_count": 14,
   "id": "e7554ae7-1fb1-47c2-be21-f6fe72abc849",
   "metadata": {},
   "outputs": [],
   "source": [
    "# Create arrays filled with zeros or ones\n",
    "zeros_array = np.zeros((3, 3))\n",
    "ones_array = np.ones((2, 4))\n",
    "\n"
   ]
  },
  {
   "cell_type": "code",
   "execution_count": 16,
   "id": "6d63b9af-4fa5-4b08-afd3-10beb1c6ecd3",
   "metadata": {},
   "outputs": [
    {
     "data": {
      "text/plain": [
       "array([[1., 1., 1., 1.],\n",
       "       [1., 1., 1., 1.]])"
      ]
     },
     "execution_count": 16,
     "metadata": {},
     "output_type": "execute_result"
    }
   ],
   "source": [
    "zeros_array\n",
    "ones_array"
   ]
  },
  {
   "cell_type": "code",
   "execution_count": 18,
   "id": "e55e2959-dbcc-4827-9566-41ddaba19d10",
   "metadata": {},
   "outputs": [],
   "source": [
    "# Create an array with a range of numbers\n",
    "range_array = np.arange(0, 10, 2)  # start, stop, step"
   ]
  },
  {
   "cell_type": "code",
   "execution_count": 20,
   "id": "0995eec7-5a3c-41af-9378-a585f56b05f4",
   "metadata": {},
   "outputs": [
    {
     "data": {
      "text/plain": [
       "array([0, 2, 4, 6, 8])"
      ]
     },
     "execution_count": 20,
     "metadata": {},
     "output_type": "execute_result"
    }
   ],
   "source": [
    "range_array"
   ]
  },
  {
   "cell_type": "code",
   "execution_count": 22,
   "id": "240ddc94-dec5-41e6-a1fe-f94cceb8d54c",
   "metadata": {},
   "outputs": [],
   "source": [
    "# Create an array of evenly spaced numbers\n",
    "linspace_array = np.linspace(0, 1, 5)  # start, stop, num of points"
   ]
  },
  {
   "cell_type": "code",
   "execution_count": 24,
   "id": "87256939-a182-4784-b7b5-dbbc2ace3ae4",
   "metadata": {},
   "outputs": [
    {
     "data": {
      "text/plain": [
       "array([0.  , 0.25, 0.5 , 0.75, 1.  ])"
      ]
     },
     "execution_count": 24,
     "metadata": {},
     "output_type": "execute_result"
    }
   ],
   "source": [
    "linspace_array"
   ]
  },
  {
   "cell_type": "code",
   "execution_count": 26,
   "id": "7f3d6c12-3af1-4662-95b3-71308efd0d85",
   "metadata": {},
   "outputs": [],
   "source": [
    "# Create an identity matrix\n",
    "identity_matrix = np.eye(3)"
   ]
  },
  {
   "cell_type": "code",
   "execution_count": 28,
   "id": "4b55f2c1-a20e-48fa-b10e-f3c0ee3e31ae",
   "metadata": {},
   "outputs": [
    {
     "data": {
      "text/plain": [
       "array([[1., 0., 0.],\n",
       "       [0., 1., 0.],\n",
       "       [0., 0., 1.]])"
      ]
     },
     "execution_count": 28,
     "metadata": {},
     "output_type": "execute_result"
    }
   ],
   "source": [
    "identity_matrix"
   ]
  },
  {
   "cell_type": "code",
   "execution_count": 30,
   "id": "75432a1c-2a6b-4fb0-9cad-438ea8ab25ea",
   "metadata": {},
   "outputs": [],
   "source": [
    "# Basic arithmetic operations\n",
    "sum_array = array + 2\n",
    "product_array = array * 3"
   ]
  },
  {
   "cell_type": "code",
   "execution_count": 32,
   "id": "2f2c5e10-faee-4115-8846-8a9b10eb9c73",
   "metadata": {},
   "outputs": [
    {
     "data": {
      "text/plain": [
       "array([ 3,  6,  9, 12, 15])"
      ]
     },
     "execution_count": 32,
     "metadata": {},
     "output_type": "execute_result"
    }
   ],
   "source": [
    "sum_array\n",
    "product_array"
   ]
  },
  {
   "cell_type": "code",
   "execution_count": 34,
   "id": "4ec98078-55b4-4933-9aa3-99d902852a53",
   "metadata": {},
   "outputs": [],
   "source": [
    "# Element-wise operations between arrays\n",
    "array1 = np.array([1, 2, 3])\n",
    "array2 = np.array([4, 5, 6])\n",
    "sum_arrays = array1 + array2\n",
    "product_arrays = array1 * array2"
   ]
  },
  {
   "cell_type": "code",
   "execution_count": 36,
   "id": "82e291f5-417e-4faa-b1e5-cb86080bbb04",
   "metadata": {},
   "outputs": [
    {
     "data": {
      "text/plain": [
       "array([ 4, 10, 18])"
      ]
     },
     "execution_count": 36,
     "metadata": {},
     "output_type": "execute_result"
    }
   ],
   "source": [
    "array1\n",
    "array2\n",
    "sum_arrays\n",
    "product_arrays"
   ]
  },
  {
   "cell_type": "code",
   "execution_count": 38,
   "id": "bbdda92c-d530-44c0-8e05-1b218ab5a902",
   "metadata": {},
   "outputs": [],
   "source": [
    "# Matrix multiplication\n",
    "matrix1 = np.array([[1, 2], [3, 4]])\n",
    "matrix2 = np.array([[5, 6], [7, 8]])\n",
    "matrix_product = np.dot(matrix1, matrix2)"
   ]
  },
  {
   "cell_type": "code",
   "execution_count": 40,
   "id": "c8d6a77e-ba92-4c68-bb14-2af1c3a2f2c8",
   "metadata": {},
   "outputs": [
    {
     "data": {
      "text/plain": [
       "array([[19, 22],\n",
       "       [43, 50]])"
      ]
     },
     "execution_count": 40,
     "metadata": {},
     "output_type": "execute_result"
    }
   ],
   "source": [
    "matrix1\n",
    "matrix2\n",
    "matrix_product"
   ]
  },
  {
   "cell_type": "code",
   "execution_count": 42,
   "id": "3cfef8ed-ef31-4597-ab02-4c646175d4ba",
   "metadata": {},
   "outputs": [
    {
     "name": "stdout",
     "output_type": "stream",
     "text": [
      "(5,)\n",
      "5\n",
      "int32\n"
     ]
    }
   ],
   "source": [
    "# Get array properties\n",
    "print(array.shape)   # Shape of the array\n",
    "print(array.size)    # Total number of elements\n",
    "print(array.dtype)   # Data type of the array"
   ]
  },
  {
   "cell_type": "code",
   "execution_count": 44,
   "id": "e3a9d40f-7920-4467-80e2-f84f28848838",
   "metadata": {},
   "outputs": [],
   "source": [
    "# Reshape an array\n",
    "reshaped_array = array.reshape(5, 1)"
   ]
  },
  {
   "cell_type": "code",
   "execution_count": 46,
   "id": "50f495f1-feea-423e-bedb-732d7c3cc2b3",
   "metadata": {},
   "outputs": [
    {
     "data": {
      "text/plain": [
       "array([[1],\n",
       "       [2],\n",
       "       [3],\n",
       "       [4],\n",
       "       [5]])"
      ]
     },
     "execution_count": 46,
     "metadata": {},
     "output_type": "execute_result"
    }
   ],
   "source": [
    "reshaped_array"
   ]
  },
  {
   "cell_type": "code",
   "execution_count": 48,
   "id": "cbd5ff14-427b-445d-bd5c-680a5795b1b6",
   "metadata": {},
   "outputs": [],
   "source": [
    "# Transpose an array\n",
    "transposed_array = matrix1.T"
   ]
  },
  {
   "cell_type": "code",
   "execution_count": 50,
   "id": "eb9ba2b6-4f0f-413d-bb11-1e9a924a6628",
   "metadata": {},
   "outputs": [
    {
     "data": {
      "text/plain": [
       "array([[1, 3],\n",
       "       [2, 4]])"
      ]
     },
     "execution_count": 50,
     "metadata": {},
     "output_type": "execute_result"
    }
   ],
   "source": [
    "transposed_array"
   ]
  },
  {
   "cell_type": "code",
   "execution_count": 51,
   "id": "295ac6c8-856d-4709-8a16-7bfa705c3c14",
   "metadata": {},
   "outputs": [],
   "source": [
    "# Mean, median, and standard deviation\n",
    "mean_value = np.mean(array)\n",
    "median_value = np.median(array)\n",
    "std_value = np.std(array)"
   ]
  },
  {
   "cell_type": "code",
   "execution_count": 53,
   "id": "5bc97beb-d961-43b3-a218-05530e944acd",
   "metadata": {},
   "outputs": [
    {
     "data": {
      "text/plain": [
       "1.4142135623730951"
      ]
     },
     "execution_count": 53,
     "metadata": {},
     "output_type": "execute_result"
    }
   ],
   "source": [
    "mean_value\n",
    "median_value\n",
    "std_value"
   ]
  },
  {
   "cell_type": "code",
   "execution_count": 55,
   "id": "cfa5f6ee-e797-4c13-8626-f32e78fc1d2f",
   "metadata": {},
   "outputs": [],
   "source": [
    "# Minimum and maximum\n",
    "min_value = np.min(array)\n",
    "max_value = np.max(array)"
   ]
  },
  {
   "cell_type": "code",
   "execution_count": 57,
   "id": "ec01a0e3-13a0-4710-b2f2-f3f348073d34",
   "metadata": {},
   "outputs": [
    {
     "data": {
      "text/plain": [
       "5"
      ]
     },
     "execution_count": 57,
     "metadata": {},
     "output_type": "execute_result"
    }
   ],
   "source": [
    "min_value\n",
    "max_value"
   ]
  },
  {
   "cell_type": "code",
   "execution_count": 60,
   "id": "bd3ca13e-3b72-4b69-93ea-18ddcad80185",
   "metadata": {},
   "outputs": [],
   "source": [
    "# Sum and product of elements\n",
    "sum_value = np.sum(array)\n",
    "product_value = np.prod(array)"
   ]
  },
  {
   "cell_type": "code",
   "execution_count": 62,
   "id": "56eaef19-20e2-4e31-bef1-d2bd76c5ff3c",
   "metadata": {},
   "outputs": [
    {
     "data": {
      "text/plain": [
       "120"
      ]
     },
     "execution_count": 62,
     "metadata": {},
     "output_type": "execute_result"
    }
   ],
   "source": [
    "sum_value\n",
    "product_value"
   ]
  },
  {
   "cell_type": "code",
   "execution_count": 64,
   "id": "54f8ee93-36fc-4f49-a2b7-968a9b51278e",
   "metadata": {},
   "outputs": [],
   "source": [
    "# Cumulative sum and product\n",
    "cumsum_array = np.cumsum(array)\n",
    "cumprod_array = np.cumprod(array)"
   ]
  },
  {
   "cell_type": "code",
   "execution_count": 66,
   "id": "16fc7ef0-4dce-445d-8d8a-008e1f2e7680",
   "metadata": {},
   "outputs": [
    {
     "data": {
      "text/plain": [
       "array([  1,   2,   6,  24, 120])"
      ]
     },
     "execution_count": 66,
     "metadata": {},
     "output_type": "execute_result"
    }
   ],
   "source": [
    "cumsum_array\n",
    "cumprod_array"
   ]
  },
  {
   "cell_type": "code",
   "execution_count": 68,
   "id": "addae64d-aa4c-4a96-b812-2c320e8003a4",
   "metadata": {},
   "outputs": [],
   "source": [
    "# Generate random numbers\n",
    "random_array = np.random.rand(3, 3)  # Uniform distribution between 0 and 1\n",
    "random_int_array = np.random.randint(1, 10, (2, 3))  # Random integers between 1 and 10"
   ]
  },
  {
   "cell_type": "code",
   "execution_count": 70,
   "id": "a786908b-fbe8-4d7e-9d7c-366e9a72c179",
   "metadata": {},
   "outputs": [
    {
     "data": {
      "text/plain": [
       "array([[6, 4, 1],\n",
       "       [6, 5, 2]])"
      ]
     },
     "execution_count": 70,
     "metadata": {},
     "output_type": "execute_result"
    }
   ],
   "source": [
    "random_array\n",
    "random_int_array"
   ]
  },
  {
   "cell_type": "code",
   "execution_count": 86,
   "id": "df8063bf-2cda-479f-bab1-c22e854e7850",
   "metadata": {},
   "outputs": [],
   "source": [
    "# Normal distribution (mean=0, std=1)\n",
    "normal_array = np.random.randn(3, 3)"
   ]
  },
  {
   "cell_type": "code",
   "execution_count": 89,
   "id": "0c85400f-508e-4f67-9e34-963001ca6bbd",
   "metadata": {},
   "outputs": [
    {
     "data": {
      "text/plain": [
       "array([[ 0.37569802, -0.60063869, -0.29169375],\n",
       "       [-0.60170661,  1.85227818, -0.01349722],\n",
       "       [-1.05771093,  0.82254491, -1.22084365]])"
      ]
     },
     "execution_count": 89,
     "metadata": {},
     "output_type": "execute_result"
    }
   ],
   "source": [
    "normal_array"
   ]
  },
  {
   "cell_type": "code",
   "execution_count": 91,
   "id": "f6b5fd30-b197-4255-b162-b8bb7513ff49",
   "metadata": {},
   "outputs": [],
   "source": [
    "# Logical operations\n",
    "bool_array = array > 2\n",
    "filtered_array = array[array > 2]  # Filter elements greater than 2"
   ]
  },
  {
   "cell_type": "code",
   "execution_count": 93,
   "id": "2e8bd2e2-de20-43be-b04f-87dec6c3f0d3",
   "metadata": {},
   "outputs": [
    {
     "data": {
      "text/plain": [
       "array([3, 4, 5])"
      ]
     },
     "execution_count": 93,
     "metadata": {},
     "output_type": "execute_result"
    }
   ],
   "source": [
    "bool_array\n",
    "filtered_array"
   ]
  },
  {
   "cell_type": "code",
   "execution_count": 95,
   "id": "2dc5664e-09aa-4ce2-af32-7f97ea30fb34",
   "metadata": {},
   "outputs": [],
   "source": [
    "# Any and all operations\n",
    "has_positive = np.any(array > 0)\n",
    "all_positive = np.all(array > 0)\n"
   ]
  },
  {
   "cell_type": "code",
   "execution_count": 97,
   "id": "99148432-c4b4-41f1-84d8-01b99de7c3ae",
   "metadata": {},
   "outputs": [
    {
     "data": {
      "text/plain": [
       "True"
      ]
     },
     "execution_count": 97,
     "metadata": {},
     "output_type": "execute_result"
    }
   ],
   "source": [
    "has_positive\n",
    "all_positive"
   ]
  },
  {
   "cell_type": "code",
   "execution_count": 99,
   "id": "158b305d-3f9a-4d21-9a8d-61e824256515",
   "metadata": {},
   "outputs": [],
   "source": [
    "# Where condition\n",
    "condition_array = np.where(array > 2, array, 0)  # Replace elements <= 2 with 0"
   ]
  },
  {
   "cell_type": "code",
   "execution_count": 101,
   "id": "7646ca0f-ddcd-49f0-8b52-416c86038cde",
   "metadata": {},
   "outputs": [
    {
     "data": {
      "text/plain": [
       "array([0, 0, 3, 4, 5])"
      ]
     },
     "execution_count": 101,
     "metadata": {},
     "output_type": "execute_result"
    }
   ],
   "source": [
    "condition_array"
   ]
  },
  {
   "cell_type": "code",
   "execution_count": 103,
   "id": "b5b3ada5-b669-4ed3-9ffe-109514bb5f3a",
   "metadata": {},
   "outputs": [],
   "source": [
    "# Concatenate arrays\n",
    "concatenated_array = np.concatenate((array1, array2))"
   ]
  },
  {
   "cell_type": "code",
   "execution_count": 105,
   "id": "d31957a9-a9e6-4751-9bd3-99d0c1f8b0ed",
   "metadata": {},
   "outputs": [
    {
     "data": {
      "text/plain": [
       "array([1, 2, 3, 4, 5, 6])"
      ]
     },
     "execution_count": 105,
     "metadata": {},
     "output_type": "execute_result"
    }
   ],
   "source": [
    "concatenated_array"
   ]
  },
  {
   "cell_type": "code",
   "execution_count": 109,
   "id": "aa615ddb-c266-4b86-aa6b-1e2dd35338b1",
   "metadata": {},
   "outputs": [],
   "source": [
    "# Stack arrays vertically or horizontally\n",
    "vstacked_array = np.vstack((array1, array2))\n",
    "hstacked_array = np.hstack((array1, array2))"
   ]
  },
  {
   "cell_type": "code",
   "execution_count": 114,
   "id": "93e0e849-faf2-4683-9bf1-92ceb8134487",
   "metadata": {},
   "outputs": [
    {
     "data": {
      "text/plain": [
       "array([1, 2, 3, 4, 5, 6])"
      ]
     },
     "execution_count": 114,
     "metadata": {},
     "output_type": "execute_result"
    }
   ],
   "source": [
    "vstacked_array\n",
    "hstacked_array"
   ]
  },
  {
   "cell_type": "code",
   "execution_count": 116,
   "id": "6a473098-9d79-438a-93ba-8a773030fc10",
   "metadata": {},
   "outputs": [],
   "source": [
    "# Copy an array\n",
    "copied_array = array.copy()"
   ]
  },
  {
   "cell_type": "code",
   "execution_count": 121,
   "id": "5bd7668c-9683-4514-b10c-561eb74acc6a",
   "metadata": {},
   "outputs": [
    {
     "data": {
      "text/plain": [
       "array([1, 2, 3, 4, 5])"
      ]
     },
     "execution_count": 121,
     "metadata": {},
     "output_type": "execute_result"
    }
   ],
   "source": [
    "copied_array"
   ]
  },
  {
   "cell_type": "code",
   "execution_count": 123,
   "id": "36cc7e60-2a4f-424e-965d-e2e65d0fa069",
   "metadata": {},
   "outputs": [],
   "source": [
    "# Trigonometric functions\n",
    "sin_array = np.sin(array)\n",
    "cos_array = np.cos(array)"
   ]
  },
  {
   "cell_type": "code",
   "execution_count": 125,
   "id": "963deb73-4d11-4a80-83d3-13b9e36948bb",
   "metadata": {},
   "outputs": [
    {
     "data": {
      "text/plain": [
       "array([ 0.54030231, -0.41614684, -0.9899925 , -0.65364362,  0.28366219])"
      ]
     },
     "execution_count": 125,
     "metadata": {},
     "output_type": "execute_result"
    }
   ],
   "source": [
    "sin_array\n",
    "cos_array"
   ]
  },
  {
   "cell_type": "code",
   "execution_count": 127,
   "id": "d8a7aba4-782b-47cc-b8d1-c2462208b602",
   "metadata": {},
   "outputs": [],
   "source": [
    "# Exponential and logarithmic functions\n",
    "exp_array = np.exp(array)\n",
    "log_array = np.log(array)"
   ]
  },
  {
   "cell_type": "code",
   "execution_count": 129,
   "id": "355217df-0cad-49ae-a782-5f93f2d54893",
   "metadata": {},
   "outputs": [
    {
     "data": {
      "text/plain": [
       "array([0.        , 0.69314718, 1.09861229, 1.38629436, 1.60943791])"
      ]
     },
     "execution_count": 129,
     "metadata": {},
     "output_type": "execute_result"
    }
   ],
   "source": [
    "exp_array\n",
    "log_array"
   ]
  },
  {
   "cell_type": "code",
   "execution_count": 131,
   "id": "2c9117c0-c22b-49e7-9e22-35fa27fa9732",
   "metadata": {},
   "outputs": [],
   "source": [
    "# Check for NaN\n",
    "nan_array = np.array([1, 2, np.nan, 4])\n",
    "is_nan = np.isnan(nan_array)"
   ]
  },
  {
   "cell_type": "code",
   "execution_count": 133,
   "id": "01e8e61b-3003-4cc6-b17c-0deea497498d",
   "metadata": {},
   "outputs": [
    {
     "data": {
      "text/plain": [
       "array([ 1.,  2., nan,  4.])"
      ]
     },
     "execution_count": 133,
     "metadata": {},
     "output_type": "execute_result"
    }
   ],
   "source": [
    "nan_array"
   ]
  },
  {
   "cell_type": "code",
   "execution_count": 135,
   "id": "a7274e43-d5e1-47f4-9f0f-2b2196e288d8",
   "metadata": {},
   "outputs": [],
   "source": [
    "# Replace NaN with a value\n",
    "nan_filled = np.nan_to_num(nan_array, nan=0)"
   ]
  },
  {
   "cell_type": "code",
   "execution_count": 137,
   "id": "0e4c0afa-a58b-47f3-9583-c6beff6cf3d9",
   "metadata": {},
   "outputs": [
    {
     "data": {
      "text/plain": [
       "array([1., 2., 0., 4.])"
      ]
     },
     "execution_count": 137,
     "metadata": {},
     "output_type": "execute_result"
    }
   ],
   "source": [
    "nan_filled"
   ]
  },
  {
   "cell_type": "code",
   "execution_count": 139,
   "id": "2595e515-467f-4ced-8889-8431fb5ebeb7",
   "metadata": {},
   "outputs": [],
   "source": [
    "# Check for infinity\n",
    "is_inf = np.isinf(nan_array)"
   ]
  },
  {
   "cell_type": "code",
   "execution_count": 142,
   "id": "04c512a5-34cd-4cf5-8734-848c4a2d2683",
   "metadata": {},
   "outputs": [
    {
     "data": {
      "text/plain": [
       "array([False, False, False, False])"
      ]
     },
     "execution_count": 142,
     "metadata": {},
     "output_type": "execute_result"
    }
   ],
   "source": [
    "is_inf"
   ]
  },
  {
   "cell_type": "code",
   "execution_count": 145,
   "id": "830c631d-97db-48a9-9ee0-7fa3049edc28",
   "metadata": {},
   "outputs": [
    {
     "name": "stdout",
     "output_type": "stream",
     "text": [
      "   no  id.orig_p  id.resp_p proto service  flow_duration  fwd_pkts_tot  \\\n",
      "0   0      38667       1883   tcp    mqtt      32.011598             9   \n",
      "1   1      51143       1883   tcp    mqtt      31.883584             9   \n",
      "2   2      44761       1883   tcp    mqtt      32.124053             9   \n",
      "3   3      60893       1883   tcp    mqtt      31.961063             9   \n",
      "4   4      51087       1883   tcp    mqtt      31.902362             9   \n",
      "\n",
      "   bwd_pkts_tot  fwd_data_pkts_tot  bwd_data_pkts_tot  ...  active.std  \\\n",
      "0             5                  3                  3  ...         0.0   \n",
      "1             5                  3                  3  ...         0.0   \n",
      "2             5                  3                  3  ...         0.0   \n",
      "3             5                  3                  3  ...         0.0   \n",
      "4             5                  3                  3  ...         0.0   \n",
      "\n",
      "       idle.min      idle.max      idle.tot      idle.avg  idle.std  \\\n",
      "0  2.972918e+07  2.972918e+07  2.972918e+07  2.972918e+07       0.0   \n",
      "1  2.985528e+07  2.985528e+07  2.985528e+07  2.985528e+07       0.0   \n",
      "2  2.984215e+07  2.984215e+07  2.984215e+07  2.984215e+07       0.0   \n",
      "3  2.991377e+07  2.991377e+07  2.991377e+07  2.991377e+07       0.0   \n",
      "4  2.981470e+07  2.981470e+07  2.981470e+07  2.981470e+07       0.0   \n",
      "\n",
      "   fwd_init_window_size  bwd_init_window_size  fwd_last_window_size  \\\n",
      "0                 64240                 26847                   502   \n",
      "1                 64240                 26847                   502   \n",
      "2                 64240                 26847                   502   \n",
      "3                 64240                 26847                   502   \n",
      "4                 64240                 26847                   502   \n",
      "\n",
      "    Attack_type  \n",
      "0  MQTT_Publish  \n",
      "1  MQTT_Publish  \n",
      "2  MQTT_Publish  \n",
      "3  MQTT_Publish  \n",
      "4  MQTT_Publish  \n",
      "\n",
      "[5 rows x 85 columns]\n"
     ]
    }
   ],
   "source": [
    "# Display the first few rows of the DataFrame\n",
    "print(mydata.head())"
   ]
  },
  {
   "cell_type": "code",
   "execution_count": 147,
   "id": "55c501de-b097-40a2-ad84-6846814e728e",
   "metadata": {},
   "outputs": [
    {
     "name": "stdout",
     "output_type": "stream",
     "text": [
      "          no  id.orig_p  id.resp_p proto service  flow_duration  fwd_pkts_tot  \\\n",
      "123112  2005      59247      63331   tcp       -       0.000006             1   \n",
      "123113  2006      59247      64623   tcp       -       0.000007             1   \n",
      "123114  2007      59247      64680   tcp       -       0.000006             1   \n",
      "123115  2008      59247      65000   tcp       -       0.000006             1   \n",
      "123116  2009      59247      65129   tcp       -       0.000006             1   \n",
      "\n",
      "        bwd_pkts_tot  fwd_data_pkts_tot  bwd_data_pkts_tot  ...  active.std  \\\n",
      "123112             1                  0                  0  ...         0.0   \n",
      "123113             1                  0                  0  ...         0.0   \n",
      "123114             1                  0                  0  ...         0.0   \n",
      "123115             1                  0                  0  ...         0.0   \n",
      "123116             1                  0                  0  ...         0.0   \n",
      "\n",
      "        idle.min  idle.max  idle.tot  idle.avg  idle.std  \\\n",
      "123112       0.0       0.0       0.0       0.0       0.0   \n",
      "123113       0.0       0.0       0.0       0.0       0.0   \n",
      "123114       0.0       0.0       0.0       0.0       0.0   \n",
      "123115       0.0       0.0       0.0       0.0       0.0   \n",
      "123116       0.0       0.0       0.0       0.0       0.0   \n",
      "\n",
      "        fwd_init_window_size  bwd_init_window_size  fwd_last_window_size  \\\n",
      "123112                  1024                     0                  1024   \n",
      "123113                  1024                     0                  1024   \n",
      "123114                  1024                     0                  1024   \n",
      "123115                  1024                     0                  1024   \n",
      "123116                  1024                     0                  1024   \n",
      "\n",
      "                Attack_type  \n",
      "123112  NMAP_XMAS_TREE_SCAN  \n",
      "123113  NMAP_XMAS_TREE_SCAN  \n",
      "123114  NMAP_XMAS_TREE_SCAN  \n",
      "123115  NMAP_XMAS_TREE_SCAN  \n",
      "123116  NMAP_XMAS_TREE_SCAN  \n",
      "\n",
      "[5 rows x 85 columns]\n"
     ]
    }
   ],
   "source": [
    "# Display the last few rows of the DataFrame\n",
    "print(mydata.tail())"
   ]
  },
  {
   "cell_type": "code",
   "execution_count": 149,
   "id": "c0114c03-d6fa-41e7-83df-70479fc8bf2a",
   "metadata": {},
   "outputs": [
    {
     "name": "stdout",
     "output_type": "stream",
     "text": [
      "<class 'pandas.core.frame.DataFrame'>\n",
      "RangeIndex: 123117 entries, 0 to 123116\n",
      "Data columns (total 85 columns):\n",
      " #   Column                    Non-Null Count   Dtype  \n",
      "---  ------                    --------------   -----  \n",
      " 0   no                        123117 non-null  int64  \n",
      " 1   id.orig_p                 123117 non-null  int64  \n",
      " 2   id.resp_p                 123117 non-null  int64  \n",
      " 3   proto                     123117 non-null  object \n",
      " 4   service                   123117 non-null  object \n",
      " 5   flow_duration             123117 non-null  float64\n",
      " 6   fwd_pkts_tot              123117 non-null  int64  \n",
      " 7   bwd_pkts_tot              123117 non-null  int64  \n",
      " 8   fwd_data_pkts_tot         123117 non-null  int64  \n",
      " 9   bwd_data_pkts_tot         123117 non-null  int64  \n",
      " 10  fwd_pkts_per_sec          123117 non-null  float64\n",
      " 11  bwd_pkts_per_sec          123117 non-null  float64\n",
      " 12  flow_pkts_per_sec         123117 non-null  float64\n",
      " 13  down_up_ratio             123117 non-null  float64\n",
      " 14  fwd_header_size_tot       123117 non-null  int64  \n",
      " 15  fwd_header_size_min       123117 non-null  int64  \n",
      " 16  fwd_header_size_max       123117 non-null  int64  \n",
      " 17  bwd_header_size_tot       123117 non-null  int64  \n",
      " 18  bwd_header_size_min       123117 non-null  int64  \n",
      " 19  bwd_header_size_max       123117 non-null  int64  \n",
      " 20  flow_FIN_flag_count       123117 non-null  int64  \n",
      " 21  flow_SYN_flag_count       123117 non-null  int64  \n",
      " 22  flow_RST_flag_count       123117 non-null  int64  \n",
      " 23  fwd_PSH_flag_count        123117 non-null  int64  \n",
      " 24  bwd_PSH_flag_count        123117 non-null  int64  \n",
      " 25  flow_ACK_flag_count       123117 non-null  int64  \n",
      " 26  fwd_URG_flag_count        123117 non-null  int64  \n",
      " 27  bwd_URG_flag_count        123117 non-null  int64  \n",
      " 28  flow_CWR_flag_count       123117 non-null  int64  \n",
      " 29  flow_ECE_flag_count       123117 non-null  int64  \n",
      " 30  fwd_pkts_payload.min      123117 non-null  float64\n",
      " 31  fwd_pkts_payload.max      123117 non-null  float64\n",
      " 32  fwd_pkts_payload.tot      123117 non-null  float64\n",
      " 33  fwd_pkts_payload.avg      123117 non-null  float64\n",
      " 34  fwd_pkts_payload.std      123117 non-null  float64\n",
      " 35  bwd_pkts_payload.min      123117 non-null  float64\n",
      " 36  bwd_pkts_payload.max      123117 non-null  float64\n",
      " 37  bwd_pkts_payload.tot      123117 non-null  float64\n",
      " 38  bwd_pkts_payload.avg      123117 non-null  float64\n",
      " 39  bwd_pkts_payload.std      123117 non-null  float64\n",
      " 40  flow_pkts_payload.min     123117 non-null  float64\n",
      " 41  flow_pkts_payload.max     123117 non-null  float64\n",
      " 42  flow_pkts_payload.tot     123117 non-null  float64\n",
      " 43  flow_pkts_payload.avg     123117 non-null  float64\n",
      " 44  flow_pkts_payload.std     123117 non-null  float64\n",
      " 45  fwd_iat.min               123117 non-null  float64\n",
      " 46  fwd_iat.max               123117 non-null  float64\n",
      " 47  fwd_iat.tot               123117 non-null  float64\n",
      " 48  fwd_iat.avg               123117 non-null  float64\n",
      " 49  fwd_iat.std               123117 non-null  float64\n",
      " 50  bwd_iat.min               123117 non-null  float64\n",
      " 51  bwd_iat.max               123117 non-null  float64\n",
      " 52  bwd_iat.tot               123117 non-null  float64\n",
      " 53  bwd_iat.avg               123117 non-null  float64\n",
      " 54  bwd_iat.std               123117 non-null  float64\n",
      " 55  flow_iat.min              123117 non-null  float64\n",
      " 56  flow_iat.max              123117 non-null  float64\n",
      " 57  flow_iat.tot              123117 non-null  float64\n",
      " 58  flow_iat.avg              123117 non-null  float64\n",
      " 59  flow_iat.std              123117 non-null  float64\n",
      " 60  payload_bytes_per_second  123117 non-null  float64\n",
      " 61  fwd_subflow_pkts          123117 non-null  float64\n",
      " 62  bwd_subflow_pkts          123117 non-null  float64\n",
      " 63  fwd_subflow_bytes         123117 non-null  float64\n",
      " 64  bwd_subflow_bytes         123117 non-null  float64\n",
      " 65  fwd_bulk_bytes            123117 non-null  float64\n",
      " 66  bwd_bulk_bytes            123117 non-null  float64\n",
      " 67  fwd_bulk_packets          123117 non-null  float64\n",
      " 68  bwd_bulk_packets          123117 non-null  float64\n",
      " 69  fwd_bulk_rate             123117 non-null  float64\n",
      " 70  bwd_bulk_rate             123117 non-null  float64\n",
      " 71  active.min                123117 non-null  float64\n",
      " 72  active.max                123117 non-null  float64\n",
      " 73  active.tot                123117 non-null  float64\n",
      " 74  active.avg                123117 non-null  float64\n",
      " 75  active.std                123117 non-null  float64\n",
      " 76  idle.min                  123117 non-null  float64\n",
      " 77  idle.max                  123117 non-null  float64\n",
      " 78  idle.tot                  123117 non-null  float64\n",
      " 79  idle.avg                  123117 non-null  float64\n",
      " 80  idle.std                  123117 non-null  float64\n",
      " 81  fwd_init_window_size      123117 non-null  int64  \n",
      " 82  bwd_init_window_size      123117 non-null  int64  \n",
      " 83  fwd_last_window_size      123117 non-null  int64  \n",
      " 84  Attack_type               123117 non-null  object \n",
      "dtypes: float64(56), int64(26), object(3)\n",
      "memory usage: 79.8+ MB\n",
      "None\n"
     ]
    }
   ],
   "source": [
    "# Display DataFrame information\n",
    "print(mydata.info())"
   ]
  },
  {
   "cell_type": "code",
   "execution_count": 151,
   "id": "b162bc4f-1a81-4ad7-8ae8-342786658f41",
   "metadata": {},
   "outputs": [
    {
     "name": "stdout",
     "output_type": "stream",
     "text": [
      "                  no      id.orig_p      id.resp_p  flow_duration  \\\n",
      "count  123117.000000  123117.000000  123117.000000  123117.000000   \n",
      "mean    37035.089248   34639.258738    1014.305092       3.809566   \n",
      "std     30459.106367   19070.620354    5256.371994     130.005408   \n",
      "min         0.000000       0.000000       0.000000       0.000000   \n",
      "25%      6059.000000   17702.000000      21.000000       0.000001   \n",
      "50%     33100.000000   37221.000000      21.000000       0.000004   \n",
      "75%     63879.000000   50971.000000      21.000000       0.000005   \n",
      "max     94658.000000   65535.000000   65389.000000   21728.335578   \n",
      "\n",
      "        fwd_pkts_tot   bwd_pkts_tot  fwd_data_pkts_tot  bwd_data_pkts_tot  \\\n",
      "count  123117.000000  123117.000000      123117.000000      123117.000000   \n",
      "mean        2.268826       1.909509           1.471218           0.820260   \n",
      "std        22.336565      33.018311          19.635196          32.293948   \n",
      "min         0.000000       0.000000           0.000000           0.000000   \n",
      "25%         1.000000       1.000000           1.000000           0.000000   \n",
      "50%         1.000000       1.000000           1.000000           0.000000   \n",
      "75%         1.000000       1.000000           1.000000           0.000000   \n",
      "max      4345.000000   10112.000000        4345.000000       10105.000000   \n",
      "\n",
      "       fwd_pkts_per_sec  bwd_pkts_per_sec  ...    active.avg    active.std  \\\n",
      "count      1.231170e+05      1.231170e+05  ...  1.231170e+05  1.231170e+05   \n",
      "mean       3.518063e+05      3.517620e+05  ...  1.481354e+05  2.353599e+04   \n",
      "std        3.707645e+05      3.708015e+05  ...  1.613007e+06  1.477935e+06   \n",
      "min        0.000000e+00      0.000000e+00  ...  0.000000e+00  0.000000e+00   \n",
      "25%        7.454354e+01      7.288927e+01  ...  9.536740e-01  0.000000e+00   \n",
      "50%        2.467238e+05      2.467238e+05  ...  4.053116e+00  0.000000e+00   \n",
      "75%        5.242880e+05      5.242880e+05  ...  5.006790e+00  0.000000e+00   \n",
      "max        1.048576e+06      1.048576e+06  ...  4.374931e+08  4.774862e+08   \n",
      "\n",
      "           idle.min      idle.max      idle.tot      idle.avg      idle.std  \\\n",
      "count  1.231170e+05  1.231170e+05  1.231170e+05  1.231170e+05  1.231170e+05   \n",
      "mean   1.616655e+06  1.701956e+06  3.517644e+06  1.664985e+06  4.550183e+04   \n",
      "std    8.809396e+06  9.252337e+06  1.229508e+08  9.007064e+06  1.091361e+06   \n",
      "min    0.000000e+00  0.000000e+00  0.000000e+00  0.000000e+00  0.000000e+00   \n",
      "25%    0.000000e+00  0.000000e+00  0.000000e+00  0.000000e+00  0.000000e+00   \n",
      "50%    0.000000e+00  0.000000e+00  0.000000e+00  0.000000e+00  0.000000e+00   \n",
      "75%    0.000000e+00  0.000000e+00  0.000000e+00  0.000000e+00  0.000000e+00   \n",
      "max    3.000000e+08  3.000000e+08  2.096777e+10  3.000000e+08  1.208029e+08   \n",
      "\n",
      "       fwd_init_window_size  bwd_init_window_size  fwd_last_window_size  \n",
      "count         123117.000000         123117.000000         123117.000000  \n",
      "mean            6118.905123           2739.776018            751.647514  \n",
      "std            18716.313861          10018.848534           6310.183843  \n",
      "min                0.000000              0.000000              0.000000  \n",
      "25%               64.000000              0.000000             64.000000  \n",
      "50%               64.000000              0.000000             64.000000  \n",
      "75%               64.000000              0.000000             64.000000  \n",
      "max            65535.000000          65535.000000          65535.000000  \n",
      "\n",
      "[8 rows x 82 columns]\n"
     ]
    }
   ],
   "source": [
    "# Display summary statistics\n",
    "print(mydata.describe())"
   ]
  },
  {
   "cell_type": "code",
   "execution_count": 153,
   "id": "1e07f65f-c943-4237-8301-e5e1ca87462d",
   "metadata": {},
   "outputs": [
    {
     "name": "stdout",
     "output_type": "stream",
     "text": [
      "Index(['no', 'id.orig_p', 'id.resp_p', 'proto', 'service', 'flow_duration',\n",
      "       'fwd_pkts_tot', 'bwd_pkts_tot', 'fwd_data_pkts_tot',\n",
      "       'bwd_data_pkts_tot', 'fwd_pkts_per_sec', 'bwd_pkts_per_sec',\n",
      "       'flow_pkts_per_sec', 'down_up_ratio', 'fwd_header_size_tot',\n",
      "       'fwd_header_size_min', 'fwd_header_size_max', 'bwd_header_size_tot',\n",
      "       'bwd_header_size_min', 'bwd_header_size_max', 'flow_FIN_flag_count',\n",
      "       'flow_SYN_flag_count', 'flow_RST_flag_count', 'fwd_PSH_flag_count',\n",
      "       'bwd_PSH_flag_count', 'flow_ACK_flag_count', 'fwd_URG_flag_count',\n",
      "       'bwd_URG_flag_count', 'flow_CWR_flag_count', 'flow_ECE_flag_count',\n",
      "       'fwd_pkts_payload.min', 'fwd_pkts_payload.max', 'fwd_pkts_payload.tot',\n",
      "       'fwd_pkts_payload.avg', 'fwd_pkts_payload.std', 'bwd_pkts_payload.min',\n",
      "       'bwd_pkts_payload.max', 'bwd_pkts_payload.tot', 'bwd_pkts_payload.avg',\n",
      "       'bwd_pkts_payload.std', 'flow_pkts_payload.min',\n",
      "       'flow_pkts_payload.max', 'flow_pkts_payload.tot',\n",
      "       'flow_pkts_payload.avg', 'flow_pkts_payload.std', 'fwd_iat.min',\n",
      "       'fwd_iat.max', 'fwd_iat.tot', 'fwd_iat.avg', 'fwd_iat.std',\n",
      "       'bwd_iat.min', 'bwd_iat.max', 'bwd_iat.tot', 'bwd_iat.avg',\n",
      "       'bwd_iat.std', 'flow_iat.min', 'flow_iat.max', 'flow_iat.tot',\n",
      "       'flow_iat.avg', 'flow_iat.std', 'payload_bytes_per_second',\n",
      "       'fwd_subflow_pkts', 'bwd_subflow_pkts', 'fwd_subflow_bytes',\n",
      "       'bwd_subflow_bytes', 'fwd_bulk_bytes', 'bwd_bulk_bytes',\n",
      "       'fwd_bulk_packets', 'bwd_bulk_packets', 'fwd_bulk_rate',\n",
      "       'bwd_bulk_rate', 'active.min', 'active.max', 'active.tot', 'active.avg',\n",
      "       'active.std', 'idle.min', 'idle.max', 'idle.tot', 'idle.avg',\n",
      "       'idle.std', 'fwd_init_window_size', 'bwd_init_window_size',\n",
      "       'fwd_last_window_size', 'Attack_type'],\n",
      "      dtype='object')\n"
     ]
    }
   ],
   "source": [
    "# Display column names\n",
    "print(mydata.columns)"
   ]
  },
  {
   "cell_type": "code",
   "execution_count": 155,
   "id": "8addd801-e662-471e-a55e-c6b897417035",
   "metadata": {},
   "outputs": [
    {
     "name": "stdout",
     "output_type": "stream",
     "text": [
      "(123117, 85)\n"
     ]
    }
   ],
   "source": [
    "# Check the shape of the DataFrame (rows, columns)\n",
    "print(mydata.shape)"
   ]
  },
  {
   "cell_type": "code",
   "execution_count": 157,
   "id": "dacfc1e9-dc68-4f3e-b1a9-a9b12095eff5",
   "metadata": {},
   "outputs": [
    {
     "name": "stdout",
     "output_type": "stream",
     "text": [
      "no                        int64\n",
      "id.orig_p                 int64\n",
      "id.resp_p                 int64\n",
      "proto                    object\n",
      "service                  object\n",
      "                         ...   \n",
      "idle.std                float64\n",
      "fwd_init_window_size      int64\n",
      "bwd_init_window_size      int64\n",
      "fwd_last_window_size      int64\n",
      "Attack_type              object\n",
      "Length: 85, dtype: object\n"
     ]
    }
   ],
   "source": [
    "# Check data types of columns\n",
    "print(mydata.dtypes)"
   ]
  },
  {
   "cell_type": "code",
   "execution_count": 159,
   "id": "b998d3bb-243c-45b3-b10e-e2ea7388634f",
   "metadata": {},
   "outputs": [],
   "source": [
    "# Select rows by index\n",
    "row_data =mydata.loc[5]  # By label\n",
    "row_data = mydata.iloc[5]  # By position"
   ]
  },
  {
   "cell_type": "code",
   "execution_count": 161,
   "id": "761df71d-916e-46c4-85e7-e35188853c5a",
   "metadata": {},
   "outputs": [
    {
     "data": {
      "text/plain": [
       "no                                 5\n",
       "id.orig_p                      48579\n",
       "id.resp_p                       1883\n",
       "proto                            tcp\n",
       "service                         mqtt\n",
       "                            ...     \n",
       "idle.std                         0.0\n",
       "fwd_init_window_size           64240\n",
       "bwd_init_window_size           26847\n",
       "fwd_last_window_size             502\n",
       "Attack_type             MQTT_Publish\n",
       "Name: 5, Length: 85, dtype: object"
      ]
     },
     "execution_count": 161,
     "metadata": {},
     "output_type": "execute_result"
    }
   ],
   "source": [
    "row_data"
   ]
  },
  {
   "cell_type": "code",
   "execution_count": 164,
   "id": "349b42d2-9da2-4d33-bd18-b6054a9dbe9b",
   "metadata": {},
   "outputs": [
    {
     "data": {
      "text/plain": [
       "no                                 5\n",
       "id.orig_p                      48579\n",
       "id.resp_p                       1883\n",
       "proto                            tcp\n",
       "service                         mqtt\n",
       "                            ...     \n",
       "idle.std                         0.0\n",
       "fwd_init_window_size           64240\n",
       "bwd_init_window_size           26847\n",
       "fwd_last_window_size             502\n",
       "Attack_type             MQTT_Publish\n",
       "Name: 5, Length: 85, dtype: object"
      ]
     },
     "execution_count": 164,
     "metadata": {},
     "output_type": "execute_result"
    }
   ],
   "source": [
    "mydata.iloc[5]"
   ]
  },
  {
   "cell_type": "code",
   "execution_count": 167,
   "id": "74412cf7-11bb-4321-94e2-8ec8454b0efb",
   "metadata": {},
   "outputs": [],
   "source": [
    "# Select a subset of rows and columns\n",
    "subset_data =mydata.iloc[2:5, 1:3]"
   ]
  },
  {
   "cell_type": "code",
   "execution_count": 168,
   "id": "0d31eea4-3cbd-49bb-bb45-01fa76ee9e66",
   "metadata": {},
   "outputs": [
    {
     "data": {
      "text/html": [
       "<div>\n",
       "<style scoped>\n",
       "    .dataframe tbody tr th:only-of-type {\n",
       "        vertical-align: middle;\n",
       "    }\n",
       "\n",
       "    .dataframe tbody tr th {\n",
       "        vertical-align: top;\n",
       "    }\n",
       "\n",
       "    .dataframe thead th {\n",
       "        text-align: right;\n",
       "    }\n",
       "</style>\n",
       "<table border=\"1\" class=\"dataframe\">\n",
       "  <thead>\n",
       "    <tr style=\"text-align: right;\">\n",
       "      <th></th>\n",
       "      <th>id.orig_p</th>\n",
       "      <th>id.resp_p</th>\n",
       "    </tr>\n",
       "  </thead>\n",
       "  <tbody>\n",
       "    <tr>\n",
       "      <th>2</th>\n",
       "      <td>44761</td>\n",
       "      <td>1883</td>\n",
       "    </tr>\n",
       "    <tr>\n",
       "      <th>3</th>\n",
       "      <td>60893</td>\n",
       "      <td>1883</td>\n",
       "    </tr>\n",
       "    <tr>\n",
       "      <th>4</th>\n",
       "      <td>51087</td>\n",
       "      <td>1883</td>\n",
       "    </tr>\n",
       "  </tbody>\n",
       "</table>\n",
       "</div>"
      ],
      "text/plain": [
       "   id.orig_p  id.resp_p\n",
       "2      44761       1883\n",
       "3      60893       1883\n",
       "4      51087       1883"
      ]
     },
     "execution_count": 168,
     "metadata": {},
     "output_type": "execute_result"
    }
   ],
   "source": [
    "subset_data"
   ]
  },
  {
   "cell_type": "code",
   "execution_count": 172,
   "id": "be0badc6-9856-4093-a4e4-18170a7dc8b8",
   "metadata": {},
   "outputs": [],
   "source": [
    "# Handle missing data\n",
    "mydata.dropna(inplace=True)  # Drop rows with any missing values\n",
    "mydata.fillna(0, inplace=True)  # Fill missing values with 0\n"
   ]
  },
  {
   "cell_type": "code",
   "execution_count": 176,
   "id": "56751735-529b-4c32-af97-17c7cf2ce5b5",
   "metadata": {},
   "outputs": [
    {
     "data": {
      "text/plain": [
       "<bound method DataFrame.dropna of           no  id.orig_p  id.resp_p proto service  flow_duration  fwd_pkts_tot  \\\n",
       "0          0      38667       1883   tcp    mqtt      32.011598             9   \n",
       "1          1      51143       1883   tcp    mqtt      31.883584             9   \n",
       "2          2      44761       1883   tcp    mqtt      32.124053             9   \n",
       "3          3      60893       1883   tcp    mqtt      31.961063             9   \n",
       "4          4      51087       1883   tcp    mqtt      31.902362             9   \n",
       "...      ...        ...        ...   ...     ...            ...           ...   \n",
       "123112  2005      59247      63331   tcp       -       0.000006             1   \n",
       "123113  2006      59247      64623   tcp       -       0.000007             1   \n",
       "123114  2007      59247      64680   tcp       -       0.000006             1   \n",
       "123115  2008      59247      65000   tcp       -       0.000006             1   \n",
       "123116  2009      59247      65129   tcp       -       0.000006             1   \n",
       "\n",
       "        bwd_pkts_tot  fwd_data_pkts_tot  bwd_data_pkts_tot  ...  active.std  \\\n",
       "0                  5                  3                  3  ...         0.0   \n",
       "1                  5                  3                  3  ...         0.0   \n",
       "2                  5                  3                  3  ...         0.0   \n",
       "3                  5                  3                  3  ...         0.0   \n",
       "4                  5                  3                  3  ...         0.0   \n",
       "...              ...                ...                ...  ...         ...   \n",
       "123112             1                  0                  0  ...         0.0   \n",
       "123113             1                  0                  0  ...         0.0   \n",
       "123114             1                  0                  0  ...         0.0   \n",
       "123115             1                  0                  0  ...         0.0   \n",
       "123116             1                  0                  0  ...         0.0   \n",
       "\n",
       "            idle.min      idle.max      idle.tot      idle.avg  idle.std  \\\n",
       "0       2.972918e+07  2.972918e+07  2.972918e+07  2.972918e+07       0.0   \n",
       "1       2.985528e+07  2.985528e+07  2.985528e+07  2.985528e+07       0.0   \n",
       "2       2.984215e+07  2.984215e+07  2.984215e+07  2.984215e+07       0.0   \n",
       "3       2.991377e+07  2.991377e+07  2.991377e+07  2.991377e+07       0.0   \n",
       "4       2.981470e+07  2.981470e+07  2.981470e+07  2.981470e+07       0.0   \n",
       "...              ...           ...           ...           ...       ...   \n",
       "123112  0.000000e+00  0.000000e+00  0.000000e+00  0.000000e+00       0.0   \n",
       "123113  0.000000e+00  0.000000e+00  0.000000e+00  0.000000e+00       0.0   \n",
       "123114  0.000000e+00  0.000000e+00  0.000000e+00  0.000000e+00       0.0   \n",
       "123115  0.000000e+00  0.000000e+00  0.000000e+00  0.000000e+00       0.0   \n",
       "123116  0.000000e+00  0.000000e+00  0.000000e+00  0.000000e+00       0.0   \n",
       "\n",
       "        fwd_init_window_size  bwd_init_window_size  fwd_last_window_size  \\\n",
       "0                      64240                 26847                   502   \n",
       "1                      64240                 26847                   502   \n",
       "2                      64240                 26847                   502   \n",
       "3                      64240                 26847                   502   \n",
       "4                      64240                 26847                   502   \n",
       "...                      ...                   ...                   ...   \n",
       "123112                  1024                     0                  1024   \n",
       "123113                  1024                     0                  1024   \n",
       "123114                  1024                     0                  1024   \n",
       "123115                  1024                     0                  1024   \n",
       "123116                  1024                     0                  1024   \n",
       "\n",
       "                Attack_type  \n",
       "0              MQTT_Publish  \n",
       "1              MQTT_Publish  \n",
       "2              MQTT_Publish  \n",
       "3              MQTT_Publish  \n",
       "4              MQTT_Publish  \n",
       "...                     ...  \n",
       "123112  NMAP_XMAS_TREE_SCAN  \n",
       "123113  NMAP_XMAS_TREE_SCAN  \n",
       "123114  NMAP_XMAS_TREE_SCAN  \n",
       "123115  NMAP_XMAS_TREE_SCAN  \n",
       "123116  NMAP_XMAS_TREE_SCAN  \n",
       "\n",
       "[123117 rows x 85 columns]>"
      ]
     },
     "execution_count": 176,
     "metadata": {},
     "output_type": "execute_result"
    }
   ],
   "source": [
    "mydata.dropna"
   ]
  },
  {
   "cell_type": "code",
   "execution_count": 178,
   "id": "c9a9da88-7a1e-4208-bea5-63fe0491109f",
   "metadata": {},
   "outputs": [
    {
     "data": {
      "text/plain": [
       "<bound method DataFrame.fillna of           no  id.orig_p  id.resp_p proto service  flow_duration  fwd_pkts_tot  \\\n",
       "0          0      38667       1883   tcp    mqtt      32.011598             9   \n",
       "1          1      51143       1883   tcp    mqtt      31.883584             9   \n",
       "2          2      44761       1883   tcp    mqtt      32.124053             9   \n",
       "3          3      60893       1883   tcp    mqtt      31.961063             9   \n",
       "4          4      51087       1883   tcp    mqtt      31.902362             9   \n",
       "...      ...        ...        ...   ...     ...            ...           ...   \n",
       "123112  2005      59247      63331   tcp       -       0.000006             1   \n",
       "123113  2006      59247      64623   tcp       -       0.000007             1   \n",
       "123114  2007      59247      64680   tcp       -       0.000006             1   \n",
       "123115  2008      59247      65000   tcp       -       0.000006             1   \n",
       "123116  2009      59247      65129   tcp       -       0.000006             1   \n",
       "\n",
       "        bwd_pkts_tot  fwd_data_pkts_tot  bwd_data_pkts_tot  ...  active.std  \\\n",
       "0                  5                  3                  3  ...         0.0   \n",
       "1                  5                  3                  3  ...         0.0   \n",
       "2                  5                  3                  3  ...         0.0   \n",
       "3                  5                  3                  3  ...         0.0   \n",
       "4                  5                  3                  3  ...         0.0   \n",
       "...              ...                ...                ...  ...         ...   \n",
       "123112             1                  0                  0  ...         0.0   \n",
       "123113             1                  0                  0  ...         0.0   \n",
       "123114             1                  0                  0  ...         0.0   \n",
       "123115             1                  0                  0  ...         0.0   \n",
       "123116             1                  0                  0  ...         0.0   \n",
       "\n",
       "            idle.min      idle.max      idle.tot      idle.avg  idle.std  \\\n",
       "0       2.972918e+07  2.972918e+07  2.972918e+07  2.972918e+07       0.0   \n",
       "1       2.985528e+07  2.985528e+07  2.985528e+07  2.985528e+07       0.0   \n",
       "2       2.984215e+07  2.984215e+07  2.984215e+07  2.984215e+07       0.0   \n",
       "3       2.991377e+07  2.991377e+07  2.991377e+07  2.991377e+07       0.0   \n",
       "4       2.981470e+07  2.981470e+07  2.981470e+07  2.981470e+07       0.0   \n",
       "...              ...           ...           ...           ...       ...   \n",
       "123112  0.000000e+00  0.000000e+00  0.000000e+00  0.000000e+00       0.0   \n",
       "123113  0.000000e+00  0.000000e+00  0.000000e+00  0.000000e+00       0.0   \n",
       "123114  0.000000e+00  0.000000e+00  0.000000e+00  0.000000e+00       0.0   \n",
       "123115  0.000000e+00  0.000000e+00  0.000000e+00  0.000000e+00       0.0   \n",
       "123116  0.000000e+00  0.000000e+00  0.000000e+00  0.000000e+00       0.0   \n",
       "\n",
       "        fwd_init_window_size  bwd_init_window_size  fwd_last_window_size  \\\n",
       "0                      64240                 26847                   502   \n",
       "1                      64240                 26847                   502   \n",
       "2                      64240                 26847                   502   \n",
       "3                      64240                 26847                   502   \n",
       "4                      64240                 26847                   502   \n",
       "...                      ...                   ...                   ...   \n",
       "123112                  1024                     0                  1024   \n",
       "123113                  1024                     0                  1024   \n",
       "123114                  1024                     0                  1024   \n",
       "123115                  1024                     0                  1024   \n",
       "123116                  1024                     0                  1024   \n",
       "\n",
       "                Attack_type  \n",
       "0              MQTT_Publish  \n",
       "1              MQTT_Publish  \n",
       "2              MQTT_Publish  \n",
       "3              MQTT_Publish  \n",
       "4              MQTT_Publish  \n",
       "...                     ...  \n",
       "123112  NMAP_XMAS_TREE_SCAN  \n",
       "123113  NMAP_XMAS_TREE_SCAN  \n",
       "123114  NMAP_XMAS_TREE_SCAN  \n",
       "123115  NMAP_XMAS_TREE_SCAN  \n",
       "123116  NMAP_XMAS_TREE_SCAN  \n",
       "\n",
       "[123117 rows x 85 columns]>"
      ]
     },
     "execution_count": 178,
     "metadata": {},
     "output_type": "execute_result"
    }
   ],
   "source": [
    "mydata.fillna"
   ]
  },
  {
   "cell_type": "code",
   "execution_count": 180,
   "id": "fc253ab3-cd3b-4450-a7f2-fae4acf0cf93",
   "metadata": {},
   "outputs": [],
   "source": [
    "# Sort by index\n",
    "mydata.sort_index(inplace=True)"
   ]
  },
  {
   "cell_type": "code",
   "execution_count": 182,
   "id": "d32c260e-52cf-4788-939a-c62ae85b1198",
   "metadata": {},
   "outputs": [
    {
     "data": {
      "text/plain": [
       "<bound method DataFrame.sort_index of           no  id.orig_p  id.resp_p proto service  flow_duration  fwd_pkts_tot  \\\n",
       "0          0      38667       1883   tcp    mqtt      32.011598             9   \n",
       "1          1      51143       1883   tcp    mqtt      31.883584             9   \n",
       "2          2      44761       1883   tcp    mqtt      32.124053             9   \n",
       "3          3      60893       1883   tcp    mqtt      31.961063             9   \n",
       "4          4      51087       1883   tcp    mqtt      31.902362             9   \n",
       "...      ...        ...        ...   ...     ...            ...           ...   \n",
       "123112  2005      59247      63331   tcp       -       0.000006             1   \n",
       "123113  2006      59247      64623   tcp       -       0.000007             1   \n",
       "123114  2007      59247      64680   tcp       -       0.000006             1   \n",
       "123115  2008      59247      65000   tcp       -       0.000006             1   \n",
       "123116  2009      59247      65129   tcp       -       0.000006             1   \n",
       "\n",
       "        bwd_pkts_tot  fwd_data_pkts_tot  bwd_data_pkts_tot  ...  active.std  \\\n",
       "0                  5                  3                  3  ...         0.0   \n",
       "1                  5                  3                  3  ...         0.0   \n",
       "2                  5                  3                  3  ...         0.0   \n",
       "3                  5                  3                  3  ...         0.0   \n",
       "4                  5                  3                  3  ...         0.0   \n",
       "...              ...                ...                ...  ...         ...   \n",
       "123112             1                  0                  0  ...         0.0   \n",
       "123113             1                  0                  0  ...         0.0   \n",
       "123114             1                  0                  0  ...         0.0   \n",
       "123115             1                  0                  0  ...         0.0   \n",
       "123116             1                  0                  0  ...         0.0   \n",
       "\n",
       "            idle.min      idle.max      idle.tot      idle.avg  idle.std  \\\n",
       "0       2.972918e+07  2.972918e+07  2.972918e+07  2.972918e+07       0.0   \n",
       "1       2.985528e+07  2.985528e+07  2.985528e+07  2.985528e+07       0.0   \n",
       "2       2.984215e+07  2.984215e+07  2.984215e+07  2.984215e+07       0.0   \n",
       "3       2.991377e+07  2.991377e+07  2.991377e+07  2.991377e+07       0.0   \n",
       "4       2.981470e+07  2.981470e+07  2.981470e+07  2.981470e+07       0.0   \n",
       "...              ...           ...           ...           ...       ...   \n",
       "123112  0.000000e+00  0.000000e+00  0.000000e+00  0.000000e+00       0.0   \n",
       "123113  0.000000e+00  0.000000e+00  0.000000e+00  0.000000e+00       0.0   \n",
       "123114  0.000000e+00  0.000000e+00  0.000000e+00  0.000000e+00       0.0   \n",
       "123115  0.000000e+00  0.000000e+00  0.000000e+00  0.000000e+00       0.0   \n",
       "123116  0.000000e+00  0.000000e+00  0.000000e+00  0.000000e+00       0.0   \n",
       "\n",
       "        fwd_init_window_size  bwd_init_window_size  fwd_last_window_size  \\\n",
       "0                      64240                 26847                   502   \n",
       "1                      64240                 26847                   502   \n",
       "2                      64240                 26847                   502   \n",
       "3                      64240                 26847                   502   \n",
       "4                      64240                 26847                   502   \n",
       "...                      ...                   ...                   ...   \n",
       "123112                  1024                     0                  1024   \n",
       "123113                  1024                     0                  1024   \n",
       "123114                  1024                     0                  1024   \n",
       "123115                  1024                     0                  1024   \n",
       "123116                  1024                     0                  1024   \n",
       "\n",
       "                Attack_type  \n",
       "0              MQTT_Publish  \n",
       "1              MQTT_Publish  \n",
       "2              MQTT_Publish  \n",
       "3              MQTT_Publish  \n",
       "4              MQTT_Publish  \n",
       "...                     ...  \n",
       "123112  NMAP_XMAS_TREE_SCAN  \n",
       "123113  NMAP_XMAS_TREE_SCAN  \n",
       "123114  NMAP_XMAS_TREE_SCAN  \n",
       "123115  NMAP_XMAS_TREE_SCAN  \n",
       "123116  NMAP_XMAS_TREE_SCAN  \n",
       "\n",
       "[123117 rows x 85 columns]>"
      ]
     },
     "execution_count": 182,
     "metadata": {},
     "output_type": "execute_result"
    }
   ],
   "source": [
    "mydata.sort_index"
   ]
  },
  {
   "cell_type": "code",
   "execution_count": null,
   "id": "6ad74d43-7be5-4391-a49f-225f4b1e6212",
   "metadata": {},
   "outputs": [],
   "source": []
  },
  {
   "cell_type": "code",
   "execution_count": null,
   "id": "e5f16fb9-a2e9-47bc-900a-ce3d292fe4f6",
   "metadata": {},
   "outputs": [],
   "source": []
  }
 ],
 "metadata": {
  "kernelspec": {
   "display_name": "Python 3 (ipykernel)",
   "language": "python",
   "name": "python3"
  },
  "language_info": {
   "codemirror_mode": {
    "name": "ipython",
    "version": 3
   },
   "file_extension": ".py",
   "mimetype": "text/x-python",
   "name": "python",
   "nbconvert_exporter": "python",
   "pygments_lexer": "ipython3",
   "version": "3.11.5"
  },
  "widgets": {
   "application/vnd.jupyter.widget-state+json": {
    "state": {},
    "version_major": 2,
    "version_minor": 0
   }
  }
 },
 "nbformat": 4,
 "nbformat_minor": 5
}
